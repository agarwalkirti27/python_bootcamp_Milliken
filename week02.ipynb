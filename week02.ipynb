{
 "cells": [
  {
   "cell_type": "code",
   "execution_count": 6,
   "id": "d18fa761",
   "metadata": {},
   "outputs": [
    {
     "name": "stdout",
     "output_type": "stream",
     "text": [
      "2\n",
      "10.9\n",
      "True\n",
      "False\n",
      "There's is a snack in my boot\n",
      "test string!\n"
     ]
    }
   ],
   "source": [
    "#Comments & Basic Data Types\n",
    "\n",
    "# This is a comment\n",
    "\n",
    "print(2)      #INTEGER\n",
    "print(10.9)   #Float\n",
    "print(True)   #Boolean\n",
    "print(False)\n",
    "print(\"There's is a snack in my boot\") #String\n",
    "print('test string!')\n"
   ]
  },
  {
   "cell_type": "code",
   "execution_count": 8,
   "id": "60b6d3ca",
   "metadata": {},
   "outputs": [
    {
     "name": "stdout",
     "output_type": "stream",
     "text": [
      "Kirti Agarwal\n",
      "<class 'type'>\n",
      "<class 'float'>\n"
     ]
    }
   ],
   "source": [
    "# Monday Exercises\n",
    "\n",
    "print(\"Kirti Agarwal\")\n",
    "print(type(int))\n",
    "\n",
    "var1 = 2.6\n",
    "\n",
    "print(type(var1))"
   ]
  },
  {
   "cell_type": "code",
   "execution_count": 12,
   "id": "66efac3d",
   "metadata": {},
   "outputs": [
    {
     "name": "stdout",
     "output_type": "stream",
     "text": [
      "3 3.5\n",
      "True\n",
      "John\n"
     ]
    }
   ],
   "source": [
    "#Variables\n",
    "num1 = 3\n",
    "num2 = 3.5\n",
    "\n",
    "print(num1, num2)\n",
    "\n",
    "#storing a boolean into a variable\n",
    "switch = True\n",
    "print(switch)\n",
    "\n",
    "#storing strings to variable\n",
    "name = \"John\"\n",
    "print(name)\n"
   ]
  },
  {
   "cell_type": "code",
   "execution_count": 13,
   "id": "f6662796",
   "metadata": {},
   "outputs": [
    {
     "name": "stdout",
     "output_type": "stream",
     "text": [
      "6.5\n"
     ]
    }
   ],
   "source": [
    "#using two variables to create another variable\n",
    "\n",
    "result = num1 + num2\n",
    "print(result)"
   ]
  },
  {
   "cell_type": "code",
   "execution_count": 15,
   "id": "ac470468",
   "metadata": {},
   "outputs": [
    {
     "name": "stdout",
     "output_type": "stream",
     "text": [
      "8.5\n",
      "7.5\n",
      "15.0\n",
      "7.5\n"
     ]
    }
   ],
   "source": [
    "#adding, deleting, multiplying, dividing from a variable\n",
    "result+=1\n",
    "print(result)\n",
    "\n",
    "result-=1\n",
    "print(result)\n",
    "\n",
    "result*=2\n",
    "print(result)\n",
    "\n",
    "result/=2\n",
    "print(result)"
   ]
  },
  {
   "cell_type": "code",
   "execution_count": 16,
   "id": "93aa3932",
   "metadata": {},
   "outputs": [
    {
     "name": "stdout",
     "output_type": "stream",
     "text": [
      "Kirti\n",
      "john\n"
     ]
    }
   ],
   "source": [
    "#defining a variable and overwriting it's value\n",
    "name = \"Kirti\"\n",
    "print(name)\n",
    "\n",
    "name = \"john\"\n",
    "print(name)"
   ]
  },
  {
   "cell_type": "code",
   "execution_count": 19,
   "id": "17ca9fd6",
   "metadata": {},
   "outputs": [
    {
     "name": "stdout",
     "output_type": "stream",
     "text": [
      "3 + 10 = 30\n",
      "3354.0764\n"
     ]
    }
   ],
   "source": [
    "#TUESDAY EXERCISE\n",
    "\n",
    "#variable output\n",
    "x = 3\n",
    "y = 10\n",
    "result = x*y\n",
    "print(x,\"+\", y ,\"=\" ,result)\n",
    "\n",
    "\n",
    "#area calculation\n",
    "width = 245.54\n",
    "height = 13.66\n",
    "result = width * height\n",
    "print(result)"
   ]
  },
  {
   "cell_type": "code",
   "execution_count": 23,
   "id": "df6d0d17",
   "metadata": {},
   "outputs": [
    {
     "name": "stdout",
     "output_type": "stream",
     "text": [
      "John Smith\n",
      "John Smith\n"
     ]
    }
   ],
   "source": [
    "#working with and manipulating strings\n",
    "\n",
    "#String concatination\n",
    "#using the addition operator without variables\n",
    "name = \"John\" + \" \" +\"Smith\"\n",
    "print(name)\n",
    "\n",
    "#using the addition operator with variables\n",
    "first_name = \"John\"\n",
    "last_name = \"Smith\"\n",
    "full_name = first_name + \" \" +last_name\n",
    "print(full_name)"
   ]
  },
  {
   "cell_type": "code",
   "execution_count": 27,
   "id": "54cc7347",
   "metadata": {
    "scrolled": true
   },
   "outputs": [
    {
     "name": "stdout",
     "output_type": "stream",
     "text": [
      "Hello, john\n",
      "Hello john, you are 28 old\n"
     ]
    }
   ],
   "source": [
    "# injecting variables using format methods\n",
    "name = \"john\"\n",
    "print(\"Hello, {}\".format(name))\n",
    "age = 28\n",
    "print(\"Hello {}, you are {} old\".format(name, age)) #Replacement Index error if not provided with proper values"
   ]
  },
  {
   "cell_type": "code",
   "execution_count": 28,
   "id": "abcbd045",
   "metadata": {},
   "outputs": [
    {
     "name": "stdout",
     "output_type": "stream",
     "text": [
      "Hello Kirti\n"
     ]
    }
   ],
   "source": [
    "#using the new f string\n",
    "name = \"Kirti\"\n",
    "print(f\"Hello {name}\")"
   ]
  },
  {
   "cell_type": "code",
   "execution_count": 32,
   "id": "3d7ea5d4",
   "metadata": {},
   "outputs": [
    {
     "name": "stdout",
     "output_type": "stream",
     "text": [
      "Hello Kirti\n",
      "Hello, Kirti Agarwal\n"
     ]
    }
   ],
   "source": [
    "#formatting in Python2\n",
    "name = \"Kirti\"\n",
    "print(\"Hello %s\"%name)\n",
    "\n",
    "first_name = \"Kirti\"\n",
    "last_name = \"Agarwal\"\n",
    "print(\"Hello, %s %s\"%(first_name, last_name))"
   ]
  },
  {
   "cell_type": "code",
   "execution_count": 34,
   "id": "a3e9c41d",
   "metadata": {
    "scrolled": true
   },
   "outputs": [
    {
     "name": "stdout",
     "output_type": "stream",
     "text": [
      "K\n",
      "i\n",
      "i\n"
     ]
    }
   ],
   "source": [
    "#using indexes to print each element\n",
    "name = \"Kirti\"\n",
    "print(name[0])\n",
    "print(name[1])\n",
    "print(name[-1])"
   ]
  },
  {
   "cell_type": "code",
   "execution_count": 44,
   "id": "3a6e9ccd",
   "metadata": {
    "scrolled": false
   },
   "outputs": [
    {
     "name": "stdout",
     "output_type": "stream",
     "text": [
      "Ki\n",
      "Kri\n"
     ]
    }
   ],
   "source": [
    "#String slicing\n",
    "name = \"Kirti\"\n",
    "print(name[0:2])\n",
    "\n",
    "print(name[0:5:2])"
   ]
  },
  {
   "cell_type": "markdown",
   "id": "65436481",
   "metadata": {},
   "source": [
    "#WEDNESDAY EXERCISE"
   ]
  },
  {
   "cell_type": "code",
   "execution_count": 45,
   "id": "d45cdddc",
   "metadata": {},
   "outputs": [
    {
     "name": "stdout",
     "output_type": "stream",
     "text": [
      "23 4.5 False John Smith\n"
     ]
    }
   ],
   "source": [
    "#Variable Injection\n",
    "num1 = 23\n",
    "num2 = 4.5\n",
    "switch = False\n",
    "name = \"John Smith\"\n",
    "\n",
    "print(\"{} {} {} {}\".format(num1, num2, switch, name))"
   ]
  },
  {
   "cell_type": "code",
   "execution_count": 49,
   "id": "234c829a",
   "metadata": {},
   "outputs": [
    {
     "name": "stdout",
     "output_type": "stream",
     "text": [
      "Kirti's favorite sports is Badminton.\n",
      "Kirti is working on Python programming!\n"
     ]
    }
   ],
   "source": [
    "#Fill in the blanks\n",
    "#Using the format method, fill in the following blanks by assigning your name and favorite activities into variables:\n",
    "\n",
    "name = \"Kirti\"\n",
    "game_name = \"Badminton\"\n",
    "lang_name = \"Python\"\n",
    "\n",
    "print(\"{}'s favorite sports is {}.\".format(name, game_name))\n",
    "print(\"{} is working on {} programming!\".format(name, lang_name))"
   ]
  },
  {
   "cell_type": "code",
   "execution_count": 53,
   "id": "c96ad5d1",
   "metadata": {},
   "outputs": [
    {
     "name": "stdout",
     "output_type": "stream",
     "text": [
      "Kirti Agarwal\n",
      "kirti\n",
      "KIRTI\n"
     ]
    }
   ],
   "source": [
    "#using the title method to capitalize first letter of the string\n",
    "name = \"kirti agarwal\"\n",
    "print(name.title())\n",
    "name = \"KIRTI\"\n",
    "print(name.lower())\n",
    "name = \"Kirti\"\n",
    "print(name.upper())"
   ]
  },
  {
   "cell_type": "code",
   "execution_count": 54,
   "id": "55631e5b",
   "metadata": {},
   "outputs": [
    {
     "name": "stdout",
     "output_type": "stream",
     "text": [
      "Kirti.\n"
     ]
    }
   ],
   "source": [
    "#replacing an exclamation with a period\n",
    "name = \"Kirti!\"\n",
    "print(name.replace('!','.'))"
   ]
  },
  {
   "cell_type": "code",
   "execution_count": 56,
   "id": "8706c4c5",
   "metadata": {
    "scrolled": true
   },
   "outputs": [
    {
     "name": "stdout",
     "output_type": "stream",
     "text": [
      "5\n",
      "-1\n",
      "16\n"
     ]
    }
   ],
   "source": [
    "#Finding the strting index of our search term\n",
    "sentence = \"Look over the way\"\n",
    "print(sentence.find(\"over\"))\n",
    "print(sentence.find(\"test\"))\n",
    "print(sentence.find(\"y\"))\n"
   ]
  },
  {
   "cell_type": "code",
   "execution_count": 59,
   "id": "177bb75d",
   "metadata": {},
   "outputs": [
    {
     "name": "stdout",
     "output_type": "stream",
     "text": [
      "John.\n",
      " John.\n",
      "John.   \n"
     ]
    }
   ],
   "source": [
    "#removing whitespace with strip\n",
    "name = \" John.   \"\n",
    "print(name.strip())\n",
    "print(name.rstrip())\n",
    "print(name.lstrip())"
   ]
  },
  {
   "cell_type": "code",
   "execution_count": 60,
   "id": "ef26c6ba",
   "metadata": {},
   "outputs": [
    {
     "name": "stdout",
     "output_type": "stream",
     "text": [
      "['I', 'love', 'Python']\n"
     ]
    }
   ],
   "source": [
    "#converting a string into a list of words\n",
    "sentence = \"I love Python\"\n",
    "print(sentence.split(\" \"))"
   ]
  },
  {
   "cell_type": "markdown",
   "id": "fef6c1da",
   "metadata": {},
   "source": [
    "#THURSDAY ECERCISE"
   ]
  },
  {
   "cell_type": "code",
   "execution_count": 62,
   "id": "4741956a",
   "metadata": {},
   "outputs": [
    {
     "name": "stdout",
     "output_type": "stream",
     "text": [
      "UPPERCASE\n"
     ]
    }
   ],
   "source": [
    "#uppercasing\n",
    "st = \"uppercase\"\n",
    "print(st.upper())"
   ]
  },
  {
   "cell_type": "code",
   "execution_count": 63,
   "id": "a0e03b28",
   "metadata": {},
   "outputs": [
    {
     "name": "stdout",
     "output_type": "stream",
     "text": [
      "JohnSmith\n"
     ]
    }
   ],
   "source": [
    "#strip symbols\n",
    "st = \"$$JohnSmith\"\n",
    "print(st.strip(\"$\"))"
   ]
  },
  {
   "cell_type": "markdown",
   "id": "37abd2ed",
   "metadata": {},
   "source": [
    "#FRIDAY PROJECT : Creating a receipt printing program/ PRINTING RECEIPT"
   ]
  },
  {
   "cell_type": "code",
   "execution_count": 66,
   "id": "26a475b2",
   "metadata": {},
   "outputs": [],
   "source": [
    "#create a product and price for 3 items\n",
    "prod_1, prod_1_price = \"Books\", 49.95\n",
    "prod_2, prod_2_price = \"Computer\", 579.99\n",
    "prod_3, prod_3_price = \"Monitor\", 129.89\n",
    "\n",
    "\n"
   ]
  },
  {
   "cell_type": "code",
   "execution_count": 65,
   "id": "ff1fee0b",
   "metadata": {},
   "outputs": [],
   "source": [
    "#Create company name and information\n",
    "company_name = \"learn to code, Inc.\"\n",
    "company_address = \"Block-A, 123\"\n",
    "company_city = \"Bangalore, India\"\n",
    "\n",
    "#declaring message shown to customer\n",
    "\n",
    "message = \"Thanks for shopping with us Today!\""
   ]
  },
  {
   "cell_type": "code",
   "execution_count": 128,
   "id": "d15cd763",
   "metadata": {
    "scrolled": false
   },
   "outputs": [
    {
     "name": "stdout",
     "output_type": "stream",
     "text": [
      "**************************************************\n",
      "*\t\tlearn to code, Inc.\t\t *\n",
      "*\t\tBlock-A, 123\t\t\t *\n",
      "*\t\tBangalore, India\t\t *\n",
      "*================================================*\n",
      "*\tProduct Name\tProduct Price\t\t *\n",
      "*\tBooks\t\t$49.95\t\t\t *\n",
      "*\tComputer\t$579.99\t\t\t *\n",
      "*\tMonitor\t\t$129.89\t\t\t *\n",
      "*================================================*\n",
      "*\t\t\tTotal\t\t\t *\n",
      "*\t\t\t$759.83\t\t\t *\n",
      "*================================================*\n",
      "*\t\t\t\t\t\t *\n",
      "*\tThanks for shopping with us Today!\t *\n",
      "**************************************************\n"
     ]
    }
   ],
   "source": [
    "#Creating the top border\n",
    "print(\"*\" *50)\n",
    "\n",
    "#print company information first using the variables \n",
    "print(\"*\\t\\t{}\\t\\t *\".format(company_name))\n",
    "print(\"*\\t\\t{}\\t\\t\\t *\".format(company_address))\n",
    "print(\"*\\t\\t{}\\t\\t *\".format(company_city))\n",
    "\n",
    "#print a line betweeen the sections\n",
    "print(\"*\" + \"=\" *48 + \"*\")\n",
    "\n",
    "#print out header for section of our items \n",
    "print(\"*\\tProduct Name\\tProduct Price\\t\\t *\")\n",
    "\n",
    "#printing product value and price from variables\n",
    "print(\"*\\t{}\\t\\t${}\\t\\t\\t *\".format(prod_1.title(), prod_1_price))\n",
    "print(\"*\\t{}\\t${}\\t\\t\\t *\".format(prod_2.title(), prod_2_price))\n",
    "print(\"*\\t{}\\t\\t${}\\t\\t\\t *\".format(prod_3.title(), prod_3_price))\n",
    "\n",
    "#print a line between the sections\n",
    "print(\"*\" + \"=\" *48 + \"*\")\n",
    "\n",
    "# print out header for section of total\n",
    "print('*\\t\\t\\tTotal\\t\\t\\t *')\n",
    "\n",
    "#calculate & print total \n",
    "total = prod_1_price+prod_2_price+prod_3_price\n",
    "print(\"*\\t\\t\\t${}\\t\\t\\t *\".format(total))\n",
    "\n",
    "#print  line between the sections\n",
    "print(\"*\" + \"=\" *48 + \"*\")\n",
    "\n",
    "#print customer message\n",
    "print(\"*\\t\\t\\t\\t\\t\\t *\\n*\\t{}\\t *\".format(message))\n",
    "\n",
    "#creatinhg the bottom border\n",
    "print(\"*\"*50)\n",
    "\n",
    "#Weekly challenges\n",
    "\n",
    "#printing side border\n"
   ]
  },
  {
   "cell_type": "code",
   "execution_count": 103,
   "id": "767086b6",
   "metadata": {
    "scrolled": true
   },
   "outputs": [
    {
     "name": "stdout",
     "output_type": "stream",
     "text": [
      "olleH\n"
     ]
    }
   ],
   "source": [
    "#REverse a string with slice method\n",
    "name = \"Hello\"\n",
    "print(name[::-1])"
   ]
  }
 ],
 "metadata": {
  "kernelspec": {
   "display_name": "Python 3 (ipykernel)",
   "language": "python",
   "name": "python3"
  },
  "language_info": {
   "codemirror_mode": {
    "name": "ipython",
    "version": 3
   },
   "file_extension": ".py",
   "mimetype": "text/x-python",
   "name": "python",
   "nbconvert_exporter": "python",
   "pygments_lexer": "ipython3",
   "version": "3.9.7"
  }
 },
 "nbformat": 4,
 "nbformat_minor": 5
}
