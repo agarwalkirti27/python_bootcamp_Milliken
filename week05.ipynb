{
 "cells": [
  {
   "cell_type": "markdown",
   "id": "3c0d5043",
   "metadata": {},
   "source": [
    "#Creating and calling Functions"
   ]
  },
  {
   "cell_type": "code",
   "execution_count": 2,
   "id": "136358cb",
   "metadata": {},
   "outputs": [
    {
     "name": "stdout",
     "output_type": "stream",
     "text": [
      "I am a statemnet printed from a function.\n",
      "I am a statemnet printed from a function.\n"
     ]
    }
   ],
   "source": [
    "#writing the first function\n",
    "def printInfo():\n",
    "    print(\"I am a statemnet printed from a function.\")\n",
    "printInfo()\n",
    "printInfo()"
   ]
  },
  {
   "cell_type": "code",
   "execution_count": 3,
   "id": "a87a5405",
   "metadata": {},
   "outputs": [
    {
     "name": "stdout",
     "output_type": "stream",
     "text": [
      "15\n"
     ]
    }
   ],
   "source": [
    "#performing a calculation in a function\n",
    "def calc():\n",
    "    x, y = 5, 10\n",
    "    print(x + y)\n",
    "calc()"
   ]
  },
  {
   "cell_type": "markdown",
   "id": "0da1c2ac",
   "metadata": {},
   "source": [
    "#MONDAY EXERCISE"
   ]
  },
  {
   "cell_type": "code",
   "execution_count": 4,
   "id": "ac91fc59",
   "metadata": {},
   "outputs": [
    {
     "name": "stdout",
     "output_type": "stream",
     "text": [
      "Hello! My name is xyz.\n"
     ]
    }
   ],
   "source": [
    "# Print Name: Define a function called myName, and have it print out your name\n",
    "# when called.\n",
    "\n",
    "def myName():\n",
    "    print(\"Hello! My name is xyz.\")\n",
    "myName()"
   ]
  },
  {
   "cell_type": "code",
   "execution_count": 6,
   "id": "39fc537f",
   "metadata": {},
   "outputs": [
    {
     "name": "stdout",
     "output_type": "stream",
     "text": [
      "My favourite pizza toppings are: \n",
      "Mushrooms\n",
      "Pepperoni\n"
     ]
    }
   ],
   "source": [
    "# Pizza Toppings: Define a function that prints out all your favorite pizza toppings\n",
    "# called pizzaToppings. Call the function three times.\n",
    "\n",
    "\n",
    "def pizzaToppings():\n",
    "    print(\"My favourite pizza toppings are: \")\n",
    "    print(\"Mushrooms\")\n",
    "    print(\"Pepperoni\")\n",
    "pizzaToppings()"
   ]
  },
  {
   "cell_type": "markdown",
   "id": "9cf1226b",
   "metadata": {},
   "source": [
    "#Parameters"
   ]
  },
  {
   "cell_type": "code",
   "execution_count": 9,
   "id": "6ef02a22",
   "metadata": {},
   "outputs": [
    {
     "name": "stdout",
     "output_type": "stream",
     "text": [
      "My Full Name is John Smith\n"
     ]
    }
   ],
   "source": [
    "#passing a single parameter in a function\n",
    "\n",
    "def printName(fullName):\n",
    "    print(\"My Full Name is {}\".format(fullName))\n",
    "          \n",
    "printName(\"John Smith\")"
   ]
  },
  {
   "cell_type": "code",
   "execution_count": 11,
   "id": "8d44b591",
   "metadata": {},
   "outputs": [
    {
     "name": "stdout",
     "output_type": "stream",
     "text": [
      "6\n"
     ]
    }
   ],
   "source": [
    "#passing multiple parameterds in a function \n",
    "\n",
    "def calc(x, y):\n",
    "    print(x+y)\n",
    "calc(2, 4)"
   ]
  },
  {
   "cell_type": "code",
   "execution_count": 13,
   "id": "e2e53a6b",
   "metadata": {},
   "outputs": [
    {
     "name": "stdout",
     "output_type": "stream",
     "text": [
      "1\n",
      "4\n",
      "9\n",
      "16\n"
     ]
    }
   ],
   "source": [
    "#using a function to square all the info\n",
    "\n",
    "numbers1 = [1, 2, 3, 4]\n",
    "\n",
    "def square(nums):\n",
    "    for item in nums:\n",
    "        print(item**2)\n",
    "square(numbers1)"
   ]
  },
  {
   "cell_type": "code",
   "execution_count": 15,
   "id": "d7643d64",
   "metadata": {},
   "outputs": [
    {
     "name": "stdout",
     "output_type": "stream",
     "text": [
      "28.26\n"
     ]
    }
   ],
   "source": [
    "#Default Parameters\n",
    "\n",
    "def calcArea(r, pi=3.14):\n",
    "    print(pi*r**2)\n",
    "    \n",
    "calcArea(3)\n",
    "    "
   ]
  },
  {
   "cell_type": "code",
   "execution_count": 20,
   "id": "246cf8bc",
   "metadata": {
    "scrolled": true
   },
   "outputs": [
    {
     "name": "stdout",
     "output_type": "stream",
     "text": [
      "first last\n",
      "first middle last\n"
     ]
    }
   ],
   "source": [
    "#setting default parameters value\n",
    "\n",
    "def printName(first_name, last_name, middle_name=\"\"):\n",
    "    if middle_name:\n",
    "        print(\"{} {} {}\".format(first_name, middle_name, last_name))\n",
    "    else:\n",
    "        print(\"{} {}\".format(first_name, last_name))\n",
    "        \n",
    "printName(\"first\", \"last\")\n",
    "printName(\"first\", \"last\", \"middle\")"
   ]
  },
  {
   "cell_type": "code",
   "execution_count": 27,
   "id": "02019e38",
   "metadata": {},
   "outputs": [
    {
     "name": "stdout",
     "output_type": "stream",
     "text": [
      "7\n",
      "7\n"
     ]
    }
   ],
   "source": [
    "#explicitly defining the values to parameters by referencing the name\n",
    "def addNums(num1, num2):\n",
    "    print(num1+num2)\n",
    "   \n",
    "addNums(4, num2= 3)\n",
    "addNums(num1 =4, num2= 3)\n",
    "\n",
    "    "
   ]
  },
  {
   "cell_type": "code",
   "execution_count": 26,
   "id": "808eccc7",
   "metadata": {},
   "outputs": [
    {
     "ename": "SyntaxError",
     "evalue": "positional argument follows keyword argument (4108130416.py, line 2)",
     "output_type": "error",
     "traceback": [
      "\u001b[0;36m  File \u001b[0;32m\"/var/folders/1v/wx6x1txd7l3c9b7xf79449hm0000gn/T/ipykernel_40743/4108130416.py\"\u001b[0;36m, line \u001b[0;32m2\u001b[0m\n\u001b[0;31m    addNums(num1 =4,3)\u001b[0m\n\u001b[0m                     ^\u001b[0m\n\u001b[0;31mSyntaxError\u001b[0m\u001b[0;31m:\u001b[0m positional argument follows keyword argument\n"
     ]
    }
   ],
   "source": [
    "#error scnario  \"positional argument follows keyword argument\"\n",
    "addNums(num1 =4,3)"
   ]
  },
  {
   "cell_type": "code",
   "execution_count": 30,
   "id": "fb58b876",
   "metadata": {},
   "outputs": [
    {
     "name": "stdout",
     "output_type": "stream",
     "text": [
      "<class 'tuple'>\n",
      "ty, 5\n",
      "<class 'tuple'>\n",
      "John\n"
     ]
    }
   ],
   "source": [
    "#using args as to take input params\n",
    "# That’s because we have two parameters in the function definition, name and\n",
    "# *args. The first argument in the function call is mapped to the name parameter, and the\n",
    "# rest are inserted into the args tuple. This is a useful mechanism when you’re not sure\n",
    "# how many arguments to expect.\n",
    "\n",
    "def printData(name , *args):\n",
    "    print(type(args))\n",
    "    for arg in args:\n",
    "        print(arg)\n",
    "printData(\"John\", \"ty, 5\")\n",
    "printData(\"KA\", \"John\")"
   ]
  },
  {
   "cell_type": "code",
   "execution_count": 36,
   "id": "05458a0d",
   "metadata": {
    "scrolled": true
   },
   "outputs": [
    {
     "name": "stdout",
     "output_type": "stream",
     "text": [
      "John\n",
      "23\n"
     ]
    }
   ],
   "source": [
    "#using kwargs parameter to take in a dictionary of arbitrary values\n",
    "def outputData(**kwargs):\n",
    "    print(kwargs[\"name\"])\n",
    "    print(kwargs[\"age\"])\n",
    "    \n",
    "outputData(name= \"John\", age= 23)\n",
    "\n",
    "    "
   ]
  },
  {
   "cell_type": "code",
   "execution_count": 35,
   "id": "2e0e828d",
   "metadata": {},
   "outputs": [
    {
     "name": "stdout",
     "output_type": "stream",
     "text": [
      "John\n"
     ]
    },
    {
     "ename": "KeyError",
     "evalue": "'age'",
     "output_type": "error",
     "traceback": [
      "\u001b[0;31m---------------------------------------------------------------------------\u001b[0m",
      "\u001b[0;31mKeyError\u001b[0m                                  Traceback (most recent call last)",
      "\u001b[0;32m/var/folders/1v/wx6x1txd7l3c9b7xf79449hm0000gn/T/ipykernel_40743/1483681722.py\u001b[0m in \u001b[0;36m<module>\u001b[0;34m\u001b[0m\n\u001b[1;32m      1\u001b[0m \u001b[0;31m#Error : Key error scenario\u001b[0m\u001b[0;34m\u001b[0m\u001b[0;34m\u001b[0m\u001b[0m\n\u001b[0;32m----> 2\u001b[0;31m \u001b[0moutputData\u001b[0m\u001b[0;34m(\u001b[0m\u001b[0mname\u001b[0m\u001b[0;34m=\u001b[0m \u001b[0;34m\"John\"\u001b[0m\u001b[0;34m)\u001b[0m\u001b[0;34m\u001b[0m\u001b[0;34m\u001b[0m\u001b[0m\n\u001b[0m",
      "\u001b[0;32m/var/folders/1v/wx6x1txd7l3c9b7xf79449hm0000gn/T/ipykernel_40743/2127406324.py\u001b[0m in \u001b[0;36moutputData\u001b[0;34m(**kwargs)\u001b[0m\n\u001b[1;32m      2\u001b[0m \u001b[0;32mdef\u001b[0m \u001b[0moutputData\u001b[0m\u001b[0;34m(\u001b[0m\u001b[0;34m**\u001b[0m\u001b[0mkwargs\u001b[0m\u001b[0;34m)\u001b[0m\u001b[0;34m:\u001b[0m\u001b[0;34m\u001b[0m\u001b[0;34m\u001b[0m\u001b[0m\n\u001b[1;32m      3\u001b[0m     \u001b[0mprint\u001b[0m\u001b[0;34m(\u001b[0m\u001b[0mkwargs\u001b[0m\u001b[0;34m[\u001b[0m\u001b[0;34m\"name\"\u001b[0m\u001b[0;34m]\u001b[0m\u001b[0;34m)\u001b[0m\u001b[0;34m\u001b[0m\u001b[0;34m\u001b[0m\u001b[0m\n\u001b[0;32m----> 4\u001b[0;31m     \u001b[0mprint\u001b[0m\u001b[0;34m(\u001b[0m\u001b[0mkwargs\u001b[0m\u001b[0;34m[\u001b[0m\u001b[0;34m\"age\"\u001b[0m\u001b[0;34m]\u001b[0m\u001b[0;34m)\u001b[0m\u001b[0;34m\u001b[0m\u001b[0;34m\u001b[0m\u001b[0m\n\u001b[0m\u001b[1;32m      5\u001b[0m \u001b[0;34m\u001b[0m\u001b[0m\n\u001b[1;32m      6\u001b[0m \u001b[0moutputData\u001b[0m\u001b[0;34m(\u001b[0m\u001b[0mname\u001b[0m\u001b[0;34m=\u001b[0m \u001b[0;34m\"John\"\u001b[0m\u001b[0;34m,\u001b[0m \u001b[0mage\u001b[0m\u001b[0;34m=\u001b[0m \u001b[0;36m23\u001b[0m\u001b[0;34m)\u001b[0m\u001b[0;34m\u001b[0m\u001b[0;34m\u001b[0m\u001b[0m\n",
      "\u001b[0;31mKeyError\u001b[0m: 'age'"
     ]
    }
   ],
   "source": [
    "#Error : Key error scenario\n",
    "outputData(name= \"John\")"
   ]
  },
  {
   "cell_type": "markdown",
   "id": "d119c924",
   "metadata": {},
   "source": [
    "#Tuesday Exercises"
   ]
  },
  {
   "cell_type": "code",
   "execution_count": 1,
   "id": "00d76427",
   "metadata": {},
   "outputs": [
    {
     "name": "stdout",
     "output_type": "stream",
     "text": [
      "Please input a wordwe\n",
      "False\n"
     ]
    }
   ],
   "source": [
    "# User Input: Ask the user to input a word, and pass that word into a function\n",
    "# that checks if the word starts with an uppercase. If it does output “True”,\n",
    "# otherwise “False”.\n",
    "\n",
    "name = input(\"Please input a word\")\n",
    "\n",
    "if name[0].isupper():\n",
    "    print(\"True\")\n",
    "else:\n",
    "    print(\"False\")"
   ]
  },
  {
   "cell_type": "code",
   "execution_count": 7,
   "id": "c0d9ee3c",
   "metadata": {},
   "outputs": [
    {
     "name": "stdout",
     "output_type": "stream",
     "text": [
      "No name passed in\n",
      "K A\n"
     ]
    }
   ],
   "source": [
    "# No Name: Define a function that takes in two arguments, first_name and last_\n",
    "# name, and makes both optional. If no values are passed into the parameters, it\n",
    "# should output “No name passed in”; otherwise, it should print out the name.\n",
    "\n",
    "\n",
    "def printName(firstName = '', lastName =''):\n",
    "    if not firstName and not lastName:\n",
    "        print(\"No name passed in\")\n",
    "    else:\n",
    "        print(\"{} {}\".format(firstName, lastName))\n",
    "        \n",
    "printName()\n",
    "printName(\"K\", \"A\")"
   ]
  },
  {
   "cell_type": "markdown",
   "id": "efabd4c7",
   "metadata": {},
   "source": [
    "#Return Statement"
   ]
  },
  {
   "cell_type": "code",
   "execution_count": 8,
   "id": "3f44389a",
   "metadata": {},
   "outputs": [
    {
     "name": "stdout",
     "output_type": "stream",
     "text": [
      "6\n",
      "20\n"
     ]
    }
   ],
   "source": [
    "#using return keyword to return the statement of two functions\n",
    "def addNums(num1, num2):\n",
    "    return num1+num2\n",
    "num = addNums(2, 4)\n",
    "print(num)\n",
    "print(addNums(10, 10))"
   ]
  },
  {
   "cell_type": "code",
   "execution_count": 12,
   "id": "e176e172",
   "metadata": {},
   "outputs": [
    {
     "data": {
      "text/plain": [
       "False"
      ]
     },
     "execution_count": 12,
     "metadata": {},
     "output_type": "execute_result"
    }
   ],
   "source": [
    "#shorthand syntax using return statement\n",
    "def searchList(aList, el):\n",
    "    return True if el in aList else False\n",
    "\n",
    "searchList([1, 2, 3, 4], 2)\n",
    "\n",
    "searchList([1, 2, 3, 4], 6)\n",
    "    "
   ]
  },
  {
   "cell_type": "markdown",
   "id": "926ea456",
   "metadata": {},
   "source": [
    "#WEDNESDAY EXERCISE"
   ]
  },
  {
   "cell_type": "code",
   "execution_count": 14,
   "id": "16748282",
   "metadata": {},
   "outputs": [
    {
     "data": {
      "text/plain": [
       "'KA'"
      ]
     },
     "execution_count": 14,
     "metadata": {},
     "output_type": "execute_result"
    }
   ],
   "source": [
    "# Full Name: Create a function that takes in a first and last name and returns the\n",
    "# two names joined together.\n",
    "\n",
    "def printName(fName, lName):\n",
    "    return fName+lName    \n",
    "printName('K', 'A')"
   ]
  },
  {
   "cell_type": "code",
   "execution_count": 18,
   "id": "eb7ac20e",
   "metadata": {},
   "outputs": [
    {
     "name": "stdout",
     "output_type": "stream",
     "text": [
      "Enter the name: John\n",
      "John\n"
     ]
    }
   ],
   "source": [
    "# User Input: Within a function, ask for user input. Have this function return that\n",
    "# input to be stored in a variable outside of the function. Then print out the input.\n",
    "\n",
    "\n",
    "def takeInput():\n",
    "    inp = input(\"Enter the name: \")\n",
    "    return inp\n",
    "    \n",
    "name = takeInput()\n",
    "print(name)"
   ]
  },
  {
   "cell_type": "markdown",
   "id": "b0eddc0b",
   "metadata": {},
   "source": [
    "Scope"
   ]
  },
  {
   "cell_type": "code",
   "execution_count": 20,
   "id": "f57ced20",
   "metadata": {},
   "outputs": [
    {
     "ename": "UnboundLocalError",
     "evalue": "local variable 'number' referenced before assignment",
     "output_type": "error",
     "traceback": [
      "\u001b[0;31m---------------------------------------------------------------------------\u001b[0m",
      "\u001b[0;31mUnboundLocalError\u001b[0m                         Traceback (most recent call last)",
      "\u001b[0;32m/var/folders/1v/wx6x1txd7l3c9b7xf79449hm0000gn/T/ipykernel_57667/2953086130.py\u001b[0m in \u001b[0;36m<module>\u001b[0;34m\u001b[0m\n\u001b[1;32m      5\u001b[0m     \u001b[0mnumber\u001b[0m\u001b[0;34m+=\u001b[0m\u001b[0;36m1\u001b[0m \u001b[0;31m#not accessible due to functional level scope\u001b[0m\u001b[0;34m\u001b[0m\u001b[0;34m\u001b[0m\u001b[0m\n\u001b[1;32m      6\u001b[0m \u001b[0;34m\u001b[0m\u001b[0m\n\u001b[0;32m----> 7\u001b[0;31m \u001b[0mnum\u001b[0m\u001b[0;34m(\u001b[0m\u001b[0;34m)\u001b[0m\u001b[0;34m\u001b[0m\u001b[0;34m\u001b[0m\u001b[0m\n\u001b[0m",
      "\u001b[0;32m/var/folders/1v/wx6x1txd7l3c9b7xf79449hm0000gn/T/ipykernel_57667/2953086130.py\u001b[0m in \u001b[0;36mnum\u001b[0;34m()\u001b[0m\n\u001b[1;32m      3\u001b[0m \u001b[0;34m\u001b[0m\u001b[0m\n\u001b[1;32m      4\u001b[0m \u001b[0;32mdef\u001b[0m \u001b[0mnum\u001b[0m\u001b[0;34m(\u001b[0m\u001b[0;34m)\u001b[0m\u001b[0;34m:\u001b[0m\u001b[0;34m\u001b[0m\u001b[0;34m\u001b[0m\u001b[0m\n\u001b[0;32m----> 5\u001b[0;31m     \u001b[0mnumber\u001b[0m\u001b[0;34m+=\u001b[0m\u001b[0;36m1\u001b[0m \u001b[0;31m#not accessible due to functional level scope\u001b[0m\u001b[0;34m\u001b[0m\u001b[0;34m\u001b[0m\u001b[0m\n\u001b[0m\u001b[1;32m      6\u001b[0m \u001b[0;34m\u001b[0m\u001b[0m\n\u001b[1;32m      7\u001b[0m \u001b[0mnum\u001b[0m\u001b[0;34m(\u001b[0m\u001b[0;34m)\u001b[0m\u001b[0;34m\u001b[0m\u001b[0;34m\u001b[0m\u001b[0m\n",
      "\u001b[0;31mUnboundLocalError\u001b[0m: local variable 'number' referenced before assignment"
     ]
    }
   ],
   "source": [
    "#where global variables can be accessed\n",
    "number = 5\n",
    "\n",
    "def num():\n",
    "    number+=1 #not accessible due to functional level scope\n",
    "    \n",
    "num()"
   ]
  },
  {
   "cell_type": "code",
   "execution_count": 21,
   "id": "c653406d",
   "metadata": {},
   "outputs": [
    {
     "name": "stdout",
     "output_type": "stream",
     "text": [
      "Function\n"
     ]
    }
   ],
   "source": [
    "#accessing variable defined inside a function\n",
    "\n",
    "def scopeTest():\n",
    "    word = 'Function'\n",
    "    return word\n",
    "value = scopeTest()\n",
    "print(value)\n",
    "    "
   ]
  },
  {
   "cell_type": "code",
   "execution_count": 22,
   "id": "d21813c0",
   "metadata": {},
   "outputs": [
    {
     "name": "stdout",
     "output_type": "stream",
     "text": [
      "Before Altering:: ['Football', 'Volleyball', 'Badminton', 'Soccer']\n",
      "After Altering:: ['Football', 'Test', 'Badminton', 'Soccer']\n"
     ]
    }
   ],
   "source": [
    "#changing list item value by it's index\n",
    "\n",
    "sports = [\"Football\", \"Volleyball\", \"Badminton\", \"Soccer\"]\n",
    "\n",
    "def change(aList):\n",
    "    aList[1] = \"Test\"\n",
    "    \n",
    "print(\"Before Altering:: {}\".format(sports))\n",
    "\n",
    "change(sports)\n",
    "\n",
    "print(\"After Altering:: {}\".format(sports))\n",
    "    \n",
    "    \n",
    "#This is called inplace Algorithm"
   ]
  },
  {
   "cell_type": "code",
   "execution_count": 28,
   "id": "43ec2f4b",
   "metadata": {},
   "outputs": [
    {
     "name": "stdout",
     "output_type": "stream",
     "text": [
      "['Bob', 'Bill', 'Amanda']\n",
      "error list assignment index out of range\n"
     ]
    }
   ],
   "source": [
    "# Names: Create a function that will change the list passed in with a parameter\n",
    "# of name at a given index. Such that if I were to pass in “Bill” and index 1,\n",
    "# it would change “Rich” to “Bill.” Use the list and function definition in the\n",
    "# following:\n",
    "# >>> names = ['Bob', 'Rich', 'Amanda']\n",
    "# >>> def changeValue(aList, name, index):\n",
    "\n",
    "names = ['Bob', 'Rich', 'Amanda']\n",
    "\n",
    "def changeValue(aList, name, index):\n",
    "    try:\n",
    "        names[index] = name\n",
    "    except IndexError as error:\n",
    "        print(\"error {}\".format(error))\n",
    "\n",
    "        \n",
    "changeValue(names, \"Bill\", 1)\n",
    "print(names)\n",
    "\n",
    "changeValue(names, \"Bill\", 8)"
   ]
  },
  {
   "cell_type": "markdown",
   "id": "92a69fc6",
   "metadata": {},
   "source": [
    "#Friday Project: Creating a Shopping Cart.”"
   ]
  },
  {
   "cell_type": "code",
   "execution_count": null,
   "id": "5828502d",
   "metadata": {
    "scrolled": true
   },
   "outputs": [
    {
     "name": "stdout",
     "output_type": "stream",
     "text": [
      "item Tea has been removed\n"
     ]
    }
   ],
   "source": [
    "#import necessary functions\n",
    "from IPython.display import clear_output\n",
    "\n",
    "#global list variable\n",
    "cart = []\n",
    "\n",
    "#create a function to add items\n",
    "\n",
    "def add(item):\n",
    "    clear_output()\n",
    "    cart.append(item)\n",
    "    print(\"item {} has been added\".format(item))\n",
    "    \n",
    "#create function remove item from the cart\n",
    "def remove(item):\n",
    "    clear_output()\n",
    "    try:\n",
    "        if item.isdigit():\n",
    "            item_removed = cart.pop(int(item)-1)\n",
    "            print(\"item {} has been removed\".format(item_removed))\n",
    "        else:\n",
    "            cart.remove(item)\n",
    "            print('{} has been removed.'.format(item))\n",
    "    except:\n",
    "        print(\"Sorry, we can't remove the item\".format(item_removed))\n",
    "  \n",
    "   \n",
    "#create function to show item in the cart\n",
    "def show():\n",
    "    clear_output()\n",
    "    if cart:\n",
    "        print(\"Here is your cart: \")\n",
    "        \n",
    "        for i in range(0, len(cart)):\n",
    "            print(\"{}) {}\".format(i+1, cart[i]))\n",
    "    else:\n",
    "        print(\"Your cart is empty.\")\n",
    "        \n",
    "    \n",
    "    \n",
    "#create function to clear the cart\n",
    "def clearCart():\n",
    "    clear_output()\n",
    "    cart.clear()\n",
    "    print(\"Your cart is empty.\")\n",
    "    \n",
    "\n",
    "    \n",
    "#create main function for loop until user quits\n",
    "def main():\n",
    "    done = False\n",
    "    while not done:\n",
    "        ans = input(\"quit/add/remove/show/clear\").lower()\n",
    "        \n",
    "        #base case\n",
    "        if ans == \"quit\":\n",
    "            print(\"Thanks for using our program.\")\n",
    "            show()\n",
    "            done = True\n",
    "        elif ans == \"add\":\n",
    "            item = input(\"What would you like to add? \").title()\n",
    "            add(item)\n",
    "        elif ans == \"remove\":\n",
    "            show()\n",
    "            item = input(\"What would you like to remove? \").title()\n",
    "            remove(item)\n",
    "        elif ans == \"show\":\n",
    "            show()\n",
    "        elif ans == \"clear\":\n",
    "            clearCart()\n",
    "        else: \n",
    "            print(\"Sorry, that wasn't an option\")\n",
    "           \n",
    "            \n",
    "main() #run the program \n",
    "\n",
    "    \n"
   ]
  },
  {
   "cell_type": "code",
   "execution_count": null,
   "id": "82ef81a7",
   "metadata": {},
   "outputs": [
    {
     "name": "stdout",
     "output_type": "stream",
     "text": [
      "Your guessed letters: []\n",
      "word to guess: _ _ _ _ _ _\n",
      "Lives: 7\n"
     ]
    }
   ],
   "source": [
    "# Refactor Hangman: This is a large task, so tread lightly, but try\n",
    "# to refactor the Hangman project from last week to use functions.\n",
    "# Think about what actions Hangman requires, and turn those tasks\n",
    "# into functions.\n",
    "\n",
    "\n",
    "from random import choice\n",
    "from IPython.display import clear_output\n",
    "\n",
    "def checkGameCondition(lives, guesses, word):\n",
    "    if lives <= 0:\n",
    "        print('You lost all your lives, you lost!')\n",
    "        return True\n",
    "    elif word == ''.join(guesses):\n",
    "        print('Congratulations, you guessed it correctly!')\n",
    "        return True\n",
    "        \n",
    "    return False\n",
    "\n",
    "def checkGuess(ans, word, guesses, guessed, lives):\n",
    "    game_over = False\n",
    "    \n",
    "    if ans == 'quit':\n",
    "        print('Thanks for playing.')\n",
    "        game_over = True\n",
    "    elif ans in word and ans not in guessed:\n",
    "        print('You guessed correctly!')\n",
    "\n",
    "        # create a loop to change underscore to proper letter\n",
    "        for i in range(len(word)):\n",
    "            if word[i] == ans:\n",
    "                guesses[i] = ans\n",
    "    elif ans in guessed:\n",
    "        print('You already guessed that. Try again.')\n",
    "    else:                 # otherwise lose life\n",
    "        lives -= 1\n",
    "        print('Incorrect, you lost a life.')\n",
    "\n",
    "    if ans not in guessed:\n",
    "        guessed.append(ans)    # add guess to guessed list\n",
    "        \n",
    "    return game_over, guesses, guessed, lives\n",
    "    \n",
    "\n",
    "def outputGameInfo(guesses, guessed, lives):\n",
    "    hidden_word = \" \".join(guesses)\n",
    "    print(\"Your guessed letters: {}\".format(guessed))\n",
    "    print(\"word to guess: {}\".format(hidden_word))\n",
    "    print(\"Lives: {}\".format(lives))\n",
    "\n",
    "def gamePlay():\n",
    "    words = [\"python\", \"tree\", \"book\", \"chair\", \"random\", \"special\"]\n",
    "    word = choice(words) #randomly chooses a word from words list\n",
    "    guessed, lives, game_over = [], 7, False; #multivariable assignment\n",
    "\n",
    "    #create a list of _ with the length of randomly generated number\n",
    "    guesses = [\"_\"] * len(word)\n",
    "    \n",
    "    while not game_over:\n",
    "        outputGameInfo(guesses, guessed, lives)\n",
    "        ans = input(\"Type quit or guess a letter: \").lower()\n",
    "        \n",
    "        clear_output()\n",
    "        \n",
    "        game_over, guesses, guessed, lives = checkGuess(ans, word, guesses, guessed, lives)\n",
    "\n",
    "        game_over = checkGameCondition(lives, guesses, word)\n",
    "        \n",
    "gamePlay()\n",
    "\n",
    "        "
   ]
  },
  {
   "cell_type": "code",
   "execution_count": null,
   "id": "6afd2f99",
   "metadata": {},
   "outputs": [],
   "source": [
    "# Removing by Index: In the shopping cart program, set up the\n",
    "# remove function so that you can remove via the index as well. Set\n",
    "# the list up so that it prints out as a numbered list, and when asked\n",
    "# to remove an item, the user can also type out a number next to\n",
    "# the list item. For example, using the following you can type “1” to\n",
    "# remove “Grapes”:\n",
    "# >>> 1) Grapes\n",
    "# >>> What would you like to remove? 1\n",
    "\n"
   ]
  }
 ],
 "metadata": {
  "kernelspec": {
   "display_name": "Python 3 (ipykernel)",
   "language": "python",
   "name": "python3"
  },
  "language_info": {
   "codemirror_mode": {
    "name": "ipython",
    "version": 3
   },
   "file_extension": ".py",
   "mimetype": "text/x-python",
   "name": "python",
   "nbconvert_exporter": "python",
   "pygments_lexer": "ipython3",
   "version": "3.9.7"
  }
 },
 "nbformat": 4,
 "nbformat_minor": 5
}
