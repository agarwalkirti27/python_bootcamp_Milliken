{
 "cells": [
  {
   "cell_type": "markdown",
   "id": "fe436220",
   "metadata": {},
   "source": [
    "#creating and instantiating a class"
   ]
  },
  {
   "cell_type": "code",
   "execution_count": 5,
   "id": "c3305bef",
   "metadata": {},
   "outputs": [
    {
     "name": "stdout",
     "output_type": "stream",
     "text": [
      "<class 'type'>\n",
      "8781825640711\n",
      "8781825640933\n"
     ]
    }
   ],
   "source": [
    "#creating your first class\n",
    "class car():\n",
    "    pass\n",
    "\n",
    "ford = car()\n",
    "subaru = car()\n",
    "print(type(car))\n",
    "print(hash(ford))\n",
    "print(hash(subaru))"
   ]
  },
  {
   "cell_type": "code",
   "execution_count": null,
   "id": "e38e8ee6",
   "metadata": {},
   "outputs": [],
   "source": [
    "#MONDAY EXERCISES \n",
    "# Animals: Create a class called “Animals,” and create two instances from it. Use\n",
    "# two variables with names of “lion” and “tiger.”\n",
    "\n",
    "class Animals():\n",
    "    \n",
    "lion = Animals()\n",
    "tiger = Animals()"
   ]
  },
  {
   "cell_type": "code",
   "execution_count": 7,
   "id": "cb2db82e",
   "metadata": {},
   "outputs": [],
   "source": [
    "# Problem-Solving: What’s wrong with the following code?\n",
    "# >>> class Bus:\n",
    "# >>> pass\n",
    "# >>> school_bus = Bus( )\n",
    "\n",
    "#correct code :\n",
    "class Bus():\n",
    "    pass\n",
    "school_bus = Bus( )\n",
    "    "
   ]
  },
  {
   "cell_type": "markdown",
   "id": "c55bd280",
   "metadata": {},
   "source": [
    "#Attributes"
   ]
  },
  {
   "cell_type": "code",
   "execution_count": 8,
   "id": "206f165b",
   "metadata": {},
   "outputs": [
    {
     "name": "stdout",
     "output_type": "stream",
     "text": [
      "red\n"
     ]
    }
   ],
   "source": [
    "#how to define a class attribute\n",
    "\n",
    "class Car():\n",
    "    sound = \"beep\"\n",
    "    \n",
    "    color = \"red\"\n",
    "\n",
    "ford = Car()\n",
    "print(ford.color) #known as dot syntax"
   ]
  },
  {
   "cell_type": "code",
   "execution_count": 9,
   "id": "a97d8408",
   "metadata": {},
   "outputs": [
    {
     "name": "stdout",
     "output_type": "stream",
     "text": [
      "red\n",
      "Blue\n"
     ]
    }
   ],
   "source": [
    "#changing the vlaue of an attribute\n",
    "class Car():\n",
    "    sound = \"beep\"\n",
    "    color = \"red\"\n",
    "    \n",
    "ford = Car()\n",
    "\n",
    "print(ford.color)\n",
    "\n",
    "ford.color = \"Blue\"\n",
    "\n",
    "print(ford.color)"
   ]
  },
  {
   "cell_type": "code",
   "execution_count": 14,
   "id": "c252055d",
   "metadata": {},
   "outputs": [
    {
     "name": "stdout",
     "output_type": "stream",
     "text": [
      "Blue\n"
     ]
    }
   ],
   "source": [
    "#using init method to give instances a personalized value upon objecr creation\n",
    "\n",
    "class Car():\n",
    "    def __init__(self, color):\n",
    "        self.color = color\n",
    "        \n",
    "ford = Car(\"Blue\")\n",
    "print(ford.color)\n"
   ]
  },
  {
   "cell_type": "code",
   "execution_count": 16,
   "id": "4dbec1eb",
   "metadata": {},
   "outputs": [
    {
     "name": "stdout",
     "output_type": "stream",
     "text": [
      "Blue 2016\n",
      "Red 2018\n"
     ]
    }
   ],
   "source": [
    "#defining different values for multiple instances\n",
    "class Car():\n",
    "    def __init__(self, color, year):\n",
    "        self.color = color\n",
    "        self.year = year\n",
    "        \n",
    "ford = Car(\"Blue\", 2016)\n",
    "subaru = Car(\"Red\", 2018)\n",
    "\n",
    "print(ford.color, ford.year)\n",
    "print(subaru.color, subaru.year)\n"
   ]
  },
  {
   "cell_type": "code",
   "execution_count": 18,
   "id": "cafed4b5",
   "metadata": {},
   "outputs": [
    {
     "name": "stdout",
     "output_type": "stream",
     "text": [
      "beep\n",
      "2016\n",
      "beep\n"
     ]
    }
   ],
   "source": [
    "#GLOBAL vs Instance Variable\n",
    "# If an attribute is declared inside of a class,\n",
    "# but not within the init method, then it is known as a global attribute. Any attributes\n",
    "# declared within the init method using the self keyword are instance attributes.\n",
    "\n",
    "#using and accessing GLOBAL class variables\n",
    "\n",
    "class Car():\n",
    "    sound = \"beep\"\n",
    "    \n",
    "    def __init__(self, year):\n",
    "        self.year = year\n",
    "        \n",
    "print(Car.sound)\n",
    "\n",
    "#print(Car.year)   won't work as year is only available to the instances of the Car class\n",
    "        \n",
    "ford = Car(2016)\n",
    "\n",
    "\n",
    "\n",
    "print(ford.year)\n",
    "print(ford.sound)"
   ]
  },
  {
   "cell_type": "markdown",
   "id": "40f1eec4",
   "metadata": {},
   "source": [
    "#TUESDAY EXERCISE"
   ]
  },
  {
   "cell_type": "code",
   "execution_count": 21,
   "id": "1cf69aec",
   "metadata": {},
   "outputs": [
    {
     "name": "stdout",
     "output_type": "stream",
     "text": [
      "Canine\n"
     ]
    }
   ],
   "source": [
    "# Dogs: Create a Dog class that has one global attribute and two instance level\n",
    "# attributes. The global attribute should be “species” with a value of “Canine.”\n",
    "# The two instance attributes should be “name” and “breed.” Then instantiate\n",
    "# two dog objects, a Husky named Sammi and a Chocolate Lab named Casey.\n",
    "\n",
    "\n",
    "class Dog():\n",
    "    species = \"Canine\"\n",
    "    \n",
    "    def __init__(self, name, breed):\n",
    "        self.name = name\n",
    "        self.breed = breed\n",
    "        \n",
    "husky = Dog(\"Sammi\", \"Husky\")\n",
    "chocolate_lab = Dog(\"Casey\", \"Chocolate Lab\")\n",
    "        \n",
    "print(husky.species)"
   ]
  },
  {
   "cell_type": "code",
   "execution_count": 22,
   "id": "998f3f37",
   "metadata": {},
   "outputs": [
    {
     "name": "stdout",
     "output_type": "stream",
     "text": [
      "Please enter your name: KA\n",
      "KA\n"
     ]
    }
   ],
   "source": [
    "# User Input: Create a Person class that has a single instance level attribute of\n",
    "# “name.” Ask the user to input their name, and create an instance of the Person\n",
    "# class with the name they typed in. Then print out their name.\n",
    "\n",
    "class Person():\n",
    "    def __init__(self, name):\n",
    "        self.name = name \n",
    "        \n",
    "user_input = input(\"Please enter your name: \")\n",
    "\n",
    "person1 = Person(user_input)\n",
    "\n",
    "print(person1.name)"
   ]
  },
  {
   "cell_type": "markdown",
   "id": "27e11bb7",
   "metadata": {},
   "source": [
    "#Methods"
   ]
  },
  {
   "cell_type": "code",
   "execution_count": 24,
   "id": "0b3107ea",
   "metadata": {},
   "outputs": [
    {
     "name": "stdout",
     "output_type": "stream",
     "text": [
      "Bark\n"
     ]
    }
   ],
   "source": [
    "#defining and calling our first class method\n",
    "class Dog():\n",
    "    def makeSound(self):\n",
    "        print(\"Bark\")\n",
    "    \n",
    "sam = Dog()\n",
    "sam.makeSound()\n",
    "#print(sam.makeSound())"
   ]
  },
  {
   "cell_type": "code",
   "execution_count": 26,
   "id": "02ef5009",
   "metadata": {},
   "outputs": [
    {
     "name": "stdout",
     "output_type": "stream",
     "text": [
      "I am a dog.\n",
      "Bark\n"
     ]
    }
   ],
   "source": [
    "# static methods. They\n",
    "# are not accessible by instances of the class. Depending on the class your building, it may\n",
    "# help to have a method that is only accessible through the class and not the instances.\n",
    "\n",
    "#understanding which method is accessible via the class and which one by class instance\n",
    "\n",
    "class Dog():\n",
    "    sound = \"Bark\"\n",
    "    def makeSound(self):\n",
    "        print(self.sound)\n",
    "    def printInfo():\n",
    "        print(\"I am a dog.\")\n",
    "        \n",
    "Dog.printInfo()\n",
    "\n",
    "#Dog.makeSound() would produce error, self is accessible only to insatances\n",
    "\n",
    "sam = Dog()\n",
    "sam.makeSound()\n",
    "#sam.printInfo() will produce error, instance requires self as parameter "
   ]
  },
  {
   "cell_type": "code",
   "execution_count": 27,
   "id": "dfb77164",
   "metadata": {},
   "outputs": [
    {
     "name": "stdout",
     "output_type": "stream",
     "text": [
      "6\n"
     ]
    }
   ],
   "source": [
    "#writing methods that accepts parameters\n",
    "\n",
    "class Dog():\n",
    "    def showAge(self, age):\n",
    "        print(age)\n",
    "sam = Dog()\n",
    "sam.showAge(6)\n"
   ]
  },
  {
   "cell_type": "code",
   "execution_count": 2,
   "id": "78ed6458",
   "metadata": {},
   "outputs": [
    {
     "name": "stdout",
     "output_type": "stream",
     "text": [
      "Sammi\n"
     ]
    }
   ],
   "source": [
    "#using methoods to set or return attribute values, proper programming practice\n",
    "\n",
    "class Dog():\n",
    "    name = \"\"\n",
    "    \n",
    "    def setName(self, new_name):\n",
    "        self.name = new_name #declares the new value for the name attribute\n",
    "    \n",
    "    def getName(self):\n",
    "        return self.name\n",
    "    \n",
    "sam = Dog()\n",
    "sam.setName(\"Sammi\")\n",
    "print(sam.getName())\n",
    "        \n"
   ]
  },
  {
   "cell_type": "code",
   "execution_count": 5,
   "id": "21ccb7a2",
   "metadata": {},
   "outputs": [
    {
     "name": "stdout",
     "output_type": "stream",
     "text": [
      "6\n"
     ]
    }
   ],
   "source": [
    "#increment attributes with methods\n",
    "\n",
    "#incrementing/decrementing attribute values with methods, best programming practice\n",
    "\n",
    "class Dog():\n",
    "    age = 5\n",
    "    def happyBirthday(self):\n",
    "        self.age+=1\n",
    "        \n",
    "sam = Dog()\n",
    "sam.happyBirthday()\n",
    "print(sam.age)\n",
    "        "
   ]
  },
  {
   "cell_type": "code",
   "execution_count": 7,
   "id": "3ba59e9c",
   "metadata": {},
   "outputs": [
    {
     "name": "stdout",
     "output_type": "stream",
     "text": [
      "Puppy!\n"
     ]
    }
   ],
   "source": [
    "#Methods calling Methods\n",
    "\n",
    "#calling a class method from another method\n",
    "\n",
    "class Dog():\n",
    "    age = 6\n",
    "    \n",
    "    def getAge(self):\n",
    "        return self.age;\n",
    "    \n",
    "    def printInfo(self):\n",
    "        if self.getAge() < 10:\n",
    "            print(\"Puppy!\")\n",
    "            \n",
    "sam = Dog()\n",
    "sam.printInfo()\n",
    "        "
   ]
  },
  {
   "cell_type": "code",
   "execution_count": 8,
   "id": "49b7ce6d",
   "metadata": {},
   "outputs": [
    {
     "name": "stdout",
     "output_type": "stream",
     "text": [
      "This is a dog class\n"
     ]
    }
   ],
   "source": [
    "#MAGIC METHODS\n",
    "\n",
    "#using magic methods\n",
    "\n",
    "class Dog():\n",
    "    def __str__(self):\n",
    "        return \"This is a dog class\"\n",
    "\n",
    "sam = Dog()\n",
    "print(sam)"
   ]
  },
  {
   "cell_type": "markdown",
   "id": "303dbac8",
   "metadata": {},
   "source": [
    "#WEDNESDAY EXERCISE"
   ]
  },
  {
   "cell_type": "code",
   "execution_count": 10,
   "id": "10c55140",
   "metadata": {},
   "outputs": [
    {
     "name": "stdout",
     "output_type": "stream",
     "text": [
      "feline\n"
     ]
    }
   ],
   "source": [
    "# Animals: Create a class definition of an animal that has a species attribute and\n",
    "# both a setter and getter to change or access the attributes value. Create an\n",
    "# instance called “lion,” and call the setter method with an argument of “feline.”\n",
    "# Then print out the species by calling the getter method.\n",
    "\n",
    "\n",
    "class Animals():\n",
    "    species = \"\"\n",
    "    \n",
    "    def setSpecies(self, new_species):\n",
    "        self.species = new_species\n",
    "        \n",
    "    def getSpecies(self):\n",
    "        return self.species\n",
    "    \n",
    "lion = Animals()\n",
    "lion.setSpecies(\"feline\")\n",
    " \n",
    "    \n",
    "sp = lion.getSpecies()\n",
    "\n",
    "print(sp)\n",
    "        "
   ]
  },
  {
   "cell_type": "code",
   "execution_count": 15,
   "id": "f152dd16",
   "metadata": {},
   "outputs": [
    {
     "name": "stdout",
     "output_type": "stream",
     "text": [
      "Please enter yor age64\n",
      "You are 64 years old.\n"
     ]
    }
   ],
   "source": [
    "# User Input: Create a class Person that takes in a name when instantiated but\n",
    "# sets an age to 0. Within the class definition setup, a setter and getter that will\n",
    "# ask the user to input their age and set the age attribute to the value input.\n",
    "# Then output the information in a formatted string as “You are 64 years old.”\n",
    "# Assuming the user inputs 64 as their age.\n",
    "\n",
    "class Person():\n",
    "    \n",
    "    \n",
    "    \n",
    "    def __init__(self, name):\n",
    "        self.name = name\n",
    "        self.age = 0\n",
    "        \n",
    "    def setAge(self, inp_age):\n",
    "        self.age = inp_age\n",
    "    \n",
    "    def getAge(self):\n",
    "        return self.age\n",
    "        \n",
    "        \n",
    "person1 = Person(\"KA\")\n",
    "\n",
    "inp = input(\"Please enter yor age\")\n",
    "person1.setAge(inp)\n",
    "\n",
    "returned_age = person1.getAge()\n",
    "print(\"You are {} years old.\".format(returned_age))"
   ]
  },
  {
   "cell_type": "markdown",
   "id": "98765620",
   "metadata": {},
   "source": [
    "#Inheritance"
   ]
  },
  {
   "cell_type": "code",
   "execution_count": 18,
   "id": "66622c49",
   "metadata": {},
   "outputs": [
    {
     "name": "stdout",
     "output_type": "stream",
     "text": [
      "roar\n"
     ]
    }
   ],
   "source": [
    "#inheriting a class and accessing the inherited method\n",
    "\n",
    "class Animal():\n",
    "    def makeSound(self):\n",
    "        print(\"roar\")\n",
    "    \n",
    "class Dog(Animal): #inheriting Animal class\n",
    "    species = \"Canine\"\n",
    "        \n",
    "sam = Dog()\n",
    "sam.makeSound() #accessible thorugh inheritance\n",
    "#print(sam.makeSound())\n",
    "\n",
    "lion = Animal()\n",
    "#lion.species not accessible, inheritance doesn't work backwards\n"
   ]
  },
  {
   "cell_type": "code",
   "execution_count": 21,
   "id": "6d87838a",
   "metadata": {},
   "outputs": [
    {
     "name": "stdout",
     "output_type": "stream",
     "text": [
      "cannie\n"
     ]
    }
   ],
   "source": [
    "#using the super() method to inherit the properties \n",
    "\n",
    "class Animal():\n",
    "    def __init__(self, species):\n",
    "        self.species = species\n",
    "        \n",
    "class Dog(Animal):\n",
    "    def __init__(self, species, name):\n",
    "        self.name = name\n",
    "        super().__init__(species)\n",
    "        \n",
    "        \n",
    "sam = Dog(\"cannie\", \"Sammie\")\n",
    "print(sam.species)"
   ]
  },
  {
   "cell_type": "code",
   "execution_count": 22,
   "id": "324a9413",
   "metadata": {},
   "outputs": [
    {
     "name": "stdout",
     "output_type": "stream",
     "text": [
      "Bark\n",
      "roar\n"
     ]
    }
   ],
   "source": [
    "#overriding methods defined in the superclass\n",
    "\n",
    "class Animal():\n",
    "    \n",
    "    def makeSound(self):\n",
    "        print(\"roar\")\n",
    "    \n",
    "class Dog(Animal):\n",
    "    def makeSound(self):\n",
    "        print(\"Bark\")\n",
    "        \n",
    "sam, lion = Dog(), Animal()\n",
    "\n",
    "sam.makeSound()\n",
    "lion.makeSound()"
   ]
  },
  {
   "cell_type": "code",
   "execution_count": 26,
   "id": "48dacb10",
   "metadata": {},
   "outputs": [
    {
     "name": "stdout",
     "output_type": "stream",
     "text": [
      "9.8 Ford\n"
     ]
    }
   ],
   "source": [
    "#inheriting multiple classes\n",
    "\n",
    "class Physics():\n",
    "    gravity = 9.8\n",
    "    \n",
    "class AutoMobile():\n",
    "    def __init__(self, make, model, year):\n",
    "        self.make, self.model, self.year = make, model, year\n",
    "        \n",
    "class Ford(Physics, AutoMobile):\n",
    "    def __init__(self, model, year):\n",
    "        AutoMobile.__init__(self, \"Ford\", model, year)\n",
    "\n",
    "truck = Ford(\"F-150\", 2018)\n",
    "print(truck.gravity, truck.make)"
   ]
  },
  {
   "cell_type": "code",
   "execution_count": 5,
   "id": "32ca4386",
   "metadata": {},
   "outputs": [
    {
     "name": "stdout",
     "output_type": "stream",
     "text": [
      "Hello, my name is Max and I’m on the good guys\n",
      "Hello, my name is Test and I’m on the bad guys\n"
     ]
    }
   ],
   "source": [
    "#THURSDAY EXERCISE\n",
    "\n",
    "# Good Guys/Bad Guys: Create three classes, a superclass called “Characters”\n",
    "# that will be defined with the following attributes and methods:\n",
    "# a. Attributes: name, team, height, weight\n",
    "# b. Methods: sayHello\n",
    "# The sayHello method should output the statement “Hello, my name is Max and\n",
    "# I’m on the good guys”. The team attribute should be declared to a string of\n",
    "# either “good” or “bad.” The other two classes, which will be subclasses, will\n",
    "# be “GoodPlayers” and “BadPlayers.” Both classes will inherit “Characters” and\n",
    "# super all the attributes that the superclass requires. The subclasses do not need\n",
    "# any other methods or attributes. Instantiate one player on each team, and call\n",
    "# the sayHello method for each. The output should result in the following:\n",
    "# >>> \"Hello, my name is Max and I'm on the good guys\"\n",
    "# >>> \"Hello, my name is Tony and I'm on the bad guys\"\n",
    "\n",
    "class Characters():\n",
    "    \n",
    "    def __init__(self, name, team, height, weight):\n",
    "        self.name = name\n",
    "        self.team = team\n",
    "        self.height = height\n",
    "        self.weight = weight\n",
    "    \n",
    "    def sayHello(self):\n",
    "        print(\"Hello, my name is {} and I’m on the {} guys\".format(self.name, self.team))\n",
    "    \n",
    "class GoodPlayers(Characters):\n",
    "    def __init__(self, name, height, weight):\n",
    "        super().__init__(name, \"good\", height, weight)\n",
    "    \n",
    "class BadPlayers(Characters):\n",
    "    def __init__(self, name, height, weight):\n",
    "        super().__init__(name, \"bad\", height, weight)\n",
    "    \n",
    "        \n",
    "char1 = GoodPlayers('Max', '5\\'11\"', 183)\n",
    "char1.sayHello()\n",
    "\n",
    "char2 = BadPlayers('Test', '5\\'10\"', 123)\n",
    "char2.sayHello()"
   ]
  },
  {
   "cell_type": "markdown",
   "id": "726f031d",
   "metadata": {},
   "source": [
    "#FRIDAY PROJECT : Creating BlackJack"
   ]
  },
  {
   "cell_type": "code",
   "execution_count": 1,
   "id": "0a0c4a3d",
   "metadata": {},
   "outputs": [
    {
     "name": "stdout",
     "output_type": "stream",
     "text": [
      "\n",
      " kk\n",
      "======================\n",
      "4 of Hearts\n"
     ]
    },
    {
     "ename": "NameError",
     "evalue": "name 'dealer_start' is not defined",
     "output_type": "error",
     "traceback": [
      "\u001b[0;31m---------------------------------------------------------------------------\u001b[0m",
      "\u001b[0;31mNameError\u001b[0m                                 Traceback (most recent call last)",
      "\u001b[0;32m/var/folders/1v/wx6x1txd7l3c9b7xf79449hm0000gn/T/ipykernel_6061/1679003318.py\u001b[0m in \u001b[0;36m<module>\u001b[0;34m\u001b[0m\n\u001b[1;32m    117\u001b[0m         \u001b[0;31m#show both hands using method\u001b[0m\u001b[0;34m\u001b[0m\u001b[0;34m\u001b[0m\u001b[0m\n\u001b[1;32m    118\u001b[0m \u001b[0;34m\u001b[0m\u001b[0m\n\u001b[0;32m--> 119\u001b[0;31m         \u001b[0mplayer\u001b[0m\u001b[0;34m.\u001b[0m\u001b[0mshowHand\u001b[0m\u001b[0;34m(\u001b[0m\u001b[0;34m)\u001b[0m\u001b[0;34m\u001b[0m\u001b[0;34m\u001b[0m\u001b[0m\n\u001b[0m\u001b[1;32m    120\u001b[0m         \u001b[0mdealer\u001b[0m\u001b[0;34m.\u001b[0m\u001b[0mshowHand\u001b[0m\u001b[0;34m(\u001b[0m\u001b[0;32mFalse\u001b[0m\u001b[0;34m)\u001b[0m\u001b[0;34m\u001b[0m\u001b[0;34m\u001b[0m\u001b[0m\n\u001b[1;32m    121\u001b[0m \u001b[0;34m\u001b[0m\u001b[0m\n",
      "\u001b[0;32m/var/folders/1v/wx6x1txd7l3c9b7xf79449hm0000gn/T/ipykernel_6061/1679003318.py\u001b[0m in \u001b[0;36mshowHand\u001b[0;34m(self, dealerStart)\u001b[0m\n\u001b[1;32m     54\u001b[0m                 \u001b[0mcard\u001b[0m \u001b[0;34m=\u001b[0m \u001b[0mself\u001b[0m\u001b[0;34m.\u001b[0m\u001b[0mhand\u001b[0m\u001b[0;34m[\u001b[0m\u001b[0mi\u001b[0m\u001b[0;34m]\u001b[0m\u001b[0;34m\u001b[0m\u001b[0;34m\u001b[0m\u001b[0m\n\u001b[1;32m     55\u001b[0m                 \u001b[0mprint\u001b[0m\u001b[0;34m(\u001b[0m\u001b[0;34m\"{} of {}\"\u001b[0m\u001b[0;34m.\u001b[0m\u001b[0mformat\u001b[0m\u001b[0;34m(\u001b[0m\u001b[0mcard\u001b[0m\u001b[0;34m[\u001b[0m\u001b[0;36m0\u001b[0m\u001b[0;34m]\u001b[0m\u001b[0;34m,\u001b[0m \u001b[0mcard\u001b[0m\u001b[0;34m[\u001b[0m\u001b[0;36m1\u001b[0m\u001b[0;34m]\u001b[0m\u001b[0;34m)\u001b[0m\u001b[0;34m)\u001b[0m\u001b[0;34m\u001b[0m\u001b[0;34m\u001b[0m\u001b[0m\n\u001b[0;32m---> 56\u001b[0;31m             \u001b[0mprint\u001b[0m\u001b[0;34m(\u001b[0m\u001b[0;34m\"Total = {}\"\u001b[0m\u001b[0;34m.\u001b[0m\u001b[0mformat\u001b[0m\u001b[0;34m(\u001b[0m\u001b[0mself\u001b[0m\u001b[0;34m.\u001b[0m\u001b[0mcalcHand\u001b[0m\u001b[0;34m(\u001b[0m\u001b[0mdealer_start\u001b[0m\u001b[0;34m)\u001b[0m\u001b[0;34m)\u001b[0m\u001b[0;34m)\u001b[0m\u001b[0;34m\u001b[0m\u001b[0;34m\u001b[0m\u001b[0m\n\u001b[0m\u001b[1;32m     57\u001b[0m     \u001b[0;32mdef\u001b[0m \u001b[0mcalcHand\u001b[0m\u001b[0;34m(\u001b[0m\u001b[0mself\u001b[0m\u001b[0;34m,\u001b[0m \u001b[0mdealerStart\u001b[0m \u001b[0;34m=\u001b[0m \u001b[0;32mTrue\u001b[0m\u001b[0;34m)\u001b[0m\u001b[0;34m:\u001b[0m\u001b[0;34m\u001b[0m\u001b[0;34m\u001b[0m\u001b[0m\n\u001b[1;32m     58\u001b[0m         \u001b[0mtotal\u001b[0m \u001b[0;34m=\u001b[0m \u001b[0;36m0\u001b[0m\u001b[0;34m\u001b[0m\u001b[0;34m\u001b[0m\u001b[0m\n",
      "\u001b[0;31mNameError\u001b[0m: name 'dealer_start' is not defined"
     ]
    }
   ],
   "source": [
    "#import necessary functions\n",
    "\n",
    "from random import randint\n",
    "from IPython.display import clear_output\n",
    "\n",
    "\n",
    "#create the blackjack class which will hold all the game attributes and methods\n",
    "\n",
    "class BlackJack():\n",
    "    def __init__(self):\n",
    "        self.deck = []\n",
    "        self.suits = (\"Sapdes\", \"Hearts\", \"Diamonds\", \"Clubs\")\n",
    "        self.values = (2, 3, 4, 5, 6, 7, 8, 9, 10, \"J\", \"Q\", \"K\", \"A\")\n",
    "        \n",
    "\n",
    "        #method to create a deck\n",
    "        #each deck should be a tuple with value and suits\n",
    "        \n",
    "    def makeDeck(self):\n",
    "        for suit in self.suits:\n",
    "            for value in self.values:\n",
    "                self.deck.append((value, suit))\n",
    "    \n",
    "    def pullCard(self):\n",
    "        return self.deck.pop(randint(0, (len(self.deck)-1)))\n",
    "                                               \n",
    "#Player class\n",
    "                             \n",
    "class Player():\n",
    "    def __init__(self, name):\n",
    "        self.name = name\n",
    "        self.hand = []\n",
    "        self.currency = 500\n",
    "        \n",
    "    def setCurrency(self, amount, won):\n",
    "        if won:\n",
    "            self.currency+=amount\n",
    "        if not won:\n",
    "            self.currency-=amount\n",
    "    def getCurrency(self):\n",
    "        return self.currency\n",
    "        \n",
    "    #take in a tuple and add it to the hand\n",
    "    def addCard(self, card):\n",
    "        self.hand.append(card)\n",
    "        \n",
    "    def showHand(self, dealerStart = True):\n",
    "        print(\"\\n {}\".format(self.name))\n",
    "        print(\"======================\")\n",
    "        for i in range(len(self.hand)):\n",
    "            if self.name == \"Dealer\" and i==0 and dealerStart:\n",
    "                print(\"-of-\")#hide first card\n",
    "            else:\n",
    "                card = self.hand[i]\n",
    "                print(\"{} of {}\".format(card[0], card[1]))\n",
    "            print(\"Total = {}\".format(self.calcHand(dealer_start)))\n",
    "    def calcHand(self, dealerStart = True):\n",
    "        total = 0\n",
    "        aces = 0\n",
    "        card_values = {1:1, 2:2, 3:3, 4:4, 5:5, 6:6, 7:7, 8:8, 9:9, 10:10, 'J':10, 'Q':10, 'K':10, 'A':11}\n",
    "        \n",
    "        if self.name == \"Dealer\" and dealerStart:\n",
    "            card = self.hand[1]\n",
    "            return card_values[card[0]]\n",
    "        for card in self.hand:\n",
    "            if card[0] == 'A':\n",
    "                aces+=1\n",
    "            else:\n",
    "                total+=card_values[card[0]]\n",
    "        for i in range(aces):\n",
    "            if total+11 > 21:\n",
    "                total +=1\n",
    "            else:\n",
    "                total+=11\n",
    "        return total\n",
    "                \n",
    "            \n",
    "        \n",
    "        \n",
    "game = BlackJack()\n",
    "game.makeDeck()\n",
    "                             \n",
    "name = input(\"What is your name? \")\n",
    "playing = True\n",
    "\n",
    "while playing:\n",
    "    player = Player(name)\n",
    "    dealer = Player(\"Dealer\")\n",
    "    \n",
    "    wager = 0\n",
    "    print(\"you have ${}\".format(player.getCurrency()))\n",
    "    \n",
    "    while wager == 0 or player.getCurrency() - wager < 0:\n",
    "    # handle getting and converting wager\n",
    "        try:\n",
    "            wager = int(input(\"How much would you like to wager? \"))\n",
    "\n",
    "            # if wager is too much print message\n",
    "            if player.getCurrency() - wager < 0:\n",
    "                print(\"Sorry you don't have that much money. Try again!\")\n",
    "        except:\n",
    "            print('Something went wrong, please try again!')\n",
    "\n",
    "    for i in range(2):\n",
    "        player.addCard(game.pullCard())\n",
    "        dealer.addCard(game.pullCard())\n",
    "\n",
    "    player_bust = False #variable to keep track of player going over 21\n",
    "\n",
    "    while input(\"would you like to stay or hit? \").lower() == \"stay\":\n",
    "        clear_output()\n",
    "\n",
    "        #pull a card and put into player's hand\n",
    "\n",
    "        player.addCard(game.pullCard())\n",
    "\n",
    "        #show both hands using method\n",
    "\n",
    "        player.showHand()\n",
    "        dealer.showHand(False)\n",
    "\n",
    "\n",
    "        #check if over 21\n",
    "        if player.calcHand() > 21:\n",
    "            player_bust = True\n",
    "            print(\"You lose!\")\n",
    "            break\n",
    "\n",
    "\n",
    "    # handling the dealer's turn, only run if player didn't bust\n",
    "    dealer_bust = False\n",
    "\n",
    "    if not player_bust:\n",
    "        while dealer.calcHand(False) < 17:\n",
    "            # pull card and put into player's hand\n",
    "            dealer.addCard(game.pullCard())\n",
    "\n",
    "            # check if over 21\n",
    "            if dealer.calcHand(False) > 21:\n",
    "                dealer_bust = True\n",
    "                break\n",
    "\n",
    "\n",
    "    #calculate a winner\n",
    "\n",
    "    if player_bust:\n",
    "        print(\"You busted, better luck next time!\")\n",
    "    elif(dealer_bust):\n",
    "         print(\"The dealer busted, you win!\")\n",
    "    elif dealer.calcHand(False) > player.calcHand():\n",
    "        print('Dealer has higher cards, you lose!')\n",
    "    elif dealer.calcHand(False) < player.calcHand():\n",
    "        print('You beat the dealer! Congrats!')\n",
    "    else:\n",
    "        print('You pushed, no one wins!')\n",
    "\n",
    "\n",
    "    print(\"Type quit to stop playing...\")\n",
    "\n",
    "    ans = input(\"Would you like to play again? \").lower()\n",
    "\n",
    "    if ans == 'quit':\n",
    "        playing = False\n",
    "\n",
    "    clear_output()\n",
    "\n",
    "print(\"Thanks for Playing!!\")\n",
    "\n"
   ]
  },
  {
   "cell_type": "markdown",
   "id": "159b30d8",
   "metadata": {},
   "source": [
    "WEEKLY CHALLANGE"
   ]
  },
  {
   "cell_type": "code",
   "execution_count": null,
   "id": "90c6d6dd",
   "metadata": {},
   "outputs": [],
   "source": [
    "# 1. Game Loop: Using the code from our Friday project, create a\n",
    "# game loop so that you can continually play a new hand until the\n",
    "# player decides to quit. The cell should only stop running if the\n",
    "# player types in “quit”; otherwise, you should continue to play new\n",
    "# hands.\n",
    "\n",
    "#see above solution\n"
   ]
  },
  {
   "cell_type": "code",
   "execution_count": null,
   "id": "e68e007f",
   "metadata": {},
   "outputs": [],
   "source": [
    "# Adding Currency: Using the code from our Friday project, add\n",
    "# the ability to wager currency in the game. Be sure to track the\n",
    "# currency within the Player class, as the attribute should belong to\n",
    "# that object. Before each hand, ask the user how much they would\n",
    "# like to wager; if they win, add that amount to their currency; if they\n",
    "# lose, subtract that amount from what they currently have; and if\n",
    "# they tie, nothing should happen.\n",
    "\n",
    "\n"
   ]
  }
 ],
 "metadata": {
  "kernelspec": {
   "display_name": "Python 3 (ipykernel)",
   "language": "python",
   "name": "python3"
  },
  "language_info": {
   "codemirror_mode": {
    "name": "ipython",
    "version": 3
   },
   "file_extension": ".py",
   "mimetype": "text/x-python",
   "name": "python",
   "nbconvert_exporter": "python",
   "pygments_lexer": "ipython3",
   "version": "3.9.7"
  }
 },
 "nbformat": 4,
 "nbformat_minor": 5
}
