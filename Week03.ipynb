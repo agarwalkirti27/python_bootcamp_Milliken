{
 "cells": [
  {
   "cell_type": "raw",
   "id": "4481d44a",
   "metadata": {},
   "source": [
    "# User Inputs and conditionals"
   ]
  },
  {
   "cell_type": "code",
   "execution_count": 1,
   "id": "877ef040",
   "metadata": {},
   "outputs": [
    {
     "ename": "NameError",
     "evalue": "name 'element' is not defined",
     "output_type": "error",
     "traceback": [
      "\u001b[0;31m---------------------------------------------------------------------------\u001b[0m",
      "\u001b[0;31mNameError\u001b[0m                                 Traceback (most recent call last)",
      "\u001b[0;32m/var/folders/1v/wx6x1txd7l3c9b7xf79449hm0000gn/T/ipykernel_16959/3704234514.py\u001b[0m in \u001b[0;36m<module>\u001b[0;34m\u001b[0m\n\u001b[1;32m      1\u001b[0m \u001b[0;31m#CHALLENGE QUESTION\u001b[0m\u001b[0;34m\u001b[0m\u001b[0;34m\u001b[0m\u001b[0m\n\u001b[0;32m----> 2\u001b[0;31m \u001b[0mprint\u001b[0m\u001b[0;34m(\u001b[0m\u001b[0;34m'{} is my favorite sport'\u001b[0m\u001b[0;34m.\u001b[0m\u001b[0mformat\u001b[0m\u001b[0;34m(\u001b[0m\u001b[0melement\u001b[0m\u001b[0;34m)\u001b[0m\u001b[0;34m)\u001b[0m\u001b[0;34m\u001b[0m\u001b[0;34m\u001b[0m\u001b[0m\n\u001b[0m\u001b[1;32m      3\u001b[0m \u001b[0melement\u001b[0m \u001b[0;34m=\u001b[0m \u001b[0;34m'Football'\u001b[0m\u001b[0;34m\u001b[0m\u001b[0;34m\u001b[0m\u001b[0m\n\u001b[1;32m      4\u001b[0m \u001b[0;34m\u001b[0m\u001b[0m\n\u001b[1;32m      5\u001b[0m \u001b[0;31m#will not work because element is declared later\u001b[0m\u001b[0;34m\u001b[0m\u001b[0;34m\u001b[0m\u001b[0m\n",
      "\u001b[0;31mNameError\u001b[0m: name 'element' is not defined"
     ]
    }
   ],
   "source": [
    "#CHALLENGE QUESTION\n",
    "print('{} is my favorite sport'.format(element))\n",
    "element = 'Football'\n",
    "\n",
    "#will not work because element is declared later"
   ]
  },
  {
   "cell_type": "markdown",
   "id": "d9322eba",
   "metadata": {},
   "source": [
    "#Monday\n",
    "#User input and type converting"
   ]
  },
  {
   "cell_type": "code",
   "execution_count": 3,
   "id": "32c8e89c",
   "metadata": {
    "scrolled": true
   },
   "outputs": [
    {
     "name": "stdout",
     "output_type": "stream",
     "text": [
      "what is your name?Kirti\n",
      "Hello, Kirti\n"
     ]
    }
   ],
   "source": [
    "#accepting and outputting user input\n",
    "name = input(\"what is your name?\")\n",
    "print(\"Hello, {}\".format(name))"
   ]
  },
  {
   "cell_type": "code",
   "execution_count": 4,
   "id": "e5a7d869",
   "metadata": {},
   "outputs": [
    {
     "name": "stdout",
     "output_type": "stream",
     "text": [
      "<class 'str'>\n",
      "<class 'int'>\n"
     ]
    }
   ],
   "source": [
    "#how to check the data type of a variable\n",
    "name = \"Kirti\"\n",
    "age = 28\n",
    "print(type(name))\n",
    "print(type(age))"
   ]
  },
  {
   "cell_type": "code",
   "execution_count": 6,
   "id": "dbc74625",
   "metadata": {},
   "outputs": [
    {
     "name": "stdout",
     "output_type": "stream",
     "text": [
      "<class 'str'>\n",
      "<class 'int'>\n"
     ]
    }
   ],
   "source": [
    "#converting a variable from one type to another type\n",
    "num = \"10\"\n",
    "print(type(num))\n",
    "num = int(num)\n",
    "print(type(num))"
   ]
  },
  {
   "cell_type": "code",
   "execution_count": 2,
   "id": "6bc2826e",
   "metadata": {
    "scrolled": true
   },
   "outputs": [
    {
     "name": "stdout",
     "output_type": "stream",
     "text": [
      "Type a number to add: 30\n",
      "<class 'str'>\n",
      "100 + 30 = 150\n"
     ]
    }
   ],
   "source": [
    "#working with user inouts to perform calculations\n",
    "ans = input(\"Type a number to add: \")\n",
    "print(type(ans))\n",
    "result = 120 + int(ans)\n",
    "print(\"100 + {} = {}\".format(ans, result))"
   ]
  },
  {
   "cell_type": "code",
   "execution_count": 2,
   "id": "33bffb00",
   "metadata": {},
   "outputs": [
    {
     "name": "stdout",
     "output_type": "stream",
     "text": [
      "Type a number to add: wdew\n",
      "You did not put a valid number\n",
      "Program did not break!\n"
     ]
    }
   ],
   "source": [
    "#using try and except blocks\n",
    "try:\n",
    "    ans = float(input(\"Type a number to add: \"))\n",
    "    print(\"100 + {} = {}\".format(ans, 100+ans))\n",
    "except:\n",
    "    print(\"You did not put a valid number\")\n",
    "    \n",
    "#without try and except block would not get hit if errors occur\n",
    "print(\"Program did not break!\")"
   ]
  },
  {
   "cell_type": "markdown",
   "id": "0530bd87",
   "metadata": {},
   "source": [
    "Monday Exercises"
   ]
  },
  {
   "cell_type": "code",
   "execution_count": 6,
   "id": "106afdeb",
   "metadata": {},
   "outputs": [
    {
     "name": "stdout",
     "output_type": "stream",
     "text": [
      "<class 'bool'>\n"
     ]
    }
   ],
   "source": [
    "#Converting: Try converting a string of “True” to a boolean, and then output its\n",
    "#type to make sure it converted properly.\n",
    "\n",
    "switch = \"True\"\n",
    "switch = bool(switch)\n",
    "print(type(switch))"
   ]
  },
  {
   "cell_type": "code",
   "execution_count": 8,
   "id": "3792d0f0",
   "metadata": {},
   "outputs": [
    {
     "name": "stdout",
     "output_type": "stream",
     "text": [
      "Please enter num1: 34\n",
      "Please enter num2: 45\n",
      "The sum is :: 34 + 45.0 = 79.0\n"
     ]
    }
   ],
   "source": [
    "# Sum of Inputs: Create two input statements, and ask the user to enter two\n",
    "# numbers. Print the sum of these numbers out.\n",
    "\n",
    "try:\n",
    "    num1 = int(input(\"Please enter num1: \"))\n",
    "    num2 = float(input(\"Please enter num2: \"))\n",
    "    ans = print(\"The sum is :: {} + {} = {}\".format(num1, num2, num1+num2))\n",
    "except:\n",
    "    print(\"number entered isn't correct.\")\n"
   ]
  },
  {
   "cell_type": "code",
   "execution_count": 12,
   "id": "54b76c2b",
   "metadata": {},
   "outputs": [
    {
     "name": "stdout",
     "output_type": "stream",
     "text": [
      "Please enter the year of the car: 2018\n",
      "Please enter the make of the car: Chevrolet\n",
      "Please enter the model of the car: Silverado\n",
      "Please enter the color of the car: Blue\n",
      "\n",
      "Your car info is :: \n",
      " 2018 Blue Chevrolet Silverado\n"
     ]
    }
   ],
   "source": [
    "# Car Information: Ask the user to input the year, make, model, and color of\n",
    "# their car, and print a nicely formatted statement like “2018 Blue Chevrolet\n",
    "# Silverado.”\n",
    "\n",
    "try:\n",
    "    year = int(input(\"Please enter the year of the car: \"))\n",
    "    make = input(\"Please enter the make of the car: \")\n",
    "    model = input(\"Please enter the model of the car: \")\n",
    "    color = input(\"Please enter the color of the car: \")\n",
    "    print(\"\\n Your car info is :: \\n {} {} {} {}\".format(year, color, make, model))\n",
    "except:\n",
    "    print(\"Information provided isn't in correct format\")"
   ]
  },
  {
   "cell_type": "markdown",
   "id": "71a03ea1",
   "metadata": {},
   "source": [
    "TUESDAY\n",
    "IF Statements"
   ]
  },
  {
   "cell_type": "code",
   "execution_count": 13,
   "id": "b675ee64",
   "metadata": {},
   "outputs": [
    {
     "name": "stdout",
     "output_type": "stream",
     "text": [
      "x is less than y\n"
     ]
    }
   ],
   "source": [
    "#using an if statement only to run code if the condition is met\n",
    "x, y = 5, 10\n",
    "if x < y:\n",
    "    print(\"x is less than y\")"
   ]
  },
  {
   "cell_type": "code",
   "execution_count": 18,
   "id": "0a50d5c0",
   "metadata": {},
   "outputs": [
    {
     "name": "stdout",
     "output_type": "stream",
     "text": [
      "what is 5 + 5? 10\n",
      "Congratulations! Sahi Jawab!\n"
     ]
    }
   ],
   "source": [
    "#checking user input\n",
    "ans = int(input(\"what is 5 + 5? \"))\n",
    "if ans == 10:\n",
    "    print(\"Congratulations! Sahi Jawab!\")\n",
    "else:\n",
    "    print(\"ahh! try again!\")"
   ]
  },
  {
   "cell_type": "code",
   "execution_count": 2,
   "id": "add114c7",
   "metadata": {},
   "outputs": [
    {
     "name": "stdout",
     "output_type": "stream",
     "text": [
      "Both statements were true\n"
     ]
    }
   ],
   "source": [
    "#using the keyword \"and\" in an if statement\n",
    "x, y, z = 5, 10, 5\n",
    "if x < y and x == z:\n",
    "    print(\"Both statements were true\")"
   ]
  },
  {
   "cell_type": "code",
   "execution_count": 4,
   "id": "33d6b1c1",
   "metadata": {},
   "outputs": [
    {
     "name": "stdout",
     "output_type": "stream",
     "text": [
      "one or both statements were true\n"
     ]
    }
   ],
   "source": [
    "#using the keyword \"or\" in an if statement\n",
    "x, y, z = 5, 10, 5\n",
    "if x < y or x != z:\n",
    "    print(\"one or both statements were true\")"
   ]
  },
  {
   "cell_type": "code",
   "execution_count": 6,
   "id": "ee2464f0",
   "metadata": {},
   "outputs": [
    {
     "name": "stdout",
     "output_type": "stream",
     "text": [
      "Flag is False\n"
     ]
    }
   ],
   "source": [
    "#using the keyword \"not\" in an if statement\n",
    "flag = False\n",
    "if not flag:                #same as saying if not true\n",
    "    print(\"Flag is False\")"
   ]
  },
  {
   "cell_type": "markdown",
   "id": "a0967790",
   "metadata": {},
   "source": [
    "Membership opersator"
   ]
  },
  {
   "cell_type": "code",
   "execution_count": 7,
   "id": "a9db13c2",
   "metadata": {},
   "outputs": [
    {
     "name": "stdout",
     "output_type": "stream",
     "text": [
      "Baseball contains the character b.\n"
     ]
    }
   ],
   "source": [
    "#using the keyword \"in\" within an if statement\n",
    "word = \"Baseball\"\n",
    "if 'b' in word:\n",
    "    print(\"{} contains the character b.\".format(word))"
   ]
  },
  {
   "cell_type": "code",
   "execution_count": 8,
   "id": "f78987af",
   "metadata": {},
   "outputs": [
    {
     "name": "stdout",
     "output_type": "stream",
     "text": [
      "Baseball does not contain character x.\n"
     ]
    }
   ],
   "source": [
    "#using the keyword \"not in\" within an if statement\n",
    "word = \"Baseball\"\n",
    "if 'x' not in word:\n",
    "    print(\"{} does not contain character x.\".format(word))"
   ]
  },
  {
   "cell_type": "markdown",
   "id": "491f1e53",
   "metadata": {},
   "source": [
    "TUESDAY EXERCISE"
   ]
  },
  {
   "cell_type": "code",
   "execution_count": 13,
   "id": "3786e2eb",
   "metadata": {},
   "outputs": [
    {
     "name": "stdout",
     "output_type": "stream",
     "text": [
      "Please enter a word: test\n",
      "test contains es.\n"
     ]
    }
   ],
   "source": [
    "# Checking Inclusion – Part 1: Ask the user for input, and check to see if what\n",
    "# they wrote includes an “es”.\n",
    "\n",
    "try:\n",
    "    inp = input(\"Please enter a word: \")\n",
    "    if 'es' in inp:\n",
    "        print(\"{} contains es.\".format(inp))\n",
    "    else:\n",
    "        print(\"{} does not contains es.\".format(inp))\n",
    "    \n",
    "except:\n",
    "    print(\"Input is wrong.\")"
   ]
  },
  {
   "cell_type": "code",
   "execution_count": 27,
   "id": "5e09814a",
   "metadata": {
    "scrolled": true
   },
   "outputs": [
    {
     "name": "stdout",
     "output_type": "stream",
     "text": [
      "Please enter a word: resting\n",
      "resting contains ing.\n"
     ]
    }
   ],
   "source": [
    "# Checking Inclusion – Part 2: Ask the user for input, and check to see if what\n",
    "# they wrote has an “ing” at the end. Hint: Use slicing.\n",
    "\n",
    "try:\n",
    "    inp = input(\"Please enter a word: \")\n",
    "    if inp[-3:] == 'ing':\n",
    "        print(\"{} contains ing.\".format(inp))\n",
    "    else:\n",
    "        print(\"{} does not contains ing.\".format(inp))\n",
    "    \n",
    "except:\n",
    "    print(\"Input is wrong.\")"
   ]
  },
  {
   "cell_type": "code",
   "execution_count": 32,
   "id": "1c78021a",
   "metadata": {},
   "outputs": [
    {
     "name": "stdout",
     "output_type": "stream",
     "text": [
      "Please enter a word: Sad\n",
      "Please enter another word for comparision: sad\n",
      "Both the words are same\n"
     ]
    }
   ],
   "source": [
    "# Checking Equality: Ask the user to input two words, and write a conditional\n",
    "# statement to check if both words are the same. Make it case insensitive so that\n",
    "# capitals do not matter.\n",
    "\n",
    "word_1 = input(\"Please enter a word: \")\n",
    "word_2 = input(\"Please enter another word for comparision: \")\n",
    "\n",
    "if word_1.upper() == word_2.upper():\n",
    "    print(\"Both the words are same\")\n",
    "else:\n",
    "    print(\"words are not same.\")"
   ]
  },
  {
   "cell_type": "code",
   "execution_count": 39,
   "id": "53c5d9ad",
   "metadata": {
    "scrolled": true
   },
   "outputs": [
    {
     "name": "stdout",
     "output_type": "stream",
     "text": [
      "Enter a number: 4\n",
      "16\n"
     ]
    }
   ],
   "source": [
    "# Returning Exponents: Ask for the user to input a number, and return that\n",
    "# number squared if it is lower than 10. Hint: Investigate arithmetic expressions\n",
    "# for exponents.\n",
    "\n",
    "try:\n",
    "    num = int(input(\"Enter a number: \"))\n",
    "\n",
    "    if num < 10:\n",
    "        print(num ** 2)\n",
    "    else:\n",
    "        print(\"Number is greater than or equal to 10.\")\n",
    "except:\n",
    "    print(\"format of number is wrong\")"
   ]
  },
  {
   "cell_type": "markdown",
   "id": "76e3137e",
   "metadata": {},
   "source": [
    "WEDNESDAY\n",
    "Elif statements"
   ]
  },
  {
   "cell_type": "code",
   "execution_count": 41,
   "id": "0fa0fdc4",
   "metadata": {},
   "outputs": [
    {
     "name": "stdout",
     "output_type": "stream",
     "text": [
      "x is less than y.\n"
     ]
    }
   ],
   "source": [
    "#using elif conditional statements\n",
    "x, y = 5, 10\n",
    "if x > y:\n",
    "    print(\"x is gretaer than y.\")\n",
    "elif y > x:\n",
    "    print(\"x is less than y.\")"
   ]
  },
  {
   "cell_type": "code",
   "execution_count": 42,
   "id": "5a0bc700",
   "metadata": {},
   "outputs": [
    {
     "name": "stdout",
     "output_type": "stream",
     "text": [
      "x is equal.\n"
     ]
    }
   ],
   "source": [
    "#checking more than one elif condition\n",
    "\n",
    "x, y = 5, 10\n",
    "\n",
    "if x > y:\n",
    "    print(\"x is greater.\")\n",
    "elif (x+10) < y:\n",
    "    print(\"x is less.\")\n",
    "elif (x+5) == y:\n",
    "    print(\"x is equal.\")"
   ]
  },
  {
   "cell_type": "code",
   "execution_count": 44,
   "id": "a37013c6",
   "metadata": {},
   "outputs": [
    {
     "name": "stdout",
     "output_type": "stream",
     "text": [
      "x is equal to z.\n"
     ]
    }
   ],
   "source": [
    "#writing multiple conditional statements with each other - multiple block levels\n",
    "x, y, z = 5, 10, 5\n",
    "if x > y:\n",
    "    print(\"x is greater\")\n",
    "elif x<= y:\n",
    "    if x == z:\n",
    "        print(\"x is equal to z.\")          #resulting output\n",
    "    elif x != z:\n",
    "        print(\"x is not equal to z.\")      #won't get hit"
   ]
  },
  {
   "cell_type": "code",
   "execution_count": 45,
   "id": "fc2edf8e",
   "metadata": {},
   "outputs": [
    {
     "name": "stdout",
     "output_type": "stream",
     "text": [
      "x is less\n"
     ]
    }
   ],
   "source": [
    "#testing output of 2 if statements in a row that are both true\n",
    "x, y, z = 5, 10, 5\n",
    "if x < y:\n",
    "    print(\"x is less\")\n",
    "elif x == z:\n",
    "    print(\"x is equal to z\")"
   ]
  },
  {
   "cell_type": "code",
   "execution_count": null,
   "id": "623b5290",
   "metadata": {},
   "outputs": [],
   "source": [
    "#testing output of if and elif tatemnet that both are true\n",
    "x, y, z = 5, 10, 5\n",
    "if x < y:\n",
    "    print(\"x is less\")\n",
    "elif x == z:\n",
    "    print(\"x is equal to z\")"
   ]
  },
  {
   "cell_type": "markdown",
   "id": "dc46317f",
   "metadata": {},
   "source": [
    "WEDNESDAY EXERCISE"
   ]
  },
  {
   "cell_type": "code",
   "execution_count": 47,
   "id": "79ee40d0",
   "metadata": {},
   "outputs": [
    {
     "name": "stdout",
     "output_type": "stream",
     "text": [
      "Please enter a number30\n",
      "Number is lower than 100.\n"
     ]
    }
   ],
   "source": [
    "# Higher/Lower: Ask the user to input a number. Type convert that number, and\n",
    "# use an if/elif statement to print whether it’s higher or lower than 100.\n",
    "\n",
    "num = input(\"Please enter a number\")\n",
    "\n",
    "#type converting the number\n",
    "num = int(num)\n",
    "\n",
    "if num > 100:\n",
    "    print(\"Number is greter than 100.\")\n",
    "elif num < 100:\n",
    "    print(\"Number is lower than 100.\")"
   ]
  },
  {
   "cell_type": "code",
   "execution_count": 48,
   "id": "be928932",
   "metadata": {},
   "outputs": [
    {
     "name": "stdout",
     "output_type": "stream",
     "text": [
      "lower\n"
     ]
    }
   ],
   "source": [
    "# Find the Solution: Given the following code, fix any/all errors in order to make\n",
    "# it output “lower”:\n",
    "\n",
    "# x, y = 5, 10\n",
    "# if x > y:\n",
    "# print(\"greater\")\n",
    "# try x < y:\n",
    "# print(\"lower\")\n",
    "\n",
    "x, y = 5, 10\n",
    "if x > y:\n",
    " print(\"greater\")\n",
    "elif x < y:\n",
    " print(\"lower\")"
   ]
  },
  {
   "cell_type": "markdown",
   "id": "ed58d5ac",
   "metadata": {},
   "source": [
    "Else Statements"
   ]
  },
  {
   "cell_type": "code",
   "execution_count": 49,
   "id": "6c384643",
   "metadata": {},
   "outputs": [
    {
     "name": "stdout",
     "output_type": "stream",
     "text": [
      "Hello, John!\n"
     ]
    }
   ],
   "source": [
    "#using an else statement\n",
    "name = \"John\"\n",
    "if name == \"jacob\":\n",
    "    print(\"hello Jacob!\")\n",
    "else:\n",
    "    print(\"Hello, {}!\".format(name))"
   ]
  },
  {
   "cell_type": "code",
   "execution_count": 52,
   "id": "0c0a06d7",
   "metadata": {},
   "outputs": [
    {
     "name": "stdout",
     "output_type": "stream",
     "text": [
      "name starts with J\n"
     ]
    }
   ],
   "source": [
    "#writing a full conditional statement with if, elif and else\n",
    "name = \"John\"\n",
    "\n",
    "if name[0] == 'A':\n",
    "    print(\"name starts with A\")\n",
    "elif name[0] == 'B':\n",
    "    print(\"name starts with A\")\n",
    "elif name[0] == 'J':\n",
    "    print(\"name starts with J\")\n",
    "else:                                            #convert all other possibilities\n",
    "    print(\"name starts with{}\".format(name[0]))"
   ]
  },
  {
   "cell_type": "markdown",
   "id": "33357c61",
   "metadata": {},
   "source": [
    "THURSADY EXERCISE"
   ]
  },
  {
   "cell_type": "code",
   "execution_count": 53,
   "id": "fd3f0ab8",
   "metadata": {},
   "outputs": [
    {
     "name": "stdout",
     "output_type": "stream",
     "text": [
      "Hello John\n"
     ]
    }
   ],
   "source": [
    "# Fix the Errors: Given the following code, fix any/all errors so that it outputs\n",
    "# “Hello John” correctly:\n",
    "# >>> name = \"John\"\n",
    "# >>> if name == \"Jack\":\n",
    "# >>> print(\"Hello Jack\")\n",
    "# >>> elif:\n",
    "# >>>> print(\"Hello John\")\n",
    "\n",
    "name = \"John\"\n",
    "if name == \"Jack\":\n",
    "    print(\"Hello Jack\")\n",
    "elif name == \"John\":\n",
    "    print(\"Hello John\")"
   ]
  },
  {
   "cell_type": "code",
   "execution_count": 60,
   "id": "d971b851",
   "metadata": {},
   "outputs": [
    {
     "name": "stdout",
     "output_type": "stream",
     "text": [
      "Enter a time: 1700\n",
      "Good Evening\n"
     ]
    }
   ],
   "source": [
    "# User Input: Ask the user to input the time of day in military time without a\n",
    "# colon (1100 = 11:00 AM). Write a conditional statement so that it outputs the\n",
    "# following:\n",
    "# a. “Good Morning” if less than 1200\n",
    "# b. “Good Afternoon” if between 1200 and 1700\n",
    "# c. “Good Evening” if equal or above 1700\n",
    "\n",
    "\n",
    "inp = int(input(\"Enter a time: \"))\n",
    "\n",
    "if inp < 1200:\n",
    "    print(\"Good Morning\")\n",
    "elif inp >= 1200 and inp < 1700:\n",
    "    print(\"Good Afternoon\")\n",
    "else:\n",
    "    print(\"Good Evening\")"
   ]
  },
  {
   "cell_type": "markdown",
   "id": "54ae3c55",
   "metadata": {},
   "source": [
    "FRIDAY / CREATING CALCULATOR"
   ]
  },
  {
   "cell_type": "code",
   "execution_count": 65,
   "id": "5a51cf40",
   "metadata": {},
   "outputs": [
    {
     "name": "stdout",
     "output_type": "stream",
     "text": [
      "would you like to add/subtract/multiply or divide? divide\n",
      "you chose divide\n",
      "Please keep in mind that order of number matters here.\n",
      "What is the first number? 10\n",
      "What is the second number? 4\n",
      "First Number: 10\n",
      "Second Number: 4\n",
      "10.0 / 4.0 = 2.5\n"
     ]
    }
   ],
   "source": [
    "#Step1: take input from the user about which calculation to perform\n",
    "operation = input(\"would you like to add/subtract/multiply or divide? \").lower()\n",
    "\n",
    "#Step2: Askk for numbers alert order matters\n",
    "if operation == \"subtract\" or operation == \"divide\":\n",
    "    print(\"Please keep in mind that order of number matters here.\")\n",
    "\n",
    "num1 = input(\"What is the first number? \")\n",
    "num2 = input(\"What is the second number? \")\n",
    "\n",
    "#Step3 setup try/except for mathematical operation\n",
    "try:\n",
    "    #step3.a immidiately try to convert number inputs to float\n",
    "    num1, num2 = float(num1), float(num2)\n",
    "    #Step3.b perform operation and print result\n",
    "    if operation == 'add':\n",
    "        result = num1 + num2\n",
    "        print(\"{} + {} = {}\".format(num1, num2, result))\n",
    "    elif operation == 'subtract':\n",
    "        result = num1 - num2\n",
    "        print(\"{} - {} = {}\".format(num1, num2, result))\n",
    "    elif operation == 'multiply':\n",
    "        result = num1 * num2\n",
    "        print(\"{} * {} = {}\".format(num1, num2, result))\n",
    "    elif operation == 'divide':\n",
    "        result = num1 / num2\n",
    "        print(\"{} / {} = {}\".format(num1, num2, result))\n",
    "    else:\n",
    "        print(\"Sorry, {} is not an operation.\".format(operation))\n",
    "except:\n",
    "    #Step3.c print error\n",
    "    print(\"Error: improper numbers used, please try again.\")\n",
    "        \n"
   ]
  },
  {
   "cell_type": "markdown",
   "id": "666f323c",
   "metadata": {},
   "source": [
    "WEEKLY CHALLANGE"
   ]
  },
  {
   "cell_type": "code",
   "execution_count": null,
   "id": "ddb557e2",
   "metadata": {},
   "outputs": [],
   "source": [
    "# Reversing Numbers: Alter the calculator project so that the order\n",
    "# of the numbers doesn’t matter. There are a few ways to get the\n",
    "# same result; one way is to ask the user if they’d like to reverse the\n",
    "# placement of the numbers.\n",
    "#Step1: take input from the user about which calculation to perform\n",
    "operation = input(\"would you like to add/subtract/multiply or divide? \").lower()\n",
    "\n",
    "#Step2: Askk for numbers alert order matters\n",
    "if operation == \"subtract\" or operation == \"divide\":\n",
    "    print(\"Please keep in mind that order of number matters here.\")\n",
    "\n",
    "num1 = input(\"What is the first number? \")\n",
    "num2 = input(\"What is the second number? \")\n",
    "\n",
    "#Step3 setup try/except for mathematical operation\n",
    "try:\n",
    "    #step3.a immidiately try to convert number inputs to float\n",
    "    num1, num2 = float(num1), float(num2)\n",
    "    #Step3.b perform operation and print result\n",
    "    if operation == 'add':\n",
    "        result = num1 + num2\n",
    "        print(\"{} + {} = {}\".format(num1, num2, result))\n",
    "    elif operation == 'subtract':\n",
    "        print(\"we are going to perform {} - {}\")\n",
    "        do_reverse = input(\"Would you like to reverse the numbers? yes/no \").lower()\n",
    "        \n",
    "        if do_reverse == 'yes':\n",
    "            num1, num2 = num2, num1 #in place swap\n",
    "        result = num1 - num2\n",
    "        print(\"{} - {} = {}\".format(num1, num2, result))\n",
    "    elif operation == 'multiply':\n",
    "        result = num1 * num2\n",
    "        print(\"{} * {} = {}\".format(num1, num2, result))\n",
    "    elif operation == 'divide':\n",
    "        print(\"we are going to perform {} / {}\")\n",
    "        do_reverse = input(\"Would you like to reverse the numbers? yes/no \").lower()\n",
    "        \n",
    "        if do_reverse == 'yes':\n",
    "            num1, num2 = num2, num1 #in place swap\n",
    "        result = num1 / num2\n",
    "        print(\"{} / {} = {}\".format(num1, num2, result))\n",
    "    else:\n",
    "        print(\"Sorry, {} is not an operation.\".format(operation))\n",
    "except:\n",
    "    #Step3.c print error\n",
    "    print(\"Error: improper numbers used, please try again.\")\n",
    "        \n",
    "\n",
    "\n"
   ]
  },
  {
   "cell_type": "code",
   "execution_count": 67,
   "id": "1ac9a2cc",
   "metadata": {},
   "outputs": [
    {
     "name": "stdout",
     "output_type": "stream",
     "text": [
      "Please enter your age? 28\n",
      "Young Adult\n"
     ]
    }
   ],
   "source": [
    "# Age Group: Ask the user to input their age. Depending on their\n",
    "# input, output one of the following groups:\n",
    "# a. Between 0 and 12 = “Kid”\n",
    "# b. Between 13 and 19 = “Teenager”\n",
    "# c. Between 20 and 30 = “Young Adult”\n",
    "# d. Between 31 and 64 = “Adult”\n",
    "# e. 65 or above = “Senior”\n",
    "\n",
    "age = int(input(\"Please enter your age? \"))\n",
    "\n",
    "if age >= 0 and age <= 12:\n",
    "    print(\"Kid\")\n",
    "elif age >= 13 and age <= 19:\n",
    "    print(\"Teenager\")\n",
    "elif age >= 20 and age <= 30:\n",
    "    print(\"Young Adult\")\n",
    "elif age >= 31 and age <=64:\n",
    "    print(\"Adult\")\n",
    "elif age >= 65:\n",
    "    print(\"Senior\")"
   ]
  },
  {
   "cell_type": "code",
   "execution_count": 69,
   "id": "b3a28a35",
   "metadata": {},
   "outputs": [
    {
     "name": "stdout",
     "output_type": "stream",
     "text": [
      "Let's play a simple game?\n",
      "Start Game? Y/NY\n",
      "You need to find the key to the lock.\n",
      "in which path so you think the key is? 1/22\n",
      "You lost!\n"
     ]
    }
   ],
   "source": [
    "# Text-Based RPG: This is an open-ended exercise. Create a textbased\n",
    "# RPG with a story line. You take user input and give them\n",
    "# a couple choices, and depending on what they choose, they can\n",
    "# go down a different path. You’ll use several branching statements\n",
    "# depending on the length of the story.\n",
    "\n",
    "print(\"Let's play a simple game?\")\n",
    "\n",
    "ans = input(\"Start Game? Y/N\").upper()\n",
    "\n",
    "if ans == 'Y':\n",
    "    print(\"You need to find the key to the lock.\")\n",
    "    \n",
    "    inp = input(\"in which path so you think the key is? 1/2\")\n",
    "    \n",
    "    if(inp == '1'):\n",
    "        print(\"Key Found, you won!\")\n",
    "    else:\n",
    "        print(\"You lost!\")\n",
    "elif ans == 'N':\n",
    "    print(\"nvm, enjoy!\")"
   ]
  }
 ],
 "metadata": {
  "kernelspec": {
   "display_name": "Python 3 (ipykernel)",
   "language": "python",
   "name": "python3"
  },
  "language_info": {
   "codemirror_mode": {
    "name": "ipython",
    "version": 3
   },
   "file_extension": ".py",
   "mimetype": "text/x-python",
   "name": "python",
   "nbconvert_exporter": "python",
   "pygments_lexer": "ipython3",
   "version": "3.9.7"
  }
 },
 "nbformat": 4,
 "nbformat_minor": 5
}
