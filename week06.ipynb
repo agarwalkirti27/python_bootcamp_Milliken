{
 "cells": [
  {
   "cell_type": "code",
   "execution_count": 16,
   "id": "e0ed3d60",
   "metadata": {},
   "outputs": [
    {
     "name": "stdout",
     "output_type": "stream",
     "text": [
      "False\n"
     ]
    }
   ],
   "source": [
    "#palindrom String\n",
    "\n",
    "st = \"abccbar\"\n",
    "j = -1\n",
    "flag = True\n",
    "\n",
    "for i in st:\n",
    "    if i != st[j]:\n",
    "        flag = False\n",
    "    j=j-1\n",
    "    \n",
    "if flag:\n",
    "    print(\"True\")\n",
    "if not flag:\n",
    "    print(\"False\")"
   ]
  },
  {
   "cell_type": "markdown",
   "id": "b039135a",
   "metadata": {},
   "source": [
    "#Dictionaries\n"
   ]
  },
  {
   "cell_type": "code",
   "execution_count": 19,
   "id": "7160fd56",
   "metadata": {},
   "outputs": [
    {
     "name": "stdout",
     "output_type": "stream",
     "text": [
      "{'name': 'test', 'age': 25}\n"
     ]
    }
   ],
   "source": [
    "#Declaring a variable in the dictionary\n",
    "\n",
    "empty = {}\n",
    "\n",
    "#dictionary with one key value pair\n",
    "person = {\"name\":\"KA\"}\n",
    "\n",
    "#dictionary with more than one key value pair\n",
    "customer = {\"name\":\"test\", \"age\":25}\n",
    "\n",
    "print(customer)"
   ]
  },
  {
   "cell_type": "code",
   "execution_count": 20,
   "id": "e90d23c7",
   "metadata": {},
   "outputs": [
    {
     "name": "stdout",
     "output_type": "stream",
     "text": [
      "KA\n"
     ]
    }
   ],
   "source": [
    "#accessing dictionary information through keys\n",
    "\n",
    "person = {\"name\" : \"KA\"}\n",
    "\n",
    "print(person[\"name\"])"
   ]
  },
  {
   "cell_type": "code",
   "execution_count": 22,
   "id": "c997fd88",
   "metadata": {},
   "outputs": [
    {
     "name": "stdout",
     "output_type": "stream",
     "text": [
      "John\n",
      "Age is not defined.\n"
     ]
    }
   ],
   "source": [
    "#using the get method\n",
    "person = {\"name\":\"John\"}\n",
    "print(person.get(\"name\"))\n",
    "\n",
    "#get is a secure way to retrieve information\n",
    "\n",
    "print(person.get(\"age\", \"Age is not defined.\"))"
   ]
  },
  {
   "cell_type": "code",
   "execution_count": 23,
   "id": "6290d264",
   "metadata": {},
   "outputs": [
    {
     "name": "stdout",
     "output_type": "stream",
     "text": [
      "Baseball\n"
     ]
    }
   ],
   "source": [
    "#storing a list within dictionary and accessing it\n",
    "data = {\"sports\": [\"Baseball\", \"Football\", \"Cricket\"]}\n",
    "print(data[\"sports\"][0])"
   ]
  },
  {
   "cell_type": "code",
   "execution_count": 24,
   "id": "4f0b1eab",
   "metadata": {},
   "outputs": [
    {
     "ename": "ValueError",
     "evalue": "dictionary update sequence element #0 has length 8; 2 is required",
     "output_type": "error",
     "traceback": [
      "\u001b[0;31m---------------------------------------------------------------------------\u001b[0m",
      "\u001b[0;31mValueError\u001b[0m                                Traceback (most recent call last)",
      "\u001b[0;32m/var/folders/1v/wx6x1txd7l3c9b7xf79449hm0000gn/T/ipykernel_77181/71806748.py\u001b[0m in \u001b[0;36m<module>\u001b[0;34m\u001b[0m\n\u001b[1;32m      2\u001b[0m \u001b[0msports\u001b[0m \u001b[0;34m=\u001b[0m \u001b[0;34m[\u001b[0m\u001b[0;34m\"Baseball\"\u001b[0m\u001b[0;34m,\u001b[0m \u001b[0;34m\"Cricket\"\u001b[0m\u001b[0;34m,\u001b[0m \u001b[0;34m\"Badminton\"\u001b[0m\u001b[0;34m]\u001b[0m\u001b[0;34m\u001b[0m\u001b[0;34m\u001b[0m\u001b[0m\n\u001b[1;32m      3\u001b[0m \u001b[0;34m\u001b[0m\u001b[0m\n\u001b[0;32m----> 4\u001b[0;31m \u001b[0msports_dict\u001b[0m \u001b[0;34m=\u001b[0m \u001b[0mdict\u001b[0m\u001b[0;34m(\u001b[0m\u001b[0msports\u001b[0m\u001b[0;34m)\u001b[0m\u001b[0;34m\u001b[0m\u001b[0;34m\u001b[0m\u001b[0m\n\u001b[0m",
      "\u001b[0;31mValueError\u001b[0m: dictionary update sequence element #0 has length 8; 2 is required"
     ]
    }
   ],
   "source": [
    "#improperly storing list in the dictionary\n",
    "sports = [\"Baseball\", \"Cricket\", \"Badminton\"]\n",
    "\n",
    "sports_dict = dict(sports)"
   ]
  },
  {
   "cell_type": "code",
   "execution_count": 30,
   "id": "40aa25f7",
   "metadata": {
    "scrolled": true
   },
   "outputs": [
    {
     "name": "stdout",
     "output_type": "stream",
     "text": [
      "{'sports': ['Baseball', 'Cricket', 'Badminton']}\n"
     ]
    }
   ],
   "source": [
    "#properly storing list in the dictionary\n",
    "sports = [\"Baseball\", \"Cricket\", \"Badminton\"]\n",
    "\n",
    "sports_dict = dict({\"sports\" : sports})\n",
    "\n",
    "print(sports_dict)"
   ]
  },
  {
   "cell_type": "code",
   "execution_count": 33,
   "id": "62b163ee",
   "metadata": {},
   "outputs": [
    {
     "name": "stdout",
     "output_type": "stream",
     "text": [
      "45\n"
     ]
    }
   ],
   "source": [
    "#storing a dictionary within a list and accessing it\n",
    "data = [\"name\", 56, {\"name\": \"KA\", \"age\":45}]\n",
    "\n",
    "print(data[2][\"age\"])"
   ]
  },
  {
   "cell_type": "code",
   "execution_count": 34,
   "id": "69595d82",
   "metadata": {},
   "outputs": [
    {
     "name": "stdout",
     "output_type": "stream",
     "text": [
      "{'2019': 123, '2017': 93}\n",
      "123\n"
     ]
    }
   ],
   "source": [
    "#storing a dictionary within a dictionary and accessing it\n",
    "data = {\"team\": \"Boston Red Sox\", \"wins\":{\"2019\": 123, \"2017\": 93}}\n",
    "\n",
    "print(data[\"wins\"])\n",
    "print(data[\"wins\"][\"2019\"])"
   ]
  },
  {
   "cell_type": "code",
   "execution_count": 36,
   "id": "dba3864a",
   "metadata": {},
   "outputs": [
    {
     "name": "stdout",
     "output_type": "stream",
     "text": [
      "Please enter your name: KA\n",
      "Please enter your age: 28\n",
      "{'name': 'KA', 'age': 28}\n"
     ]
    }
   ],
   "source": [
    "# User Input: Ask the user for their name and age, and then create a dictionary\n",
    "# with those key-value pairs. Output the dictionary once created.\n",
    "\n",
    "\n",
    "name = input(\"Please enter your name: \")\n",
    "age = input(\"Please enter your age: \")\n",
    "\n",
    "\n",
    "dic = {\"name\": name, \"age\": int(age)}\n",
    "\n",
    "print(dic)"
   ]
  },
  {
   "cell_type": "code",
   "execution_count": 39,
   "id": "89bedb30",
   "metadata": {},
   "outputs": [
    {
     "name": "stdout",
     "output_type": "stream",
     "text": [
      "cheese\n",
      "sausage\n",
      "peppers\n"
     ]
    }
   ],
   "source": [
    "# Accessing Ingredients: Output all the ingredients from the following list within\n",
    "# the “ingredients” key using a for loop:\n",
    "# >>> pizza = {\n",
    "# >>> 'ingredients': ['cheese', 'sausage', 'peppers']\n",
    "# >>> }\n",
    "pizza = {'ingredients': ['cheese', 'sausage', 'peppers']}\n",
    "\n",
    "lst = pizza[\"ingredients\"]\n",
    "\n",
    "for i in lst:\n",
    "    print(i)"
   ]
  },
  {
   "cell_type": "code",
   "execution_count": 42,
   "id": "7059edd0",
   "metadata": {},
   "outputs": [
    {
     "name": "stdout",
     "output_type": "stream",
     "text": [
      "year: 2018 \t color: blue\n"
     ]
    }
   ],
   "source": [
    "#working with Dictionaries\n",
    "\n",
    "#adding new key value pairs to dictionaries\n",
    "car = {\"year\":2018}\n",
    "car[\"color\"] = \"blue\"\n",
    "\n",
    "print(\"year: {} \\t color: {}\".format(car[\"year\"], car[\"color\"]))"
   ]
  },
  {
   "cell_type": "code",
   "execution_count": 43,
   "id": "675b98f9",
   "metadata": {},
   "outputs": [
    {
     "name": "stdout",
     "output_type": "stream",
     "text": [
      "year: 2018 \t color: Red\n"
     ]
    }
   ],
   "source": [
    "#changing values of keys \n",
    "\n",
    "car = {\"year\":2018}\n",
    "car[\"color\"] = \"Red\"\n",
    "\n",
    "print(\"year: {} \\t color: {}\".format(car[\"year\"], car[\"color\"]))"
   ]
  },
  {
   "cell_type": "code",
   "execution_count": 44,
   "id": "2b6ba1dc",
   "metadata": {},
   "outputs": [
    {
     "name": "stdout",
     "output_type": "stream",
     "text": [
      "{}\n"
     ]
    }
   ],
   "source": [
    "#deleting a key/value pair from the dictionary\n",
    "car = {\"year\": 2015}\n",
    "\n",
    "try:\n",
    "    del car[\"year\"]\n",
    "    print(car)\n",
    "except:\n",
    "    print(\"The Key doesn't exist\")"
   ]
  },
  {
   "cell_type": "code",
   "execution_count": 46,
   "id": "ca063ab9",
   "metadata": {},
   "outputs": [
    {
     "name": "stdout",
     "output_type": "stream",
     "text": [
      "name\n",
      "John\n",
      "age\n",
      "26\n"
     ]
    }
   ],
   "source": [
    "#looping over a dictionary via the keys\n",
    "person = {\"name\": \"John\", \"age\":26}\n",
    "\n",
    "for key in person.keys():\n",
    "    print(key)\n",
    "    print(person[key])"
   ]
  },
  {
   "cell_type": "code",
   "execution_count": 48,
   "id": "24107a03",
   "metadata": {},
   "outputs": [
    {
     "name": "stdout",
     "output_type": "stream",
     "text": [
      "John\n",
      "26\n"
     ]
    }
   ],
   "source": [
    "#looping over a dictionary via the values\n",
    "person = {\"name\": \"John\", \"age\":26}\n",
    "\n",
    "for value in person.values():\n",
    "    print(value)"
   ]
  },
  {
   "cell_type": "code",
   "execution_count": 49,
   "id": "7ea36b1d",
   "metadata": {},
   "outputs": [
    {
     "name": "stdout",
     "output_type": "stream",
     "text": [
      "name : John \n",
      "age : 26 \n"
     ]
    }
   ],
   "source": [
    "#looping over a dictionary via key/value pair\n",
    "person = {\"name\":\"John\", \"age\": 26}\n",
    "for key, value in person.items():\n",
    "    print(\"{} : {} \".format(key, value))"
   ]
  },
  {
   "cell_type": "code",
   "execution_count": 50,
   "id": "e494d19a",
   "metadata": {},
   "outputs": [
    {
     "name": "stdout",
     "output_type": "stream",
     "text": [
      "Please enter your name: John\n",
      "Please enter your address: test 123\n",
      "Please enter your number: 131312313\n",
      "name : John\n",
      "address : test 123\n",
      "number : 131312313\n"
     ]
    }
   ],
   "source": [
    "#TUESDAY EXERCISE\n",
    "# User Input: Declare an empty dictionary. Ask the user for their name, address,\n",
    "# and number. Add that information to the dictionary and iterate over it to show\n",
    "# the user.\n",
    "\n",
    "dic = {}\n",
    "name = input(\"Please enter your name: \")\n",
    "address = input(\"Please enter your address: \")\n",
    "number = input(\"Please enter your number: \")\n",
    "\n",
    "dic = {\"name\": name, \"address\": address, \"number\": number}\n",
    "\n",
    "for k,v in dic.items():\n",
    "    print(\"{} : {}\".format(k, v))\n"
   ]
  },
  {
   "cell_type": "code",
   "execution_count": 51,
   "id": "280db1f0",
   "metadata": {},
   "outputs": [
    {
     "name": "stdout",
     "output_type": "stream",
     "text": [
      "John Smith\n"
     ]
    }
   ],
   "source": [
    "# Problem-Solving: What is wrong with the following code:\n",
    "# >>> person = { 'name', 'John Smith' }\n",
    "# >>> print(person['name'])\n",
    "\n",
    "person = { 'name': 'John Smith' }\n",
    "print(person['name'])"
   ]
  },
  {
   "cell_type": "markdown",
   "id": "a84060a2",
   "metadata": {},
   "source": [
    "#Tuples, sets, frozensets"
   ]
  },
  {
   "cell_type": "code",
   "execution_count": 53,
   "id": "bb98d831",
   "metadata": {},
   "outputs": [
    {
     "name": "stdout",
     "output_type": "stream",
     "text": [
      "<class 'tuple'> <class 'tuple'>\n"
     ]
    },
    {
     "ename": "TypeError",
     "evalue": "'tuple' object does not support item assignment",
     "output_type": "error",
     "traceback": [
      "\u001b[0;31m---------------------------------------------------------------------------\u001b[0m",
      "\u001b[0;31mTypeError\u001b[0m                                 Traceback (most recent call last)",
      "\u001b[0;32m/var/folders/1v/wx6x1txd7l3c9b7xf79449hm0000gn/T/ipykernel_77181/2995303769.py\u001b[0m in \u001b[0;36m<module>\u001b[0;34m\u001b[0m\n\u001b[1;32m      4\u001b[0m \u001b[0;34m\u001b[0m\u001b[0m\n\u001b[1;32m      5\u001b[0m \u001b[0mprint\u001b[0m\u001b[0;34m(\u001b[0m\u001b[0mtype\u001b[0m\u001b[0;34m(\u001b[0m\u001b[0mt1\u001b[0m\u001b[0;34m)\u001b[0m\u001b[0;34m,\u001b[0m \u001b[0mtype\u001b[0m\u001b[0;34m(\u001b[0m\u001b[0mt2\u001b[0m\u001b[0;34m)\u001b[0m\u001b[0;34m)\u001b[0m\u001b[0;34m\u001b[0m\u001b[0;34m\u001b[0m\u001b[0m\n\u001b[0;32m----> 6\u001b[0;31m \u001b[0mt1\u001b[0m\u001b[0;34m[\u001b[0m\u001b[0;36m0\u001b[0m\u001b[0;34m]\u001b[0m \u001b[0;34m=\u001b[0m \u001b[0;36m1\u001b[0m \u001b[0;31m#will crash, tuples are immutable once declared\u001b[0m\u001b[0;34m\u001b[0m\u001b[0;34m\u001b[0m\u001b[0m\n\u001b[0m",
      "\u001b[0;31mTypeError\u001b[0m: 'tuple' object does not support item assignment"
     ]
    }
   ],
   "source": [
    "#declaring  tuple\n",
    "t1 = (\"hello\", 2, \"hello\")\n",
    "t2 = True, 1\n",
    "\n",
    "print(type(t1), type(t2))\n",
    "t1[0] = 1 #will crash, tuples are immutable once declared\n",
    "\n",
    "#tuple cannot be changed, we have to redeclare the entire tuple if we want to change it"
   ]
  },
  {
   "cell_type": "code",
   "execution_count": 55,
   "id": "d8bd622e",
   "metadata": {},
   "outputs": [
    {
     "name": "stdout",
     "output_type": "stream",
     "text": [
      "<class 'set'> <class 'set'>\n",
      "{1, 2, 3}\n",
      "{2, 3, 5}\n"
     ]
    }
   ],
   "source": [
    "#declaring a set\n",
    "s1 = set([1, 2, 3, 1])\n",
    "s2 = {4, 4, 5}\n",
    "\n",
    "print(type(s1), type(s2))\n",
    "\n",
    "print(s1)\n",
    "s1.add(5)\n",
    "s1.remove(1)\n",
    "\n",
    "print(s1)"
   ]
  },
  {
   "cell_type": "code",
   "execution_count": 56,
   "id": "eb4bb6f9",
   "metadata": {},
   "outputs": [],
   "source": [
    "#FROZEN SET\n",
    "# Frozensets are essentially the combination of a set and a tuple. They are immutable,\n",
    "# unordered, and unique. These are perfect for sensitive information like bank account\n",
    "# numbers, as you wouldn’t want to alter those. They can be iterated over, but not indexed\n",
    "\n"
   ]
  },
  {
   "cell_type": "code",
   "execution_count": 57,
   "id": "465d3628",
   "metadata": {},
   "outputs": [
    {
     "name": "stdout",
     "output_type": "stream",
     "text": [
      "<class 'frozenset'>\n"
     ]
    }
   ],
   "source": [
    "#declaring a frozenset\n",
    "fset = frozenset([1, 2, 3, 4])\n",
    "print(type(fset))"
   ]
  },
  {
   "cell_type": "code",
   "execution_count": 2,
   "id": "ba1ef34a",
   "metadata": {},
   "outputs": [
    {
     "name": "stdout",
     "output_type": "stream",
     "text": [
      "Enter Account Number or quit: 12345678\n",
      "Enter Account Number or quit: 23456789\n",
      "Enter Account Number or quit: 098765432\n",
      "Enter Account Number or quit: 987654321\n",
      "Enter Account Number or quit: quit\n",
      "Account Number 987654321.\n",
      "Account Number 23456789.\n",
      "Account Number 12345678.\n",
      "Account Number 098765432.\n"
     ]
    }
   ],
   "source": [
    "#WEDNESDAY EXERCISE\n",
    "# User Input: Ask the user to input as many bank account numbers as they’d\n",
    "# like, and store them within a list initially. Once the user is done entering\n",
    "# information, convert the list to a frozenset and print it out.\n",
    "\n",
    "bank_account_number = []\n",
    "done = False\n",
    "\n",
    "while not done:\n",
    "    accnt = input(\"Enter Account Number or quit: \").lower()\n",
    "    \n",
    "    if accnt == \"quit\":\n",
    "        done = True\n",
    "        \n",
    "        bank_account_number = frozenset(bank_account_number)\n",
    "        \n",
    "        for acc in bank_account_number:\n",
    "            print(\"Account Number {}.\".format(acc))\n",
    "    else:\n",
    "        bank_account_number.append(accnt)\n",
    "            "
   ]
  },
  {
   "cell_type": "code",
   "execution_count": 4,
   "id": "278bab54",
   "metadata": {},
   "outputs": [
    {
     "name": "stdout",
     "output_type": "stream",
     "text": [
      "{10, 3, 4, 7}\n"
     ]
    }
   ],
   "source": [
    "# Conversion: Convert the following list into a set of unique values. Print it out\n",
    "# after to check there are no duplicates:\n",
    "# >>> nums = [3, 4, 3, 7, 10]\n",
    "nums = [3, 4, 3, 7, 10]\n",
    "s1 = set(nums)\n",
    "print(s1)"
   ]
  },
  {
   "cell_type": "markdown",
   "id": "e0aedfd4",
   "metadata": {},
   "source": [
    "#Reading and Writing files"
   ]
  },
  {
   "cell_type": "code",
   "execution_count": 3,
   "id": "26eef505",
   "metadata": {},
   "outputs": [
    {
     "name": "stdout",
     "output_type": "stream",
     "text": [
      "This is a test.\n",
      "This is a test.appending to the file.\n"
     ]
    }
   ],
   "source": [
    "#opening/creating and writing to a text file\n",
    "f = open(\"test.txt\", \"w+\")\n",
    "f.write(\"This is a test.\")\n",
    "f.close()\n",
    "\n",
    "#reading from a test file\n",
    "f = open(\"test.txt\", \"r\")\n",
    "data = f.read()\n",
    "f.close()\n",
    "print(data)\n",
    "\n",
    "f = open(\"test.txt\", \"a\")\n",
    "f.write(\"appending to the file.\")\n",
    "\n",
    "\n",
    "f = open(\"test.txt\", \"r\")\n",
    "data = f.read()\n",
    "f.close()\n",
    "print(data)"
   ]
  },
  {
   "cell_type": "code",
   "execution_count": 5,
   "id": "d7a0d959",
   "metadata": {},
   "outputs": [],
   "source": [
    "#opening/creating and writing to a csv file\n",
    "\n",
    "import csv\n",
    "with open(\"test.csv\", mode=\"w\", newline=\"\") as f:\n",
    "    writer = csv.writer(f, delimiter=\",\")\n",
    "    writer.writerow([\"name\", \"City\"])\n",
    "    writer.writerow([\"Craig Lou\", \"Taiwan\"])"
   ]
  },
  {
   "cell_type": "code",
   "execution_count": 6,
   "id": "fe14a3d0",
   "metadata": {},
   "outputs": [
    {
     "name": "stdout",
     "output_type": "stream",
     "text": [
      "['name', 'City']\n",
      "['Craig Lou', 'Taiwan']\n"
     ]
    }
   ],
   "source": [
    "#reading data from csv files\n",
    "\n",
    "with open(\"test.csv\", mode=\"r\") as f:\n",
    "    reader = csv.reader(f, delimiter=\",\")\n",
    "    for row in reader:\n",
    "        print(row)"
   ]
  },
  {
   "cell_type": "code",
   "execution_count": 7,
   "id": "5bf76645",
   "metadata": {},
   "outputs": [
    {
     "name": "stdout",
     "output_type": "stream",
     "text": [
      "Please enter your favourite number: 4\n",
      "4\n"
     ]
    }
   ],
   "source": [
    "#THURSDAY EXERCISE\n",
    "# User Input: Ask a user for their favorite number, and save it to a text file.\n",
    "\n",
    "num = input(\"Please enter your favourite number: \")\n",
    "\n",
    "f = open(\"num.txt\", \"w+\")\n",
    "f.write(num)\n",
    "f.close()\n",
    "\n",
    "\n",
    "f = open(\"num.txt\", \"r\")\n",
    "data = f.read()\n",
    "f.close()\n",
    "print(data)"
   ]
  },
  {
   "cell_type": "code",
   "execution_count": 5,
   "id": "62ddfb87",
   "metadata": {},
   "outputs": [],
   "source": [
    "# Data Dumping: Using the dictionary of following data, save the\n",
    "# information to a csv file with the keys as the headers and the\n",
    "# values as the rows of data:\n",
    "\n",
    "import csv\n",
    "data = {'name' : ['Dave', 'Dennis', 'Peter', 'Jess'], 'language': ['Python', 'C', 'Java', 'Python']}\n",
    "\n",
    "with open(\"exercise.csv\", mode=\"w+\", newline=\"\") as f:\n",
    "    writer = csv.writer(f, delimiter=\",\")\n",
    "    writer.writerow(data.keys())\n",
    "        \n",
    "    for i in range(len(data[\"name\"])):\n",
    "        writer.writerow([data['name'][i], data['language'][i]])\n",
    "\n",
    "\n",
    "\n"
   ]
  },
  {
   "cell_type": "markdown",
   "id": "8d02dab4",
   "metadata": {},
   "source": [
    "#FRIDAY PROJECT : creating a User Database with CSV files"
   ]
  },
  {
   "cell_type": "code",
   "execution_count": 8,
   "id": "3ac41436",
   "metadata": {},
   "outputs": [
    {
     "name": "stdout",
     "output_type": "stream",
     "text": [
      "you are now logged in!\n",
      "1. Logout\n",
      " 2. Quit\n",
      "What would you like to do?logout\n",
      "You are now logged out.\n",
      "1. Login\n",
      " 2. Register \n",
      " 3.Quit\n",
      "What would you like to do?Quit\n",
      "Thanks for using our software!\n"
     ]
    }
   ],
   "source": [
    "#import all necessary imports to use\n",
    "\n",
    "import csv\n",
    "from IPython.display import clear_output\n",
    "    \n",
    "#handle user registration and writing that to csv\n",
    "\n",
    "def registerUser():\n",
    "    with open(\"users.csv\", mode = \"a\", newline=\"\") as f:\n",
    "        writer = csv.writer(f, delimiter=',')\n",
    "        print(\"To Register, Please enter your info:\")\n",
    "        email = input(\"E-Mail: \")\n",
    "        password1 = input(\"Password: \")\n",
    "        password2 = input(\"Re-Type Password: \")\n",
    "        \n",
    "        clear_output()\n",
    "        if password1 == password2:\n",
    "            writer.writerow([email, password1])\n",
    "            print(\"You are registered now.\")\n",
    "        else:\n",
    "            print(\"Something went wrong. Try again.\")\n",
    "            \n",
    "def loginUser():\n",
    "    print(\"To login please enter your info: \")\n",
    "    email = input(\"E-Mail: \")\n",
    "    password = input(\"password: \")\n",
    "    clear_output()\n",
    "    with open(\"users.csv\", mode = \"r\", newline=\"\") as f:\n",
    "        reader = csv.reader(f, delimiter=',')\n",
    "        for row in reader:\n",
    "            if row == [email, password]:\n",
    "                print(\"you are now logged in!\")\n",
    "                return True\n",
    "    print(\"something went wrong, please try again later.\")\n",
    "    return False\n",
    "\n",
    "#variables for main loop\n",
    "active = True\n",
    "logged_in = False\n",
    "\n",
    "#main loop\n",
    "\n",
    "while active:\n",
    "    if logged_in:\n",
    "        print(\"1. Logout\\n 2. Quit\")\n",
    "    else:\n",
    "        print(\"1. Login\\n 2. Register \\n 3.Quit\")\n",
    "    choice = input(\"What would you like to do?\").lower()\n",
    "    \n",
    "    if choice == \"register\" and logged_in == False:\n",
    "        registerUser()\n",
    "    elif choice == \"login\" and logged_in == False:\n",
    "        logged_in = loginUser()\n",
    "    elif choice == \"quit\":\n",
    "        active = False\n",
    "        print(\"Thanks for using our software!\")\n",
    "    elif choice == \"logout\" and logged_in == True:\n",
    "        logged_in = False\n",
    "        print(\"You are now logged out.\")\n",
    "    else:\n",
    "        print(\"sorry, Please try again!\")\n",
    "     \n",
    "\n",
    "    \n"
   ]
  },
  {
   "cell_type": "code",
   "execution_count": null,
   "id": "a02eb10b",
   "metadata": {},
   "outputs": [],
   "source": []
  }
 ],
 "metadata": {
  "kernelspec": {
   "display_name": "Python 3 (ipykernel)",
   "language": "python",
   "name": "python3"
  },
  "language_info": {
   "codemirror_mode": {
    "name": "ipython",
    "version": 3
   },
   "file_extension": ".py",
   "mimetype": "text/x-python",
   "name": "python",
   "nbconvert_exporter": "python",
   "pygments_lexer": "ipython3",
   "version": "3.9.7"
  }
 },
 "nbformat": 4,
 "nbformat_minor": 5
}
