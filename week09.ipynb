{
 "cells": [
  {
   "cell_type": "markdown",
   "id": "81a6fc8c",
   "metadata": {},
   "source": [
    "Generators and Iterators"
   ]
  },
  {
   "cell_type": "code",
   "execution_count": 3,
   "id": "cb76dda1",
   "metadata": {},
   "outputs": [
    {
     "name": "stdout",
     "output_type": "stream",
     "text": [
      "Baseball\n",
      "Soccer\n"
     ]
    }
   ],
   "source": [
    "#creating a basic iterator from iterable\n",
    "sports = [\"Baseball\", \"Soccer\", \"Football\", \"Hockey\", \"Basketball\"]\n",
    "my_iter = iter(sports)\n",
    "print(next(my_iter))\n",
    "print(next(my_iter))\n",
    "\n",
    "# for i in my_iter:\n",
    "#     print(i)\n",
    "# print(next(my_iter))\n",
    "    \n",
    "\n"
   ]
  },
  {
   "cell_type": "code",
   "execution_count": 4,
   "id": "31777001",
   "metadata": {},
   "outputs": [
    {
     "name": "stdout",
     "output_type": "stream",
     "text": [
      "a\n",
      "b\n",
      "c\n",
      "d\n",
      "e\n",
      "f\n",
      "g\n",
      "h\n",
      "i\n",
      "j\n",
      "k\n",
      "l\n",
      "m\n",
      "n\n",
      "o\n",
      "p\n",
      "q\n",
      "r\n",
      "s\n",
      "t\n",
      "u\n",
      "v\n",
      "w\n",
      "x\n",
      "y\n",
      "z\n"
     ]
    }
   ],
   "source": [
    "#creating your own iterator\n",
    "\n",
    "class Alphabet():\n",
    "    def __iter__(self):\n",
    "        self.letters = 'abcdefghijklmnopqrstuvwxyz'\n",
    "        self.index = 0\n",
    "        return self\n",
    "    def __next__(self):\n",
    "        if self.index <= 25:\n",
    "            char = self.letters[self.index]\n",
    "            self.index+=1\n",
    "            return char\n",
    "        else:\n",
    "            raise StopIteration\n",
    "\n",
    "for char in Alphabet():\n",
    "    print(char)\n",
    "        \n",
    "        "
   ]
  },
  {
   "cell_type": "code",
   "execution_count": 5,
   "id": "5ff3c8b4",
   "metadata": {},
   "outputs": [
    {
     "name": "stdout",
     "output_type": "stream",
     "text": [
      "Generator start value: 0\n",
      "For loop x value: 0\n",
      "Generator start value: 1\n",
      "For loop x value: 1\n",
      "Generator start value: 2\n",
      "For loop x value: 2\n",
      "Generator start value: 3\n",
      "For loop x value: 3\n",
      "Generator start value: 4\n",
      "For loop x value: 4\n"
     ]
    }
   ],
   "source": [
    "#Generators. -> simplified iterators\n",
    "\n",
    "\n",
    "#creating our own generatoe with start, stop and step \n",
    "def myRange(stop, start=0, step=1):\n",
    "    \n",
    "    while(start < stop):\n",
    "        print(\"Generator start value: {}\".format(start))\n",
    "        yield start\n",
    "        start+=step\n",
    "        \n",
    "for x in myRange(5):\n",
    "    print(\"For loop x value: {}\".format(x))\n",
    "    "
   ]
  },
  {
   "cell_type": "markdown",
   "id": "2b8fae57",
   "metadata": {},
   "source": [
    "MONDAY EXERCISE"
   ]
  },
  {
   "cell_type": "code",
   "execution_count": 6,
   "id": "e6e78dc9",
   "metadata": {},
   "outputs": [
    {
     "name": "stdout",
     "output_type": "stream",
     "text": [
      "5\n",
      "4\n",
      "3\n",
      "2\n",
      "1\n"
     ]
    }
   ],
   "source": [
    "# Reverse Iteration: Create an iterator that takes in a list, and when iterated over,\n",
    "# it returns the information in a reverse order. Hint: When accepting arguments\n",
    "# into an iterator, you need to use the init method, as well as iter and next. The\n",
    "# following call should result in “5, 4, 3, 2, 1”.\n",
    "# >>> for i in RevIter( [ 1, 2, 3, 4, 5 ] ):\n",
    "\n",
    "\n",
    "class RevIter():\n",
    "    def __init__(self, data):\n",
    "        self.data = data\n",
    "        self.i = len(data)-1\n",
    "    def __iter__(self):\n",
    "        return self\n",
    "    \n",
    "    def __next__(self):\n",
    "        if self.i>=0:\n",
    "            item = self.data[self.i]\n",
    "            self.i-=1\n",
    "            return item\n",
    "        else:\n",
    "            raise StopIteration\n",
    "            \n",
    "rev_iter = RevIter([1, 2, 3, 4, 5])\n",
    "\n",
    "for i in rev_iter:\n",
    "    print(i)"
   ]
  },
  {
   "cell_type": "code",
   "execution_count": 12,
   "id": "1551eb12",
   "metadata": {},
   "outputs": [
    {
     "name": "stdout",
     "output_type": "stream",
     "text": [
      "0\n",
      "1\n",
      "4\n",
      "9\n",
      "16\n"
     ]
    }
   ],
   "source": [
    "# Squares: Create a generator that acts like the range function, except it\n",
    "# yields a squared number every time. The result of the following call should\n",
    "# be “0, 1, 4, 16”.\n",
    "# >>> for i in range(4):\n",
    "\n",
    "\n",
    "def square(n):\n",
    "    for i in range(n+1):\n",
    "        yield i**2\n",
    "        \n",
    "for x in square(4):\n",
    "    print(x)"
   ]
  },
  {
   "cell_type": "markdown",
   "id": "d0b50038",
   "metadata": {},
   "source": [
    "Decorators\n",
    "Decorators, also known as wrappers, are functions that give other functions extra\n",
    "capabilities without explicitly modifying them. They are denoted by the “@” symbol\n",
    "in front of the function name, which is written above a function declaration like the\n",
    "following:\n",
    ">>> @decorator\n",
    ">>> def normalFunc( ):"
   ]
  },
  {
   "cell_type": "markdown",
   "id": "a3f47b48",
   "metadata": {},
   "source": [
    "Higher-Order Functions\n",
    "A higher-order function is a function that operates on other functions, either by taking\n",
    "a function as its argument or by returning a function. We saw this done in last week’s\n",
    "lesson with lambdas, map, filter, and reduce. Decorators are higher-order functions\n",
    "because they take in a function and return a function."
   ]
  },
  {
   "cell_type": "code",
   "execution_count": 14,
   "id": "1cd5d794",
   "metadata": {},
   "outputs": [
    {
     "name": "stdout",
     "output_type": "stream",
     "text": [
      "========\n",
      "John!\n",
      "========\n"
     ]
    }
   ],
   "source": [
    "#creating and pplying our own decorator sing @symbol\n",
    "\n",
    "def decorator(func):\n",
    "    def wrap():\n",
    "        print(\"========\")\n",
    "        func()\n",
    "        print(\"========\")\n",
    "    return wrap\n",
    "\n",
    "@decorator\n",
    "def printName():\n",
    "    print(\"John!\")\n",
    "\n",
    "printName()"
   ]
  },
  {
   "cell_type": "code",
   "execution_count": 19,
   "id": "71458f85",
   "metadata": {},
   "outputs": [
    {
     "name": "stdout",
     "output_type": "stream",
     "text": [
      "Hello!\n",
      "Hello!\n",
      "Hello!\n",
      "Hello!\n"
     ]
    }
   ],
   "source": [
    "#creating decoratoe that takes in argument\n",
    "\n",
    "def run_times(num):\n",
    "    def wrap(func):\n",
    "        for i in range(num):\n",
    "            func()\n",
    "    return wrap\n",
    "            \n",
    "@run_times(4)\n",
    "def sayHello():\n",
    "    print(\"Hello!\")\n",
    "    \n",
    "    \n",
    "# Note When passing an argument into a decorator, the function is automatically\n",
    "# run, so we do not need to call sayHello in this instance."
   ]
  },
  {
   "cell_type": "code",
   "execution_count": 24,
   "id": "26d430b5",
   "metadata": {},
   "outputs": [
    {
     "name": "stdout",
     "output_type": "stream",
     "text": [
      "Happy birthdayPaul, you are now 35\n"
     ]
    }
   ],
   "source": [
    "#creating decorator for a function and passing parameter\n",
    "\n",
    "def birthday(func):\n",
    "    def wrap(name, age):\n",
    "        func(name, age+1)\n",
    "    return wrap\n",
    "\n",
    "@birthday\n",
    "def celebrate(name, age):\n",
    "    print(\"Happy birthday{}, you are now {}\".format(name, age))\n",
    "        \n",
    "celebrate(\"Paul\", 34)"
   ]
  },
  {
   "cell_type": "code",
   "execution_count": 8,
   "id": "5c19cc87",
   "metadata": {},
   "outputs": [
    {
     "name": "stdout",
     "output_type": "stream",
     "text": [
      "What is the password?ilywpf\n",
      "Access granted, welcome Jess\n"
     ]
    }
   ],
   "source": [
    "#real world sim, restricting function access\n",
    "\n",
    "def login_required(func):\n",
    "    def wrap(user):\n",
    "        pwd = input(\"What is the password?\")\n",
    "        if pwd == user[\"password\"]:\n",
    "            func(user)\n",
    "        else:\n",
    "            print(\"Access Denied\")\n",
    "    return wrap\n",
    "    \n",
    "@login_required\n",
    "def restrictedFunc(user):\n",
    "    print( \"Access granted, welcome {}\".format(user[\"name\"]))\n",
    "\n",
    "user = {\"name\" : \"Jess\", \"password\" : \"ilywpf\"}\n",
    "restrictedFunc(user)\n"
   ]
  },
  {
   "cell_type": "markdown",
   "id": "1b227b88",
   "metadata": {},
   "source": [
    "TUESDAY EXERCISE"
   ]
  },
  {
   "cell_type": "code",
   "execution_count": 17,
   "id": "40dc38b6",
   "metadata": {},
   "outputs": [
    {
     "name": "stdout",
     "output_type": "stream",
     "text": [
      "Enter a number: 23\n",
      "Less than 100\n"
     ]
    }
   ],
   "source": [
    "# User Input: Create a decorator that will ask the user for a number, and run\n",
    "# the function it is attached to only if the number is less than 100. The function\n",
    "# should simply output “Less than 100”. Use the function declaration in the\n",
    "# following:\n",
    "# >>> @decorator\n",
    "# >>> def numbers( ):\n",
    "# >>> print(\"Less than 100\")\n",
    "\n",
    "def decorator(func):\n",
    "    def wrap():\n",
    "        num = int(input(\"Enter a number: \"))\n",
    "        if num < 100:\n",
    "            func()\n",
    "    return wrap\n",
    "@decorator\n",
    "def numbers():\n",
    "    print(\"Less than 100\")\n",
    "    \n",
    "numbers()\n"
   ]
  },
  {
   "cell_type": "code",
   "execution_count": 20,
   "id": "f2bd0c96",
   "metadata": {},
   "outputs": [
    {
     "name": "stdout",
     "output_type": "stream",
     "text": [
      "/index\n",
      "This is how web pages are made in Flask\n"
     ]
    }
   ],
   "source": [
    "# Creating a Route: Create a decorator that takes in a string as an argument with\n",
    "# a wrap function that takes in func. Have the wrap function print out the string,\n",
    "# and run the function passed in. The function passed in doesn’t need to do\n",
    "# anything. In Flask, you can create a page by using decorators that accept a URL\n",
    "# string. Use the function declaration in the following to start:\n",
    "# >>> @route(\"/index\")\n",
    "# >>> def index( ):\n",
    "# >>> print(\"This is how web pages are made in Flask\")\n",
    "\n",
    "\n",
    "\n",
    "def route(a):\n",
    "    def wrap(func):\n",
    "        print(a)\n",
    "        func()\n",
    "    return wrap\n",
    "        \n",
    "        \n",
    "@route(\"/index\")\n",
    "def index( ):\n",
    "    print(\"This is how web pages are made in Flask\")"
   ]
  },
  {
   "cell_type": "markdown",
   "id": "a7b224c0",
   "metadata": {},
   "source": [
    "Modules"
   ]
  },
  {
   "cell_type": "code",
   "execution_count": 21,
   "id": "bba263bf",
   "metadata": {},
   "outputs": [
    {
     "name": "stdout",
     "output_type": "stream",
     "text": [
      "3\n",
      "2\n",
      "3.141592653589793\n"
     ]
    }
   ],
   "source": [
    "#import the entire Math module\n",
    "\n",
    "import math\n",
    "\n",
    "print(math.ceil(2.5))\n",
    "print(math.floor(2.5))\n",
    "print(math.pi)\n",
    "\n"
   ]
  },
  {
   "cell_type": "code",
   "execution_count": 23,
   "id": "22383372",
   "metadata": {},
   "outputs": [
    {
     "name": "stdout",
     "output_type": "stream",
     "text": [
      "2\n",
      "3.141592653589793\n"
     ]
    }
   ],
   "source": [
    "#importing only variables and funcrions instead entire module\n",
    "from math import floor, pi\n",
    "\n",
    "print(floor(2.5))\n",
    "\n",
    "#print(ceil(2.5)) #will produce error\n",
    "\n",
    "print(pi)"
   ]
  },
  {
   "cell_type": "code",
   "execution_count": 24,
   "id": "6e4290ea",
   "metadata": {},
   "outputs": [
    {
     "name": "stdout",
     "output_type": "stream",
     "text": [
      "2\n"
     ]
    }
   ],
   "source": [
    "#using the 'as' keyword to create an alias for imports\n",
    "from math import floor as f\n",
    "\n",
    "print(f(2.4))\n"
   ]
  },
  {
   "cell_type": "code",
   "execution_count": 26,
   "id": "de708ebf",
   "metadata": {},
   "outputs": [
    {
     "name": "stdout",
     "output_type": "stream",
     "text": [
      "5 10\n",
      "John Smith is 37 years old.\n"
     ]
    }
   ],
   "source": [
    "#using the run command to access our own module in jupyter notebook\n",
    "\n",
    "%run test.py\n",
    "\n",
    "print(length, width)\n",
    "printInfo(\"John Smith\", 37)"
   ]
  },
  {
   "cell_type": "code",
   "execution_count": 28,
   "id": "5b3f6e12",
   "metadata": {
    "scrolled": true
   },
   "outputs": [
    {
     "name": "stdout",
     "output_type": "stream",
     "text": [
      "450\n"
     ]
    }
   ],
   "source": [
    "# Calculating Area: Create a module named “calculation.py” that has a single\n",
    "# function within it. That function should take in two parameters and return the\n",
    "# product of them. We can imagine that we’re trying to calculate the area of\n",
    "# a rectangle and it needs to take in the length and width properties. Run the\n",
    "# module within Jupyter Notebook, and use the following function call within\n",
    "# the cell:\n",
    "# >>> calcArea(15, 30)\n",
    "\n",
    "%run calculations.py\n",
    "calcArea(15, 30)\n"
   ]
  },
  {
   "cell_type": "markdown",
   "id": "d78e2607",
   "metadata": {},
   "source": [
    "Understanding Algorithmic complexity"
   ]
  },
  {
   "cell_type": "code",
   "execution_count": 1,
   "id": "5a6da504",
   "metadata": {},
   "outputs": [],
   "source": [
    "#creating data collection to test for complexity\n",
    "import time\n",
    "d = {} #generate fake dictionary\n",
    "\n",
    "for i in range(10000000):\n",
    "    d[i] = \"value\"\n",
    "big_list = [x for x in range(10000000)] #generate fake list\n"
   ]
  },
  {
   "cell_type": "code",
   "execution_count": 3,
   "id": "8bf0fa58",
   "metadata": {},
   "outputs": [
    {
     "name": "stdout",
     "output_type": "stream",
     "text": [
      "found in dictionary\n",
      "Elapsed time for dictionary: 0.0004258155822753906\n",
      "found in list\n",
      "Elapsed time for list: 0.8425860404968262\n"
     ]
    }
   ],
   "source": [
    "#retreving info and tracking time to check which one is faster list or dictionary\n",
    "start_time = time.time()\n",
    "\n",
    "if 9999999 in d:\n",
    "    print(\"found in dictionary\")\n",
    "end_time = time.time() - start_time\n",
    "\n",
    "print(\"Elapsed time for dictionary: {}\".format(end_time))\n",
    "\n",
    "start_time = time.time()\n",
    "if 9999999 in big_list:\n",
    "     print(\"found in list\")\n",
    "end_time = time.time() - start_time\n",
    "\n",
    "print(\"Elapsed time for list: {}\".format(end_time))\n"
   ]
  },
  {
   "cell_type": "code",
   "execution_count": 5,
   "id": "e6101c40",
   "metadata": {},
   "outputs": [
    {
     "name": "stdout",
     "output_type": "stream",
     "text": [
      "Elapsed time for Bubble Sort: 2.705901861190796\n",
      "Elapsed time for Insertion Sort: 0.0004470348358154297\n"
     ]
    }
   ],
   "source": [
    "#testing bubble sort against instertion sort\n",
    "\n",
    "def bubbleSort(aList):\n",
    "    for i in range(len(aList)):\n",
    "        switched = False\n",
    "        for j in range(len(aList)-1):\n",
    "            if aList[j]  > aList[j+1]:\n",
    "                aList[j], aList[j+1] = aList[j+1], aList[j]\n",
    "                switched = True\n",
    "        if switched == False:\n",
    "            break;\n",
    "    return aList\n",
    "\n",
    "\n",
    "def insertionSort(aList):\n",
    "    for i in range(1, len(aList)):\n",
    "        if aList[i] < aList[i-1]:\n",
    "            for j in range(i, 0, -1):\n",
    "                if aList[j] < aList[j-1]:\n",
    "                    aList[j], aList[j+1] = aList[j+1], aList[j]\n",
    "                else:\n",
    "                    break\n",
    "    return aList\n",
    "    \n",
    "# calling bubble sort and insertion sort to test time complexity\n",
    "from random import randint\n",
    "import time\n",
    "\n",
    "nums = [randint(0, 100) for x in range(5000)]\n",
    "\n",
    "start_time = time.time()  # tracking time bubble sort\n",
    "bubbleSort(nums)\n",
    "end_time = time.time() - start_time\n",
    "print('Elapsed time for Bubble Sort: {}'.format(end_time))\n",
    "\n",
    "start_time = time.time()  # tracking time insertion sort\n",
    "insertionSort(nums)\n",
    "end_time = time.time() - start_time\n",
    "print('Elapsed time for Insertion Sort: {}'.format(end_time))"
   ]
  },
  {
   "cell_type": "markdown",
   "id": "c4263075",
   "metadata": {},
   "source": [
    "Thursday Exercise"
   ]
  },
  {
   "cell_type": "code",
   "execution_count": 13,
   "id": "cb3e2c3a",
   "metadata": {},
   "outputs": [],
   "source": [
    "# Merge Sort: Do some research, and try to find out the “Big O” representation\n",
    "# for a Merge Sort algorithm.\n",
    "\n",
    "#O(nlogn)"
   ]
  },
  {
   "cell_type": "code",
   "execution_count": 14,
   "id": "f679c276",
   "metadata": {},
   "outputs": [
    {
     "name": "stdout",
     "output_type": "stream",
     "text": [
      "# of items in list: 10000000 \t\t # of guesses: 0\n",
      "# of items in list: 5000000 \t\t # of guesses: 1\n",
      "# of items in list: 2500000 \t\t # of guesses: 2\n",
      "# of items in list: 1250000 \t\t # of guesses: 3\n",
      "# of items in list: 625000 \t\t # of guesses: 4\n",
      "# of items in list: 312500 \t\t # of guesses: 5\n",
      "# of items in list: 156250 \t\t # of guesses: 6\n",
      "# of items in list: 78125 \t\t # of guesses: 7\n",
      "# of items in list: 39062 \t\t # of guesses: 8\n",
      "# of items in list: 19531 \t\t # of guesses: 9\n",
      "# of items in list: 9765 \t\t # of guesses: 10\n",
      "# of items in list: 4882 \t\t # of guesses: 11\n",
      "# of items in list: 2441 \t\t # of guesses: 12\n",
      "# of items in list: 1220 \t\t # of guesses: 13\n",
      "# of items in list: 610 \t\t # of guesses: 14\n",
      "# of items in list: 305 \t\t # of guesses: 15\n",
      "# of items in list: 152 \t\t # of guesses: 16\n",
      "# of items in list: 76 \t\t # of guesses: 17\n",
      "# of items in list: 38 \t\t # of guesses: 18\n",
      "# of items in list: 19 \t\t # of guesses: 19\n",
      "# of items in list: 9 \t\t # of guesses: 20\n",
      "# of items in list: 4 \t\t # of guesses: 21\n",
      "# of items in list: 2 \t\t # of guesses: 22\n",
      "# of items in list: 1 \t\t # of guesses: 23\n"
     ]
    },
    {
     "data": {
      "text/plain": [
       "True"
      ]
     },
     "execution_count": 14,
     "metadata": {},
     "output_type": "execute_result"
    }
   ],
   "source": [
    "# Binary Search: What is the max number of guesses it would take for a Binary\n",
    "# Search to find a number within a list of 10 million numbers?\n",
    "\n",
    "nums = [x for x in range(10000000)]\n",
    "def binarySearch(aList, num):\n",
    "    guesses = 0\n",
    "    \n",
    "    while aList:\n",
    "        print(\"# of items in list: {} \\t\\t # of guesses: {}\".format(len(aList), guesses))\n",
    "        guesses += 1\n",
    "        \n",
    "        mid = len(aList) // 2\n",
    "\n",
    "        if aList[mid] == num:\n",
    "            return True\n",
    "        elif aList[mid] > num:\n",
    "            aList = aList[ : mid ]\n",
    "        elif aList[mid] < num:\n",
    "            aList = aList[ mid + 1 : ]\n",
    "    \n",
    "    return False\n",
    "\n",
    "binarySearch(nums, 0)\n"
   ]
  },
  {
   "cell_type": "markdown",
   "id": "0aff1c8e",
   "metadata": {},
   "source": [
    "#challenges"
   ]
  },
  {
   "cell_type": "code",
   "execution_count": null,
   "id": "6c283199",
   "metadata": {
    "scrolled": false
   },
   "outputs": [
    {
     "name": "stdout",
     "output_type": "stream",
     "text": [
      "item Tea has been added\n",
      "quit/add/remove/show/clear/save : save\n"
     ]
    }
   ],
   "source": [
    "#Shopping Cart Module\n",
    "#Enhanced Shopping Cart:\n",
    "\n",
    "%run shoppingCart.py\n",
    "main()\n",
    "\n",
    "\n",
    "#upon choosing save it saves the cart to the csv file, needs more imporvement"
   ]
  }
 ],
 "metadata": {
  "kernelspec": {
   "display_name": "Python 3 (ipykernel)",
   "language": "python",
   "name": "python3"
  },
  "language_info": {
   "codemirror_mode": {
    "name": "ipython",
    "version": 3
   },
   "file_extension": ".py",
   "mimetype": "text/x-python",
   "name": "python",
   "nbconvert_exporter": "python",
   "pygments_lexer": "ipython3",
   "version": "3.9.7"
  }
 },
 "nbformat": 4,
 "nbformat_minor": 5
}
