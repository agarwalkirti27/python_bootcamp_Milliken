{
 "cells": [
  {
   "cell_type": "markdown",
   "id": "5463b328",
   "metadata": {},
   "source": [
    "Lists\n",
    "A list is a data structure in Python that is a mutable, ordered sequence of elements."
   ]
  },
  {
   "cell_type": "code",
   "execution_count": 1,
   "id": "a25b6992",
   "metadata": {},
   "outputs": [
    {
     "name": "stdout",
     "output_type": "stream",
     "text": [
      "[1, 2, 3, 4.5, 6]\n"
     ]
    }
   ],
   "source": [
    "#declaring list of numbers\n",
    "\n",
    "numbers = [1, 2, 3, 4.5, 6]\n",
    "print(numbers)"
   ]
  },
  {
   "cell_type": "code",
   "execution_count": 4,
   "id": "e1d64fbf",
   "metadata": {},
   "outputs": [
    {
     "name": "stdout",
     "output_type": "stream",
     "text": [
      "4.5\n",
      "2\n"
     ]
    }
   ],
   "source": [
    "#accessing elements within a list\n",
    "print(numbers[3])\n",
    "num = numbers[1] #stores value at index1 from list\n",
    "print(num)"
   ]
  },
  {
   "cell_type": "code",
   "execution_count": 5,
   "id": "f7758779",
   "metadata": {},
   "outputs": [
    {
     "name": "stdout",
     "output_type": "stream",
     "text": [
      "True\n"
     ]
    }
   ],
   "source": [
    "#declaring a list of mixed data types\n",
    "lst = [2, \"name\", True]\n",
    "print(lst[2])"
   ]
  },
  {
   "cell_type": "code",
   "execution_count": 6,
   "id": "90ca9d10",
   "metadata": {},
   "outputs": [
    {
     "name": "stdout",
     "output_type": "stream",
     "text": [
      "4\n"
     ]
    }
   ],
   "source": [
    "#understanding list within list\n",
    "data = [2, 'r', [1, 3, 4]]\n",
    "print(data[2][2])"
   ]
  },
  {
   "cell_type": "code",
   "execution_count": 7,
   "id": "63c09738",
   "metadata": {},
   "outputs": [
    {
     "name": "stdout",
     "output_type": "stream",
     "text": [
      "name\n"
     ]
    }
   ],
   "source": [
    "#changing values in a list through index\n",
    "data = [3, 4, [4,5,6], 'i']\n",
    "data[1] = 'name'\n",
    "print(data[1])"
   ]
  },
  {
   "cell_type": "code",
   "execution_count": 14,
   "id": "de083afb",
   "metadata": {
    "scrolled": true
   },
   "outputs": [
    {
     "name": "stdout",
     "output_type": "stream",
     "text": [
      "a : [5, 10]\t b:[5, 10]\n",
      "Location a[0]:140616692591024 \t Location b[0]:140616692591024 \n",
      "a : [20, 10]\t b:[20, 10]\n"
     ]
    }
   ],
   "source": [
    "#understanding how lusts are stored\n",
    "a = [5, 10]\n",
    "b = a\n",
    "print(\"a : {}\\t b:{}\".format(a, b))\n",
    "print(\"Location a[0]:{} \\t Location b[0]:{} \".format(id(a[0]), id(b[0])))\n",
    "a[0] = 20\n",
    "print(\"a : {}\\t b:{}\".format(a, b))"
   ]
  },
  {
   "cell_type": "code",
   "execution_count": 16,
   "id": "fb19fae1",
   "metadata": {},
   "outputs": [
    {
     "name": "stdout",
     "output_type": "stream",
     "text": [
      "[1, 3, 4, 5]\n",
      "[20, 3, 4, 5]\n",
      "[1, 3, 4, 5]\n"
     ]
    }
   ],
   "source": [
    "#using [:] to copy a list\n",
    "data = [1, 3, 4, 5]\n",
    "data_2 = data[:]\n",
    "print(data_2)\n",
    "data[0] = 20\n",
    "print(data)\n",
    "print(data_2)"
   ]
  },
  {
   "cell_type": "code",
   "execution_count": 17,
   "id": "a56645eb",
   "metadata": {},
   "outputs": [
    {
     "name": "stdout",
     "output_type": "stream",
     "text": [
      "[2, 4, 5, 6, 8]\n",
      "[2, 4, 5, 6, 8]\n",
      "[30, 4, 5, 6, 8]\n"
     ]
    }
   ],
   "source": [
    "#using method .copy()\n",
    "data = [2, 4, 5, 6, 8]\n",
    "new_data = data.copy()\n",
    "print(new_data)\n",
    "data[0] = 30\n",
    "print(new_data)\n",
    "print(data)"
   ]
  },
  {
   "cell_type": "markdown",
   "id": "c9345ec2",
   "metadata": {},
   "source": [
    "MONDAY EXERCISES"
   ]
  },
  {
   "cell_type": "code",
   "execution_count": 21,
   "id": "4bf85288",
   "metadata": {
    "scrolled": true
   },
   "outputs": [
    {
     "name": "stdout",
     "output_type": "stream",
     "text": [
      "I love to play Badminton.\n",
      "I love to play Basketball.\n",
      "I love to play Basketball.\n",
      "I love to play Tennis.\n"
     ]
    }
   ],
   "source": [
    "sports = [\"Badminton\", \"Cricket\", \"Basketball\", \"Tennis\"]\n",
    "print(\"I love to play {}.\".format(sports[0]))\n",
    "print(\"I love to play {}.\".format(sports[2]))\n",
    "print(\"I love to play {}.\".format(sports[2]))\n",
    "print(\"I love to play {}.\".format(sports[3]))"
   ]
  },
  {
   "cell_type": "code",
   "execution_count": 24,
   "id": "6e78d207",
   "metadata": {},
   "outputs": [
    {
     "name": "stdout",
     "output_type": "stream",
     "text": [
      "J\n",
      "A\n",
      "S\n",
      "K\n"
     ]
    }
   ],
   "source": [
    "# First Character: For the following list, print out each item’s first letter. (output\n",
    "# should be ‘J’, ‘A’, ‘S’, ‘K’)\n",
    "# names = [‘John’, ‘Abraham’, ‘Sam’, ‘Kelly’]\n",
    "\n",
    "names = ['John', 'Abraham', 'Sam', 'Kelly']\n",
    "print(names[0][0])\n",
    "print(names[1][0])\n",
    "print(names[2][0])\n",
    "print(names[3][0])"
   ]
  },
  {
   "cell_type": "markdown",
   "id": "0a19ce83",
   "metadata": {},
   "source": [
    "For Loops"
   ]
  },
  {
   "cell_type": "code",
   "execution_count": 26,
   "id": "340d7c8f",
   "metadata": {
    "scrolled": true
   },
   "outputs": [
    {
     "name": "stdout",
     "output_type": "stream",
     "text": [
      "value: 0\n",
      "value: 1\n",
      "value: 2\n",
      "value: 3\n",
      "value: 4\n"
     ]
    }
   ],
   "source": [
    "# writing first for loop using range\n",
    "for num in range(5):\n",
    "    print(\"value: {}\".format(num))"
   ]
  },
  {
   "cell_type": "code",
   "execution_count": 28,
   "id": "1710636a",
   "metadata": {
    "scrolled": true
   },
   "outputs": [
    {
     "name": "stdout",
     "output_type": "stream",
     "text": [
      "Value: 2\n",
      "Value: 4\n"
     ]
    }
   ],
   "source": [
    "#providing start, stop and step in range function\n",
    "for num in range(2, 6, 2):\n",
    "    print(\"Value: {}\".format(num))"
   ]
  },
  {
   "cell_type": "code",
   "execution_count": 29,
   "id": "430c89b4",
   "metadata": {},
   "outputs": [
    {
     "name": "stdout",
     "output_type": "stream",
     "text": [
      "char is: K\n",
      "char is: i\n",
      "char is: r\n",
      "char is: t\n",
      "char is: i\n",
      "char is:  \n",
      "char is: A\n",
      "char is: g\n",
      "char is: a\n",
      "char is: r\n",
      "char is: w\n",
      "char is: a\n",
      "char is: l\n"
     ]
    }
   ],
   "source": [
    "#printing all charcters in a name using in keyword\n",
    "\n",
    "name = \"Kirti Agarwal\"\n",
    "for char in name:\n",
    "    print(\"char is: {}\".format(char))"
   ]
  },
  {
   "cell_type": "code",
   "execution_count": 30,
   "id": "d0dcfaa4",
   "metadata": {},
   "outputs": [
    {
     "name": "stdout",
     "output_type": "stream",
     "text": [
      "0\n",
      "1\n",
      "2\n",
      "4\n"
     ]
    }
   ],
   "source": [
    "#using continue statement within the loop\n",
    "for num in range(5):\n",
    "    if num == 3:\n",
    "        continue\n",
    "    print(num)"
   ]
  },
  {
   "cell_type": "code",
   "execution_count": 31,
   "id": "29b09b76",
   "metadata": {},
   "outputs": [
    {
     "name": "stdout",
     "output_type": "stream",
     "text": [
      "0\n",
      "1\n",
      "2\n"
     ]
    }
   ],
   "source": [
    "#using break in the loop\n",
    "for num in range(5):\n",
    "    if num == 3:\n",
    "        break\n",
    "    print(num)"
   ]
  },
  {
   "cell_type": "code",
   "execution_count": 35,
   "id": "c7e13b30",
   "metadata": {},
   "outputs": [],
   "source": [
    "#setting a placeholder using the pass keyword\n",
    "for num in range(5):\n",
    "    #print(num)\n",
    "    pass"
   ]
  },
  {
   "cell_type": "markdown",
   "id": "b7e02155",
   "metadata": {},
   "source": [
    "while loops"
   ]
  },
  {
   "cell_type": "code",
   "execution_count": 37,
   "id": "3f941cf1",
   "metadata": {},
   "outputs": [
    {
     "name": "stdout",
     "output_type": "stream",
     "text": [
      "10\n",
      "9\n",
      "8\n",
      "7\n",
      "6\n",
      "5\n",
      "4\n",
      "3\n",
      "2\n",
      "1\n"
     ]
    }
   ],
   "source": [
    "#writing your first while loop\n",
    "health = 10\n",
    "while health > 0:\n",
    "    print(health)\n",
    "    health-=1    #forgetting this line will result in infinite loop"
   ]
  },
  {
   "cell_type": "code",
   "execution_count": null,
   "id": "9050cdb3",
   "metadata": {},
   "outputs": [],
   "source": [
    "#Infinite loop\n",
    "# >>> game_over = False\n",
    "# >>> while not game_over:\n",
    "# >>> print(game_over)"
   ]
  },
  {
   "cell_type": "code",
   "execution_count": 38,
   "id": "e453c520",
   "metadata": {},
   "outputs": [
    {
     "name": "stdout",
     "output_type": "stream",
     "text": [
      "0 0\n",
      "0 1\n",
      "1 0\n",
      "1 1\n",
      "2 0\n",
      "2 1\n",
      "3 0\n",
      "3 1\n",
      "4 0\n",
      "4 1\n"
     ]
    }
   ],
   "source": [
    "#nested loops\n",
    "#using two or more loops together is called nested loops\n",
    "for i in range(5):\n",
    "    for j in range(2):\n",
    "        print(i, j)"
   ]
  },
  {
   "cell_type": "markdown",
   "id": "5f95476f",
   "metadata": {},
   "source": [
    "WEDNESDAY EXERCISE"
   ]
  },
  {
   "cell_type": "code",
   "execution_count": 39,
   "id": "d18ea140",
   "metadata": {},
   "outputs": [
    {
     "name": "stdout",
     "output_type": "stream",
     "text": [
      "Type something: wer\n",
      "Type something: ewr\n",
      "Type something: wer\n",
      "Type something: wer\n",
      "Type something: wer\n",
      "Type something: quit\n"
     ]
    }
   ],
   "source": [
    "# User Input: Write a while loop that continues to ask for user input and runs\n",
    "# until they type “quit”.\n",
    "\n",
    "inp = input(\"Type something: \").lower()\n",
    "while inp!= 'quit':\n",
    "    inp = input(\"Type something: \").lower()"
   ]
  },
  {
   "cell_type": "code",
   "execution_count": 8,
   "id": "e0189ac4",
   "metadata": {},
   "outputs": [
    {
     "name": "stdout",
     "output_type": "stream",
     "text": [
      "0\n",
      "1\n",
      "2\n"
     ]
    }
   ],
   "source": [
    "# Double Loop: Write a for loop within a while loop that will count from 0 to 5,\n",
    "# but when it reaches 3, it sets a game_over variable to True and breaks out of\n",
    "# the loop. The while loop should continue to loop until game_over is True. The\n",
    "# output should only be 0, 1, 2.\n",
    "\n",
    "game_over = False\n",
    "while not game_over:\n",
    "    for i in range(6):\n",
    "        if i == 3:\n",
    "            game_over = True\n",
    "            break\n",
    "        print(i)\n",
    "        "
   ]
  },
  {
   "cell_type": "markdown",
   "id": "3983a2e4",
   "metadata": {},
   "source": [
    "THURSADY : Working with lists"
   ]
  },
  {
   "cell_type": "code",
   "execution_count": 10,
   "id": "a2e65485",
   "metadata": {},
   "outputs": [
    {
     "name": "stdout",
     "output_type": "stream",
     "text": [
      "3\n"
     ]
    }
   ],
   "source": [
    "#checking the number of items in a list\n",
    "nums = [5, 10, 15]\n",
    "length = len(nums)#prints an integer value\n",
    "print(length)"
   ]
  },
  {
   "cell_type": "code",
   "execution_count": 21,
   "id": "4ce15081",
   "metadata": {
    "scrolled": false
   },
   "outputs": [
    {
     "name": "stdout",
     "output_type": "stream",
     "text": [
      "[1, 2, 3]\n",
      "[4, 5, 6]\n",
      "[1, 3, 5]\n",
      "[1, 2]\n"
     ]
    }
   ],
   "source": [
    "#accessing specific item of the list using slice\n",
    "\n",
    "nums = [1, 2, 3, 4, 5, 6]\n",
    "print(nums[0 : 3])\n",
    "print(nums[-3 : ])\n",
    "print(nums[::2])\n",
    "print(nums[ : 2])"
   ]
  },
  {
   "cell_type": "code",
   "execution_count": 22,
   "id": "26950832",
   "metadata": {},
   "outputs": [
    {
     "name": "stdout",
     "output_type": "stream",
     "text": [
      "[2, 4, 5, 8]\n"
     ]
    }
   ],
   "source": [
    "#adding value in a list using append\n",
    "nums = [2, 4, 5]\n",
    "nums.append(8)\n",
    "print(nums)"
   ]
  },
  {
   "cell_type": "code",
   "execution_count": 23,
   "id": "577f167b",
   "metadata": {},
   "outputs": [
    {
     "name": "stdout",
     "output_type": "stream",
     "text": [
      "[9, 3, 4, 5, 6]\n",
      "[9, 3, 4, 10, 5, 6]\n"
     ]
    }
   ],
   "source": [
    "#adding a vlaue in the list using insert, requires index\n",
    "nums = [3, 4, 5, 6]\n",
    "nums.insert(0, 9)\n",
    "print(nums)\n",
    "nums.insert(3, 10)\n",
    "print(nums)"
   ]
  },
  {
   "cell_type": "code",
   "execution_count": 25,
   "id": "8b5fda52",
   "metadata": {},
   "outputs": [
    {
     "name": "stdout",
     "output_type": "stream",
     "text": [
      "3\n",
      "[4, 5]\n"
     ]
    }
   ],
   "source": [
    "# .pop( )\n",
    "# By default, the pop method removes the last item in the list; however, you can specify an\n",
    "# index to remove as well.\n",
    "\n",
    "nums = [3, 4, 5, 6]\n",
    "nums.pop()\n",
    "item = nums.pop(0)\n",
    "print(item)\n",
    "print(nums)"
   ]
  },
  {
   "cell_type": "code",
   "execution_count": 26,
   "id": "3bf4443d",
   "metadata": {},
   "outputs": [
    {
     "name": "stdout",
     "output_type": "stream",
     "text": [
      "['B', 'C']\n"
     ]
    }
   ],
   "source": [
    "#using remove method to remove an element from list\n",
    "letters = [\"A\", \"B\", \"C\"]\n",
    "try:\n",
    "    letters.remove(\"A\")\n",
    "except:\n",
    "    print(\"letter doesn't exist\")\n",
    "print(letters)"
   ]
  },
  {
   "cell_type": "code",
   "execution_count": 27,
   "id": "796a0a16",
   "metadata": {},
   "outputs": [
    {
     "name": "stdout",
     "output_type": "stream",
     "text": [
      "1\n",
      "10\n",
      "19\n"
     ]
    }
   ],
   "source": [
    "#using min, max and sum\n",
    "nums = [3, 5, 1, 10]\n",
    "print(min(nums))\n",
    "print(max(nums))\n",
    "print(sum(nums))"
   ]
  },
  {
   "cell_type": "code",
   "execution_count": 29,
   "id": "8f661847",
   "metadata": {},
   "outputs": [
    {
     "name": "stdout",
     "output_type": "stream",
     "text": [
      "[1, 3, 5, 10]\n",
      "[3, 5, 1, 10]\n"
     ]
    }
   ],
   "source": [
    "#using sorted on list of numeric and alphanumerical data\n",
    "nums = [3, 5, 1, 10]\n",
    "sorted_nums = sorted(nums)\n",
    "print(sorted_nums)\n",
    "print(nums)"
   ]
  },
  {
   "cell_type": "code",
   "execution_count": 31,
   "id": "132aef0e",
   "metadata": {},
   "outputs": [
    {
     "name": "stdout",
     "output_type": "stream",
     "text": [
      "[1, 3, 5, 10]\n"
     ]
    }
   ],
   "source": [
    "#sorting the list with .sort #in-place\n",
    "nums = [3, 5, 1, 10]\n",
    "nums.sort()\n",
    "print(nums)"
   ]
  },
  {
   "cell_type": "code",
   "execution_count": 32,
   "id": "6c27f297",
   "metadata": {},
   "outputs": [
    {
     "name": "stdout",
     "output_type": "stream",
     "text": [
      "Name 'Mary' Found.\n",
      "Name 'Jimmy' not found.\n"
     ]
    }
   ],
   "source": [
    "#uisng conditional statements in a list\n",
    "\n",
    "names = [\"John\", \"James\", \"Mary\"]\n",
    "if \"Mary\" in names:\n",
    "    print(\"Name 'Mary' Found.\")\n",
    "if \"Jimmy\" not in names:\n",
    "    print(\"Name 'Jimmy' not found.\")"
   ]
  },
  {
   "cell_type": "code",
   "execution_count": 33,
   "id": "3862b045",
   "metadata": {},
   "outputs": [
    {
     "name": "stdout",
     "output_type": "stream",
     "text": [
      "List is Empty.\n"
     ]
    }
   ],
   "source": [
    "#using conditional statements to see if the list is empty\n",
    "name_list = []\n",
    "if not name_list:\n",
    "    print(\"List is Empty.\")"
   ]
  },
  {
   "cell_type": "code",
   "execution_count": 4,
   "id": "d27818ef",
   "metadata": {
    "scrolled": true
   },
   "outputs": [
    {
     "name": "stdout",
     "output_type": "stream",
     "text": [
      "['John', 'James', 'Mary']\n"
     ]
    }
   ],
   "source": [
    "names = [\"John\", \"James\", \"Mary\"]\n",
    "if names:\n",
    "    print(names)"
   ]
  },
  {
   "cell_type": "code",
   "execution_count": 5,
   "id": "74021b31",
   "metadata": {},
   "outputs": [
    {
     "name": "stdout",
     "output_type": "stream",
     "text": [
      "Basketball\n",
      "Cricket\n",
      "Badminton\n"
     ]
    }
   ],
   "source": [
    "#using a for loop to print all the items in a list\n",
    "sports = [\"Basketball\", \"Cricket\", \"Badminton\"]\n",
    "for sport in sports:\n",
    "    print(sport)"
   ]
  },
  {
   "cell_type": "code",
   "execution_count": 6,
   "id": "ff3c3676",
   "metadata": {},
   "outputs": [
    {
     "name": "stdout",
     "output_type": "stream",
     "text": [
      "['James']\n"
     ]
    }
   ],
   "source": [
    "#using while loop to remove certain value\n",
    "names = [\"John\", \"James\"]\n",
    "while \"John\" in names:\n",
    "    names.remove(\"John\")\n",
    "print(names)"
   ]
  },
  {
   "cell_type": "markdown",
   "id": "69b8d6fb",
   "metadata": {},
   "source": [
    "THURSDAY EXERCISE"
   ]
  },
  {
   "cell_type": "code",
   "execution_count": 8,
   "id": "40eab9a8",
   "metadata": {},
   "outputs": [
    {
     "name": "stdout",
     "output_type": "stream",
     "text": [
      "['Amanda', 'Bob', 'Kenny']\n"
     ]
    }
   ],
   "source": [
    "# Remove Duplicates: Remove all duplicates from the list below. Hint: Use the\n",
    "# .count( ) method. The output should be [‘Bob’, ‘Kenny’, ‘Amanda’]\n",
    "# >>> names = ['Bob', 'Kenny', 'Amanda', 'Bob', 'Kenny']\n",
    "\n",
    "names = ['Bob', 'Kenny', 'Amanda', 'Bob', 'Kenny', \"Kenny\"]\n",
    "\n",
    "for name in names:\n",
    "    while names.count(name) > 1:\n",
    "        names.remove(name)\n",
    "print(names)"
   ]
  },
  {
   "cell_type": "code",
   "execution_count": 9,
   "id": "bac196c6",
   "metadata": {},
   "outputs": [
    {
     "name": "stdout",
     "output_type": "stream",
     "text": [
      "Type something: eewr\n",
      "Type something: wer\n",
      "Type something: wer\n",
      "Type something: we\n",
      "Type something: quit\n",
      "['wer', 'wer', 'we', 'quit']\n"
     ]
    }
   ],
   "source": [
    "# User Input: Use a while loop to continually ask the user to input a word, until\n",
    "# they type “quit ”. Once they type a word in, add it to a list. Once they quit the\n",
    "# loop, use a for loop to output all items within the list.\n",
    "\n",
    "inp = input(\"Type something: \")\n",
    "inp_list = []\n",
    "while inp.lower()!= 'quit':\n",
    "    inp = input(\"Type something: \")\n",
    "    inp_list.append(inp)\n",
    "print(inp_list)"
   ]
  },
  {
   "cell_type": "markdown",
   "id": "b97dcce2",
   "metadata": {},
   "source": [
    "Friday Project: Creating Hangman."
   ]
  },
  {
   "cell_type": "code",
   "execution_count": 1,
   "id": "49961d3c",
   "metadata": {},
   "outputs": [
    {
     "name": "stdout",
     "output_type": "stream",
     "text": [
      "You guessed correctly.\n",
      "Congratulations, you guessed it correctly!\n"
     ]
    }
   ],
   "source": [
    "#import additional functions\n",
    "from random import choice\n",
    "from IPython.display import clear_output\n",
    "\n",
    "#declare game variables\n",
    "words = [\"python\", \"tree\", \"book\", \"chair\", \"random\", \"special\"]\n",
    "word = choice(words) #randomly chooses a word from words list\n",
    "guessed, lives, game_over = [], 7, False; #multivariable assignment\n",
    "\n",
    "#create a list of _ with the length of randomly generated number\n",
    "guesses = [\"_\"] * len(word)\n",
    "\n",
    "#create main game loop\n",
    "while  not game_over:\n",
    "    \n",
    "    #output game info\n",
    "    hidden_word = \" \".join(guesses)\n",
    "    print(\"Your guessed letters: {}\".format(guessed))\n",
    "    print(\"word to guess: {}\".format(hidden_word))\n",
    "    print(\"Lives: {}\".format(lives))\n",
    "    \n",
    "    ans = input(\"Type quit or guess a letter: \").lower()\n",
    "    clear_output()\n",
    "    if ans == \"quit\":\n",
    "        print(\"Thanks for playing.\")\n",
    "        game_over = True\n",
    "    elif ans in word:\n",
    "        print(\"You guessed correctly.\")\n",
    "        for i in range(len(word)):\n",
    "            if word[i] == ans:\n",
    "                guesses[i] = ans\n",
    "    elif word == \"\".join(guesses):\n",
    "            print(\"ytty\", word)\n",
    "            print(\"Congratulations, you guessed it correctly!\")\n",
    "            game_over = True\n",
    "    elif ans in guessed:\n",
    "        print('You already guessed that. Try again.')\n",
    "        \n",
    "    else:\n",
    "        lives-=1\n",
    "        print(\"Incorrect, you lost a life.\")\n",
    "        \n",
    "    if ans not in guessed:\n",
    "        guessed.append(ans)\n",
    "        \n",
    "    if lives<=0:\n",
    "        print(\"you have lost all of your lives\")\n",
    "        game_over = True\n",
    "    \n",
    "    elif word == ''.join(guesses):\n",
    "        print('Congratulations, you guessed it correctly!')\n",
    "        game_over = True\n",
    "        \n",
    "\n",
    "\n"
   ]
  },
  {
   "cell_type": "markdown",
   "id": "daeb0b36",
   "metadata": {},
   "source": [
    "#End of week exercises"
   ]
  },
  {
   "cell_type": "code",
   "execution_count": 8,
   "id": "d515c113",
   "metadata": {},
   "outputs": [
    {
     "name": "stdout",
     "output_type": "stream",
     "text": [
      "     \n",
      "     x\n",
      "    x x\n",
      "   x x x\n",
      "  x x x x\n"
     ]
    }
   ],
   "source": [
    "row = 5\n",
    "for i in range(row):\n",
    "    print(' '*(row-i) + ' x'*i)\n",
    "    "
   ]
  },
  {
   "cell_type": "code",
   "execution_count": 12,
   "id": "70fe56cf",
   "metadata": {},
   "outputs": [
    {
     "name": "stdout",
     "output_type": "stream",
     "text": [
      "John\n",
      "Amanda\n",
      "This doesn't contain any alphabet.\n"
     ]
    }
   ],
   "source": [
    "# Output Names: Write a loop that will iterate over a list of items\n",
    "# and only output items which have letters inside of a string. Take\n",
    "# the following list, for example, only “John” and “Amanda” should\n",
    "# be output:\n",
    "# >>> names = ['John', ' ', 'Amanda', 5]\n",
    "\n",
    "\n",
    "names = ['John', ' ', 'Amanda', 5]\n",
    "\n",
    "for i in names:\n",
    "    try:\n",
    "        if i.isalpha():\n",
    "            print(i)\n",
    "    except:\n",
    "        print(\"This doesn't contain any alphabet.\")"
   ]
  },
  {
   "cell_type": "code",
   "execution_count": 13,
   "id": "88d789c3",
   "metadata": {},
   "outputs": [
    {
     "name": "stdout",
     "output_type": "stream",
     "text": [
      "John\n",
      "Amanda\n"
     ]
    }
   ],
   "source": [
    "#another approach\n",
    "for name in names:\n",
    "    if type(name) == str:\n",
    "        if name.strip() != '':\n",
    "            print(name)"
   ]
  },
  {
   "cell_type": "code",
   "execution_count": 2,
   "id": "c16a2f31",
   "metadata": {},
   "outputs": [
    {
     "name": "stdout",
     "output_type": "stream",
     "text": [
      "[89.6, 53.6, 111.2, 84.2]\n"
     ]
    }
   ],
   "source": [
    "# Convert Celsius: Given a list of temperatures that are in Celsius, write\n",
    "# a loop that iterates over the list and outputs the temperature converted\n",
    "# into Fahrenheit. Hint: The conversion is “F = (9/5) ∗ C + 32”:\n",
    "# >>> temps = [32, 12, 44, 29]\n",
    "# Output would be [89.6, 53.6, 111.2, 84.2]\n",
    "\n",
    "\n",
    "temps = [32, 12, 44, 29]\n",
    "tem = []\n",
    "\n",
    "for temp in temps:\n",
    "    if type(temp) == int:\n",
    "        temp_far = (9/5) * temp + 32\n",
    "        tem.append(temp_far)\n",
    "print(tem)"
   ]
  },
  {
   "cell_type": "code",
   "execution_count": null,
   "id": "7350e02f",
   "metadata": {},
   "outputs": [],
   "source": []
  }
 ],
 "metadata": {
  "kernelspec": {
   "display_name": "Python 3 (ipykernel)",
   "language": "python",
   "name": "python3"
  },
  "language_info": {
   "codemirror_mode": {
    "name": "ipython",
    "version": 3
   },
   "file_extension": ".py",
   "mimetype": "text/x-python",
   "name": "python",
   "nbconvert_exporter": "python",
   "pygments_lexer": "ipython3",
   "version": "3.9.7"
  }
 },
 "nbformat": 4,
 "nbformat_minor": 5
}
