{
 "cells": [
  {
   "cell_type": "code",
   "execution_count": null,
   "id": "17d5bf64",
   "metadata": {},
   "outputs": [],
   "source": [
    "# "
   ]
  },
  {
   "cell_type": "code",
   "execution_count": 2,
   "id": "892a67e3",
   "metadata": {},
   "outputs": [
    {
     "name": "stdout",
     "output_type": "stream",
     "text": [
      "Congrats! You guessed it correctly.\n",
      "it took you 8 guesses!\n"
     ]
    }
   ],
   "source": [
    "#Guessing Game\n",
    "from random import randint\n",
    "from IPython.display import clear_output\n",
    "guessed = False\n",
    "number = randint(0, 100)\n",
    "guesses = 0\n",
    "while not guessed:\n",
    "    ans = input(\"Try to guess the number I am thinking of!\")\n",
    "    #use tab to indent\n",
    "    guesses+=1\n",
    "    clear_output()\n",
    "    if int(ans) == number:\n",
    "        print(\"Congrats! You guessed it correctly.\")\n",
    "        #use tab twice to intend twice\n",
    "        print(\"it took you {} guesses!\".format(guesses))\n",
    "        break\n",
    "    elif(int(ans) > number):\n",
    "        print(\"The number is lower than what you guessed.\")\n",
    "    elif(int(ans) < number):\n",
    "        print(\"The number is greater than what you guessed.\")"
   ]
  },
  {
   "cell_type": "code",
   "execution_count": null,
   "id": "60425572",
   "metadata": {},
   "outputs": [],
   "source": []
  }
 ],
 "metadata": {
  "kernelspec": {
   "display_name": "Python 3 (ipykernel)",
   "language": "python",
   "name": "python3"
  },
  "language_info": {
   "codemirror_mode": {
    "name": "ipython",
    "version": 3
   },
   "file_extension": ".py",
   "mimetype": "text/x-python",
   "name": "python",
   "nbconvert_exporter": "python",
   "pygments_lexer": "ipython3",
   "version": "3.9.7"
  }
 },
 "nbformat": 4,
 "nbformat_minor": 5
}
