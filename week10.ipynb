{
 "cells": [
  {
   "cell_type": "markdown",
   "id": "7e010f39",
   "metadata": {},
   "source": [
    "Virtual Environments and Requests Module"
   ]
  },
  {
   "cell_type": "code",
   "execution_count": 3,
   "id": "717e78af",
   "metadata": {
    "scrolled": false
   },
   "outputs": [
    {
     "name": "stdout",
     "output_type": "stream",
     "text": [
      "<Response [200]>\n",
      "<class 'requests.models.Response'>\n"
     ]
    }
   ],
   "source": [
    "#sending a request and logging the response code\n",
    "import requests\n",
    "r = requests.get(\"https://api.github.com/users/agarwalkirti27\")\n",
    "print(r)\n",
    "print(type(r))"
   ]
  },
  {
   "cell_type": "code",
   "execution_count": 4,
   "id": "6a3650a4",
   "metadata": {
    "scrolled": false
   },
   "outputs": [
    {
     "name": "stdout",
     "output_type": "stream",
     "text": [
      "b'{\"login\":\"agarwalkirti27\",\"id\":27546532,\"node_id\":\"MDQ6VXNlcjI3NTQ2NTMy\",\"avatar_url\":\"https://avatars.githubusercontent.com/u/27546532?v=4\",\"gravatar_id\":\"\",\"url\":\"https://api.github.com/users/agarwalkirti27\",\"html_url\":\"https://github.com/agarwalkirti27\",\"followers_url\":\"https://api.github.com/users/agarwalkirti27/followers\",\"following_url\":\"https://api.github.com/users/agarwalkirti27/following{/other_user}\",\"gists_url\":\"https://api.github.com/users/agarwalkirti27/gists{/gist_id}\",\"starred_url\":\"https://api.github.com/users/agarwalkirti27/starred{/owner}{/repo}\",\"subscriptions_url\":\"https://api.github.com/users/agarwalkirti27/subscriptions\",\"organizations_url\":\"https://api.github.com/users/agarwalkirti27/orgs\",\"repos_url\":\"https://api.github.com/users/agarwalkirti27/repos\",\"events_url\":\"https://api.github.com/users/agarwalkirti27/events{/privacy}\",\"received_events_url\":\"https://api.github.com/users/agarwalkirti27/received_events\",\"type\":\"User\",\"site_admin\":false,\"name\":\"writekirti\",\"company\":\"JPMC\",\"blog\":\"\",\"location\":\"India\",\"email\":null,\"hireable\":null,\"bio\":null,\"twitter_username\":\"agarwalkirti27\",\"public_repos\":8,\"public_gists\":0,\"followers\":0,\"following\":1,\"created_at\":\"2017-04-15T08:00:55Z\",\"updated_at\":\"2022-02-07T16:08:43Z\"}'\n"
     ]
    }
   ],
   "source": [
    "#accessing the content that we requested from the URL\n",
    "\n",
    "data = r.content\n",
    "print(data)"
   ]
  },
  {
   "cell_type": "code",
   "execution_count": 5,
   "id": "7586ac15",
   "metadata": {
    "scrolled": true
   },
   "outputs": [
    {
     "name": "stdout",
     "output_type": "stream",
     "text": [
      "key: login\t values: agarwalkirti27\n",
      "key: id\t values: 27546532\n",
      "key: node_id\t values: MDQ6VXNlcjI3NTQ2NTMy\n",
      "key: avatar_url\t values: https://avatars.githubusercontent.com/u/27546532?v=4\n",
      "key: gravatar_id\t values: \n",
      "key: url\t values: https://api.github.com/users/agarwalkirti27\n",
      "key: html_url\t values: https://github.com/agarwalkirti27\n",
      "key: followers_url\t values: https://api.github.com/users/agarwalkirti27/followers\n",
      "key: following_url\t values: https://api.github.com/users/agarwalkirti27/following{/other_user}\n",
      "key: gists_url\t values: https://api.github.com/users/agarwalkirti27/gists{/gist_id}\n",
      "key: starred_url\t values: https://api.github.com/users/agarwalkirti27/starred{/owner}{/repo}\n",
      "key: subscriptions_url\t values: https://api.github.com/users/agarwalkirti27/subscriptions\n",
      "key: organizations_url\t values: https://api.github.com/users/agarwalkirti27/orgs\n",
      "key: repos_url\t values: https://api.github.com/users/agarwalkirti27/repos\n",
      "key: events_url\t values: https://api.github.com/users/agarwalkirti27/events{/privacy}\n",
      "key: received_events_url\t values: https://api.github.com/users/agarwalkirti27/received_events\n",
      "key: type\t values: User\n",
      "key: site_admin\t values: False\n",
      "key: name\t values: writekirti\n",
      "key: company\t values: JPMC\n",
      "key: blog\t values: \n",
      "key: location\t values: India\n",
      "key: email\t values: None\n",
      "key: hireable\t values: None\n",
      "key: bio\t values: None\n",
      "key: twitter_username\t values: agarwalkirti27\n",
      "key: public_repos\t values: 8\n",
      "key: public_gists\t values: 0\n",
      "key: followers\t values: 0\n",
      "key: following\t values: 1\n",
      "key: created_at\t values: 2017-04-15T08:00:55Z\n",
      "key: updated_at\t values: 2022-02-07T16:08:43Z\n",
      "writekirti\n"
     ]
    }
   ],
   "source": [
    "#converting data into json \n",
    "\n",
    "data = r.json()\n",
    "for k,v in data.items():\n",
    "    print(\"key: {}\\t values: {}\".format(k, v))\n",
    "print(data[\"name\"])"
   ]
  },
  {
   "cell_type": "code",
   "execution_count": 6,
   "id": "1c8cb7ff",
   "metadata": {},
   "outputs": [
    {
     "name": "stdout",
     "output_type": "stream",
     "text": [
      "8021342\n"
     ]
    }
   ],
   "source": [
    "# outputting specific key-value pairs from data\n",
    "r = requests. get(\"https://api.github.com/search/repositories?q=language:python\")\n",
    "data = r.json( )\n",
    "print(data[\"total_count\"])"
   ]
  },
  {
   "cell_type": "markdown",
   "id": "98df73ea",
   "metadata": {},
   "source": [
    "Monday Exercise"
   ]
  },
  {
   "cell_type": "code",
   "execution_count": null,
   "id": "8497bcbb",
   "metadata": {},
   "outputs": [],
   "source": [
    "# Test Environment: Create a new virtual environment called “test.” When\n",
    "# creating it, install Python version 2.7 instead of the current version. After\n",
    "# it’s completed, make sure it installed the proper version of Python by\n",
    "# checking the list.\n",
    "\n",
    "# conda create --name test pyhton=2.7"
   ]
  },
  {
   "cell_type": "code",
   "execution_count": 7,
   "id": "e03364f5",
   "metadata": {
    "scrolled": true
   },
   "outputs": [
    {
     "name": "stdout",
     "output_type": "stream",
     "text": [
      "13531308\n"
     ]
    }
   ],
   "source": [
    "# JavaScript Repositories: Using the requests module and the Github API link in\n",
    "# our last lesson, figure out how many repositories on Github use JavaScript.\n",
    "\n",
    "r = requests. get(\"https://api.github.com/search/repositories?q=language:JavaScript\")\n",
    "data = r.json( )\n",
    "print(data[\"total_count\"])"
   ]
  },
  {
   "cell_type": "code",
   "execution_count": 8,
   "id": "ae6401c9",
   "metadata": {},
   "outputs": [],
   "source": [
    "#Pandas\n",
    "#High performance, highly efficient, high level data analysis library\n",
    "#written in C\n",
    "#allows us to work with large datasets called data frames\n",
    "# NumPy is a fundamental package for scientific computing in Python. Built\n",
    "# from the C language, it uses multidimensional arrays and can perform calculations\n",
    "# at high-rate speeds.\n"
   ]
  },
  {
   "cell_type": "code",
   "execution_count": null,
   "id": "46943448",
   "metadata": {},
   "outputs": [],
   "source": [
    "# • Series ➤ One-dimensional labeled array capable of holding data of\n",
    "# any type\n",
    "# • DataFrame ➤ Spreadsheet\n",
    "# • Axis ➤ Column or row, axis = 0 by row; axis = 1 by column\n",
    "# • Record ➤ A single row\n",
    "# • dtype ➤ Data type for DataFrame or series object\n",
    "# • Time Series ➤ Series object that uses time intervals, like tracking\n",
    "# weather by the hour"
   ]
  },
  {
   "cell_type": "code",
   "execution_count": 31,
   "id": "fcae5555",
   "metadata": {},
   "outputs": [
    {
     "name": "stdout",
     "output_type": "stream",
     "text": [
      "     names  ages\n",
      "0     Jess    25\n",
      "1   Jordan    35\n",
      "2     John    22\n",
      "3      Ted    29\n",
      "4   Barney    33\n",
      "5    Tyler    20\n",
      "6  Rebecca    18\n",
      "29\n",
      "names    Jess\n",
      "ages       25\n",
      "Name: 0, dtype: object\n",
      "Jess\n"
     ]
    }
   ],
   "source": [
    "#Pandas\n",
    "\n",
    "import pandas as pd\n",
    "\n",
    "#using the from_dict method to convert a dictionary into Pandas Data Frame\n",
    "import random\n",
    "\n",
    "random.seed(3)\n",
    "names = [\"Jess\", \"Jordan\", \"John\", \"Ted\", \"Barney\", \"Tyler\", \"Rebecca\"]\n",
    "ages = [random.randint(18, 35) for x in range(len(names))]\n",
    "\n",
    "people = {\"names\" : names, \"ages\":ages}\n",
    "df = pd.DataFrame.from_dict(people)\n",
    "\n",
    "print(df)\n",
    "\n",
    "#indexing by column\n",
    "print(df[\"ages\"][3])\n",
    "\n",
    "#indexing by record\n",
    "#directly selecting a record in pandas using loc\n",
    "\n",
    "print(df.loc[0])\n",
    "print(df.loc[0][\"names\"])\n"
   ]
  },
  {
   "cell_type": "code",
   "execution_count": 32,
   "id": "01aa1a23",
   "metadata": {
    "scrolled": true
   },
   "outputs": [
    {
     "name": "stdout",
     "output_type": "stream",
     "text": [
      "  names  ages\n",
      "2  John    22\n",
      "3   Ted    29\n"
     ]
    }
   ],
   "source": [
    "#slicing dataframe to grab a specific number of records\n",
    "\n",
    "print(df[2:4])"
   ]
  },
  {
   "cell_type": "code",
   "execution_count": 33,
   "id": "bc250c62",
   "metadata": {},
   "outputs": [
    {
     "name": "stdout",
     "output_type": "stream",
     "text": [
      "    names  ages\n",
      "0    Jess    25\n",
      "1  Jordan    35\n",
      "2    John    22\n",
      "3     Ted    29\n",
      "4  Barney    33\n"
     ]
    }
   ],
   "source": [
    "#head()\n",
    "\n",
    "#accessing top5 records using head method\n",
    "\n",
    "print(df.head(5))"
   ]
  },
  {
   "cell_type": "code",
   "execution_count": 34,
   "id": "f3452a75",
   "metadata": {},
   "outputs": [
    {
     "name": "stdout",
     "output_type": "stream",
     "text": [
      "     names  ages\n",
      "4   Barney    33\n",
      "5    Tyler    20\n",
      "6  Rebecca    18\n"
     ]
    }
   ],
   "source": [
    "#tail()\n",
    "#accessing bottom 3 records using tail()\n",
    "\n",
    "print(df.tail(3))"
   ]
  },
  {
   "cell_type": "code",
   "execution_count": 35,
   "id": "b1ffb206",
   "metadata": {},
   "outputs": [
    {
     "name": "stdout",
     "output_type": "stream",
     "text": [
      "Index(['names', 'ages'], dtype='object')\n"
     ]
    }
   ],
   "source": [
    "#keys()\n",
    "\n",
    "#accessing the coulumn header using keys method\n",
    "\n",
    "headers = df.keys()\n",
    "print(headers)"
   ]
  },
  {
   "cell_type": "code",
   "execution_count": 37,
   "id": "d9f27745",
   "metadata": {
    "scrolled": true
   },
   "outputs": [
    {
     "name": "stdout",
     "output_type": "stream",
     "text": [
      "(7, 2)\n"
     ]
    }
   ],
   "source": [
    "#checking the shape which is the number of records and colums\n",
    "print(df.shape) # 7 rows and 2 columns"
   ]
  },
  {
   "cell_type": "code",
   "execution_count": 38,
   "id": "f0055697",
   "metadata": {},
   "outputs": [
    {
     "data": {
      "text/html": [
       "<div>\n",
       "<style scoped>\n",
       "    .dataframe tbody tr th:only-of-type {\n",
       "        vertical-align: middle;\n",
       "    }\n",
       "\n",
       "    .dataframe tbody tr th {\n",
       "        vertical-align: top;\n",
       "    }\n",
       "\n",
       "    .dataframe thead th {\n",
       "        text-align: right;\n",
       "    }\n",
       "</style>\n",
       "<table border=\"1\" class=\"dataframe\">\n",
       "  <thead>\n",
       "    <tr style=\"text-align: right;\">\n",
       "      <th></th>\n",
       "      <th>ages</th>\n",
       "    </tr>\n",
       "  </thead>\n",
       "  <tbody>\n",
       "    <tr>\n",
       "      <th>count</th>\n",
       "      <td>7.000000</td>\n",
       "    </tr>\n",
       "    <tr>\n",
       "      <th>mean</th>\n",
       "      <td>26.000000</td>\n",
       "    </tr>\n",
       "    <tr>\n",
       "      <th>std</th>\n",
       "      <td>6.531973</td>\n",
       "    </tr>\n",
       "    <tr>\n",
       "      <th>min</th>\n",
       "      <td>18.000000</td>\n",
       "    </tr>\n",
       "    <tr>\n",
       "      <th>25%</th>\n",
       "      <td>21.000000</td>\n",
       "    </tr>\n",
       "    <tr>\n",
       "      <th>50%</th>\n",
       "      <td>25.000000</td>\n",
       "    </tr>\n",
       "    <tr>\n",
       "      <th>75%</th>\n",
       "      <td>31.000000</td>\n",
       "    </tr>\n",
       "    <tr>\n",
       "      <th>max</th>\n",
       "      <td>35.000000</td>\n",
       "    </tr>\n",
       "  </tbody>\n",
       "</table>\n",
       "</div>"
      ],
      "text/plain": [
       "            ages\n",
       "count   7.000000\n",
       "mean   26.000000\n",
       "std     6.531973\n",
       "min    18.000000\n",
       "25%    21.000000\n",
       "50%    25.000000\n",
       "75%    31.000000\n",
       "max    35.000000"
      ]
     },
     "execution_count": 38,
     "metadata": {},
     "output_type": "execute_result"
    }
   ],
   "source": [
    "#checking the general statistics of DataFrame by describe method, only works on numeric columns\n",
    "\n",
    "df.describe()"
   ]
  },
  {
   "cell_type": "code",
   "execution_count": 45,
   "id": "84352fa3",
   "metadata": {
    "scrolled": true
   },
   "outputs": [
    {
     "name": "stdout",
     "output_type": "stream",
     "text": [
      "     names  ages\n",
      "6  Rebecca    18\n",
      "5    Tyler    20\n",
      "2     John    22\n",
      "0     Jess    25\n",
      "3      Ted    29\n"
     ]
    }
   ],
   "source": [
    "#sort based on given column name but keep the data frame intact using sort_values()\n",
    "df = df.sort_values(\"ages\")\n",
    "print(df.head(5));\n"
   ]
  },
  {
   "cell_type": "code",
   "execution_count": 47,
   "id": "91f42ef5",
   "metadata": {},
   "outputs": [
    {
     "name": "stdout",
     "output_type": "stream",
     "text": [
      "     names  ages\n",
      "4   Barney    33\n",
      "0     Jess    25\n",
      "2     John    22\n",
      "1   Jordan    35\n",
      "6  Rebecca    18\n"
     ]
    }
   ],
   "source": [
    "df = df.sort_values([\"names\"])\n",
    "print(df.head(5));"
   ]
  },
  {
   "cell_type": "markdown",
   "id": "392437f8",
   "metadata": {},
   "source": [
    "#Filteration"
   ]
  },
  {
   "cell_type": "code",
   "execution_count": 49,
   "id": "b86c2e9b",
   "metadata": {},
   "outputs": [
    {
     "name": "stdout",
     "output_type": "stream",
     "text": [
      "4     True\n",
      "0     True\n",
      "2     True\n",
      "1     True\n",
      "6    False\n",
      "3     True\n",
      "5    False\n",
      "Name: ages, dtype: bool\n"
     ]
    }
   ],
   "source": [
    "#using a conditional to create true/false column to work with \n",
    "\n",
    "can_drink = df[\"ages\"] > 21\n",
    "\n",
    "print(can_drink)"
   ]
  },
  {
   "cell_type": "code",
   "execution_count": 50,
   "id": "b6f2007f",
   "metadata": {},
   "outputs": [
    {
     "data": {
      "text/html": [
       "<div>\n",
       "<style scoped>\n",
       "    .dataframe tbody tr th:only-of-type {\n",
       "        vertical-align: middle;\n",
       "    }\n",
       "\n",
       "    .dataframe tbody tr th {\n",
       "        vertical-align: top;\n",
       "    }\n",
       "\n",
       "    .dataframe thead th {\n",
       "        text-align: right;\n",
       "    }\n",
       "</style>\n",
       "<table border=\"1\" class=\"dataframe\">\n",
       "  <thead>\n",
       "    <tr style=\"text-align: right;\">\n",
       "      <th></th>\n",
       "      <th>names</th>\n",
       "      <th>ages</th>\n",
       "    </tr>\n",
       "  </thead>\n",
       "  <tbody>\n",
       "    <tr>\n",
       "      <th>4</th>\n",
       "      <td>Barney</td>\n",
       "      <td>33</td>\n",
       "    </tr>\n",
       "    <tr>\n",
       "      <th>0</th>\n",
       "      <td>Jess</td>\n",
       "      <td>25</td>\n",
       "    </tr>\n",
       "    <tr>\n",
       "      <th>2</th>\n",
       "      <td>John</td>\n",
       "      <td>22</td>\n",
       "    </tr>\n",
       "    <tr>\n",
       "      <th>1</th>\n",
       "      <td>Jordan</td>\n",
       "      <td>35</td>\n",
       "    </tr>\n",
       "    <tr>\n",
       "      <th>3</th>\n",
       "      <td>Ted</td>\n",
       "      <td>29</td>\n",
       "    </tr>\n",
       "  </tbody>\n",
       "</table>\n",
       "</div>"
      ],
      "text/plain": [
       "    names  ages\n",
       "4  Barney    33\n",
       "0    Jess    25\n",
       "2    John    22\n",
       "1  Jordan    35\n",
       "3     Ted    29"
      ]
     },
     "execution_count": 50,
     "metadata": {},
     "output_type": "execute_result"
    }
   ],
   "source": [
    "#using subsetting to filter out records and keeping the data frame intact\n",
    "df[df[\"ages\"] > 21]"
   ]
  },
  {
   "cell_type": "code",
   "execution_count": null,
   "id": "58c34e64",
   "metadata": {},
   "outputs": [],
   "source": [
    "#>>> dataframe_variable [ conditional statement to filter records with ]\n",
    "#>>> df[ can_drink ]"
   ]
  },
  {
   "cell_type": "markdown",
   "id": "ad950abc",
   "metadata": {},
   "source": [
    "column Transformations"
   ]
  },
  {
   "cell_type": "code",
   "execution_count": 51,
   "id": "8ba42206",
   "metadata": {},
   "outputs": [
    {
     "data": {
      "text/html": [
       "<div>\n",
       "<style scoped>\n",
       "    .dataframe tbody tr th:only-of-type {\n",
       "        vertical-align: middle;\n",
       "    }\n",
       "\n",
       "    .dataframe tbody tr th {\n",
       "        vertical-align: top;\n",
       "    }\n",
       "\n",
       "    .dataframe thead th {\n",
       "        text-align: right;\n",
       "    }\n",
       "</style>\n",
       "<table border=\"1\" class=\"dataframe\">\n",
       "  <thead>\n",
       "    <tr style=\"text-align: right;\">\n",
       "      <th></th>\n",
       "      <th>names</th>\n",
       "      <th>ages</th>\n",
       "      <th>tenure</th>\n",
       "    </tr>\n",
       "  </thead>\n",
       "  <tbody>\n",
       "    <tr>\n",
       "      <th>4</th>\n",
       "      <td>Barney</td>\n",
       "      <td>33</td>\n",
       "      <td>4</td>\n",
       "    </tr>\n",
       "    <tr>\n",
       "      <th>0</th>\n",
       "      <td>Jess</td>\n",
       "      <td>25</td>\n",
       "      <td>6</td>\n",
       "    </tr>\n",
       "    <tr>\n",
       "      <th>2</th>\n",
       "      <td>John</td>\n",
       "      <td>22</td>\n",
       "      <td>2</td>\n",
       "    </tr>\n",
       "    <tr>\n",
       "      <th>1</th>\n",
       "      <td>Jordan</td>\n",
       "      <td>35</td>\n",
       "      <td>5</td>\n",
       "    </tr>\n",
       "    <tr>\n",
       "      <th>6</th>\n",
       "      <td>Rebecca</td>\n",
       "      <td>18</td>\n",
       "      <td>8</td>\n",
       "    </tr>\n",
       "  </tbody>\n",
       "</table>\n",
       "</div>"
      ],
      "text/plain": [
       "     names  ages  tenure\n",
       "4   Barney    33       4\n",
       "0     Jess    25       6\n",
       "2     John    22       2\n",
       "1   Jordan    35       5\n",
       "6  Rebecca    18       8"
      ]
     },
     "execution_count": 51,
     "metadata": {},
     "output_type": "execute_result"
    }
   ],
   "source": [
    "#generating a new column of fake data for each record in the dataframe\n",
    "random.seed(321)\n",
    "\n",
    "tenure = [random.randint(0, 10) for x in range(len(df))]\n",
    "df[\"tenure\"] = tenure\n",
    "\n",
    "df.head()"
   ]
  },
  {
   "cell_type": "code",
   "execution_count": 52,
   "id": "9623d18e",
   "metadata": {},
   "outputs": [
    {
     "data": {
      "text/html": [
       "<div>\n",
       "<style scoped>\n",
       "    .dataframe tbody tr th:only-of-type {\n",
       "        vertical-align: middle;\n",
       "    }\n",
       "\n",
       "    .dataframe tbody tr th {\n",
       "        vertical-align: top;\n",
       "    }\n",
       "\n",
       "    .dataframe thead th {\n",
       "        text-align: right;\n",
       "    }\n",
       "</style>\n",
       "<table border=\"1\" class=\"dataframe\">\n",
       "  <thead>\n",
       "    <tr style=\"text-align: right;\">\n",
       "      <th></th>\n",
       "      <th>names</th>\n",
       "      <th>ages</th>\n",
       "      <th>tenure</th>\n",
       "      <th>age_group</th>\n",
       "    </tr>\n",
       "  </thead>\n",
       "  <tbody>\n",
       "    <tr>\n",
       "      <th>4</th>\n",
       "      <td>Barney</td>\n",
       "      <td>33</td>\n",
       "      <td>4</td>\n",
       "      <td>Adult</td>\n",
       "    </tr>\n",
       "    <tr>\n",
       "      <th>0</th>\n",
       "      <td>Jess</td>\n",
       "      <td>25</td>\n",
       "      <td>6</td>\n",
       "      <td>Adult</td>\n",
       "    </tr>\n",
       "    <tr>\n",
       "      <th>2</th>\n",
       "      <td>John</td>\n",
       "      <td>22</td>\n",
       "      <td>2</td>\n",
       "      <td>Adult</td>\n",
       "    </tr>\n",
       "    <tr>\n",
       "      <th>1</th>\n",
       "      <td>Jordan</td>\n",
       "      <td>35</td>\n",
       "      <td>5</td>\n",
       "      <td>Adult</td>\n",
       "    </tr>\n",
       "    <tr>\n",
       "      <th>6</th>\n",
       "      <td>Rebecca</td>\n",
       "      <td>18</td>\n",
       "      <td>8</td>\n",
       "      <td>Teenager</td>\n",
       "    </tr>\n",
       "    <tr>\n",
       "      <th>3</th>\n",
       "      <td>Ted</td>\n",
       "      <td>29</td>\n",
       "      <td>7</td>\n",
       "      <td>Adult</td>\n",
       "    </tr>\n",
       "    <tr>\n",
       "      <th>5</th>\n",
       "      <td>Tyler</td>\n",
       "      <td>20</td>\n",
       "      <td>5</td>\n",
       "      <td>Teenager</td>\n",
       "    </tr>\n",
       "  </tbody>\n",
       "</table>\n",
       "</div>"
      ],
      "text/plain": [
       "     names  ages  tenure age_group\n",
       "4   Barney    33       4     Adult\n",
       "0     Jess    25       6     Adult\n",
       "2     John    22       2     Adult\n",
       "1   Jordan    35       5     Adult\n",
       "6  Rebecca    18       8  Teenager\n",
       "3      Ted    29       7     Adult\n",
       "5    Tyler    20       5  Teenager"
      ]
     },
     "execution_count": 52,
     "metadata": {},
     "output_type": "execute_result"
    }
   ],
   "source": [
    "#apply() Feature engineering\n",
    "\n",
    "#feature engineering a column from known data using a UDF(user defined function)\n",
    "\n",
    "def ageGroup(age):\n",
    "    return \"Teenager\" if age < 21 else \"Adult\"\n",
    "\n",
    "df[\"age_group\"] = df[\"ages\"].apply(ageGroup)\n",
    "df.head(10)\n",
    "\n",
    "# Note When you need to apply a value based on multiple columns, you must set\n",
    "# the axis = 1."
   ]
  },
  {
   "cell_type": "markdown",
   "id": "21b3117b",
   "metadata": {},
   "source": [
    "Aggregations"
   ]
  },
  {
   "cell_type": "code",
   "execution_count": 53,
   "id": "28b635a4",
   "metadata": {},
   "outputs": [
    {
     "data": {
      "text/html": [
       "<div>\n",
       "<style scoped>\n",
       "    .dataframe tbody tr th:only-of-type {\n",
       "        vertical-align: middle;\n",
       "    }\n",
       "\n",
       "    .dataframe tbody tr th {\n",
       "        vertical-align: top;\n",
       "    }\n",
       "\n",
       "    .dataframe thead th {\n",
       "        text-align: right;\n",
       "    }\n",
       "</style>\n",
       "<table border=\"1\" class=\"dataframe\">\n",
       "  <thead>\n",
       "    <tr style=\"text-align: right;\">\n",
       "      <th></th>\n",
       "      <th>age_group</th>\n",
       "      <th>names</th>\n",
       "      <th>ages</th>\n",
       "      <th>tenure</th>\n",
       "    </tr>\n",
       "  </thead>\n",
       "  <tbody>\n",
       "    <tr>\n",
       "      <th>0</th>\n",
       "      <td>Adult</td>\n",
       "      <td>5</td>\n",
       "      <td>5</td>\n",
       "      <td>5</td>\n",
       "    </tr>\n",
       "    <tr>\n",
       "      <th>1</th>\n",
       "      <td>Teenager</td>\n",
       "      <td>2</td>\n",
       "      <td>2</td>\n",
       "      <td>2</td>\n",
       "    </tr>\n",
       "  </tbody>\n",
       "</table>\n",
       "</div>"
      ],
      "text/plain": [
       "  age_group  names  ages  tenure\n",
       "0     Adult      5     5       5\n",
       "1  Teenager      2     2       2"
      ]
     },
     "execution_count": 53,
     "metadata": {},
     "output_type": "execute_result"
    }
   ],
   "source": [
    "#groupby()\n",
    "\n",
    "#grouping the records together into a count to check records in each age group\n",
    "df.groupby(\"age_group\", as_index = False).count().head()\n"
   ]
  },
  {
   "cell_type": "code",
   "execution_count": 55,
   "id": "1f956ce1",
   "metadata": {},
   "outputs": [
    {
     "data": {
      "text/html": [
       "<div>\n",
       "<style scoped>\n",
       "    .dataframe tbody tr th:only-of-type {\n",
       "        vertical-align: middle;\n",
       "    }\n",
       "\n",
       "    .dataframe tbody tr th {\n",
       "        vertical-align: top;\n",
       "    }\n",
       "\n",
       "    .dataframe thead th {\n",
       "        text-align: right;\n",
       "    }\n",
       "</style>\n",
       "<table border=\"1\" class=\"dataframe\">\n",
       "  <thead>\n",
       "    <tr style=\"text-align: right;\">\n",
       "      <th></th>\n",
       "      <th>age_group</th>\n",
       "      <th>ages</th>\n",
       "      <th>tenure</th>\n",
       "    </tr>\n",
       "  </thead>\n",
       "  <tbody>\n",
       "    <tr>\n",
       "      <th>0</th>\n",
       "      <td>Adult</td>\n",
       "      <td>28.8</td>\n",
       "      <td>4.8</td>\n",
       "    </tr>\n",
       "    <tr>\n",
       "      <th>1</th>\n",
       "      <td>Teenager</td>\n",
       "      <td>19.0</td>\n",
       "      <td>6.5</td>\n",
       "    </tr>\n",
       "  </tbody>\n",
       "</table>\n",
       "</div>"
      ],
      "text/plain": [
       "  age_group  ages  tenure\n",
       "0     Adult  28.8     4.8\n",
       "1  Teenager  19.0     6.5"
      ]
     },
     "execution_count": 55,
     "metadata": {},
     "output_type": "execute_result"
    }
   ],
   "source": [
    "#mean()\n",
    "#grouping the data to see average of columns\n",
    "\n",
    "df.groupby(\"age_group\", as_index = False).mean().head()"
   ]
  },
  {
   "cell_type": "code",
   "execution_count": 58,
   "id": "854f07a1",
   "metadata": {},
   "outputs": [
    {
     "data": {
      "text/html": [
       "<div>\n",
       "<style scoped>\n",
       "    .dataframe tbody tr th:only-of-type {\n",
       "        vertical-align: middle;\n",
       "    }\n",
       "\n",
       "    .dataframe tbody tr th {\n",
       "        vertical-align: top;\n",
       "    }\n",
       "\n",
       "    .dataframe thead th {\n",
       "        text-align: right;\n",
       "    }\n",
       "</style>\n",
       "<table border=\"1\" class=\"dataframe\">\n",
       "  <thead>\n",
       "    <tr style=\"text-align: right;\">\n",
       "      <th></th>\n",
       "      <th>age_group</th>\n",
       "      <th>tenure</th>\n",
       "      <th>names</th>\n",
       "      <th>ages</th>\n",
       "    </tr>\n",
       "  </thead>\n",
       "  <tbody>\n",
       "    <tr>\n",
       "      <th>0</th>\n",
       "      <td>Adult</td>\n",
       "      <td>2</td>\n",
       "      <td>2</td>\n",
       "      <td>2</td>\n",
       "    </tr>\n",
       "    <tr>\n",
       "      <th>1</th>\n",
       "      <td>Adult</td>\n",
       "      <td>4</td>\n",
       "      <td>1</td>\n",
       "      <td>1</td>\n",
       "    </tr>\n",
       "    <tr>\n",
       "      <th>2</th>\n",
       "      <td>Adult</td>\n",
       "      <td>5</td>\n",
       "      <td>1</td>\n",
       "      <td>1</td>\n",
       "    </tr>\n",
       "    <tr>\n",
       "      <th>3</th>\n",
       "      <td>Adult</td>\n",
       "      <td>6</td>\n",
       "      <td>1</td>\n",
       "      <td>1</td>\n",
       "    </tr>\n",
       "    <tr>\n",
       "      <th>4</th>\n",
       "      <td>Adult</td>\n",
       "      <td>7</td>\n",
       "      <td>1</td>\n",
       "      <td>1</td>\n",
       "    </tr>\n",
       "  </tbody>\n",
       "</table>\n",
       "</div>"
      ],
      "text/plain": [
       "  age_group  tenure  names  ages\n",
       "0     Adult       2      2     2\n",
       "1     Adult       4      1     1\n",
       "2     Adult       5      1     1\n",
       "3     Adult       6      1     1\n",
       "4     Adult       7      1     1"
      ]
     },
     "execution_count": 58,
     "metadata": {},
     "output_type": "execute_result"
    }
   ],
   "source": [
    "#grouping the information by their age group and then by tenure\n",
    "\n",
    "df.groupby([\"age_group\", \"tenure\"], as_index = False).count().head()"
   ]
  },
  {
   "cell_type": "code",
   "execution_count": 57,
   "id": "83a05215",
   "metadata": {},
   "outputs": [
    {
     "data": {
      "text/html": [
       "<div>\n",
       "<style scoped>\n",
       "    .dataframe tbody tr th:only-of-type {\n",
       "        vertical-align: middle;\n",
       "    }\n",
       "\n",
       "    .dataframe tbody tr th {\n",
       "        vertical-align: top;\n",
       "    }\n",
       "\n",
       "    .dataframe thead th {\n",
       "        text-align: right;\n",
       "    }\n",
       "</style>\n",
       "<table border=\"1\" class=\"dataframe\">\n",
       "  <thead>\n",
       "    <tr style=\"text-align: right;\">\n",
       "      <th></th>\n",
       "      <th>names</th>\n",
       "      <th>ages</th>\n",
       "      <th>tenure</th>\n",
       "      <th>age_group</th>\n",
       "    </tr>\n",
       "  </thead>\n",
       "  <tbody>\n",
       "    <tr>\n",
       "      <th>4</th>\n",
       "      <td>Barney</td>\n",
       "      <td>33</td>\n",
       "      <td>4</td>\n",
       "      <td>Adult</td>\n",
       "    </tr>\n",
       "    <tr>\n",
       "      <th>0</th>\n",
       "      <td>Jess</td>\n",
       "      <td>25</td>\n",
       "      <td>6</td>\n",
       "      <td>Adult</td>\n",
       "    </tr>\n",
       "    <tr>\n",
       "      <th>2</th>\n",
       "      <td>John</td>\n",
       "      <td>22</td>\n",
       "      <td>2</td>\n",
       "      <td>Adult</td>\n",
       "    </tr>\n",
       "    <tr>\n",
       "      <th>1</th>\n",
       "      <td>Jordan</td>\n",
       "      <td>35</td>\n",
       "      <td>5</td>\n",
       "      <td>Adult</td>\n",
       "    </tr>\n",
       "    <tr>\n",
       "      <th>6</th>\n",
       "      <td>Rebecca</td>\n",
       "      <td>18</td>\n",
       "      <td>8</td>\n",
       "      <td>Teenager</td>\n",
       "    </tr>\n",
       "    <tr>\n",
       "      <th>3</th>\n",
       "      <td>Ted</td>\n",
       "      <td>29</td>\n",
       "      <td>7</td>\n",
       "      <td>Adult</td>\n",
       "    </tr>\n",
       "    <tr>\n",
       "      <th>5</th>\n",
       "      <td>Tyler</td>\n",
       "      <td>20</td>\n",
       "      <td>5</td>\n",
       "      <td>Teenager</td>\n",
       "    </tr>\n",
       "    <tr>\n",
       "      <th>7</th>\n",
       "      <td>25</td>\n",
       "      <td>Jess</td>\n",
       "      <td>2</td>\n",
       "      <td>Adult</td>\n",
       "    </tr>\n",
       "  </tbody>\n",
       "</table>\n",
       "</div>"
      ],
      "text/plain": [
       "     names  ages  tenure age_group\n",
       "4   Barney    33       4     Adult\n",
       "0     Jess    25       6     Adult\n",
       "2     John    22       2     Adult\n",
       "1   Jordan    35       5     Adult\n",
       "6  Rebecca    18       8  Teenager\n",
       "3      Ted    29       7     Adult\n",
       "5    Tyler    20       5  Teenager\n",
       "7       25  Jess       2     Adult"
      ]
     },
     "execution_count": 57,
     "metadata": {},
     "output_type": "execute_result"
    }
   ],
   "source": [
    "#adding a record to the bottom of the data frame\n",
    "df.loc[7] = [25, \"Jess\", 2, \"Adult\"]\n",
    "df.head(10)"
   ]
  },
  {
   "cell_type": "code",
   "execution_count": 59,
   "id": "431bd89e",
   "metadata": {},
   "outputs": [
    {
     "data": {
      "text/html": [
       "<div>\n",
       "<style scoped>\n",
       "    .dataframe tbody tr th:only-of-type {\n",
       "        vertical-align: middle;\n",
       "    }\n",
       "\n",
       "    .dataframe tbody tr th {\n",
       "        vertical-align: top;\n",
       "    }\n",
       "\n",
       "    .dataframe thead th {\n",
       "        text-align: right;\n",
       "    }\n",
       "</style>\n",
       "<table border=\"1\" class=\"dataframe\">\n",
       "  <thead>\n",
       "    <tr style=\"text-align: right;\">\n",
       "      <th></th>\n",
       "      <th>names</th>\n",
       "      <th>ages</th>\n",
       "      <th>tenure</th>\n",
       "      <th>age_group</th>\n",
       "    </tr>\n",
       "  </thead>\n",
       "  <tbody>\n",
       "    <tr>\n",
       "      <th>4</th>\n",
       "      <td>Barney</td>\n",
       "      <td>33</td>\n",
       "      <td>4</td>\n",
       "      <td>Adult</td>\n",
       "    </tr>\n",
       "    <tr>\n",
       "      <th>0</th>\n",
       "      <td>Jess</td>\n",
       "      <td>25</td>\n",
       "      <td>6</td>\n",
       "      <td>Adult</td>\n",
       "    </tr>\n",
       "    <tr>\n",
       "      <th>2</th>\n",
       "      <td>John</td>\n",
       "      <td>22</td>\n",
       "      <td>2</td>\n",
       "      <td>Adult</td>\n",
       "    </tr>\n",
       "    <tr>\n",
       "      <th>1</th>\n",
       "      <td>Jordan</td>\n",
       "      <td>35</td>\n",
       "      <td>5</td>\n",
       "      <td>Adult</td>\n",
       "    </tr>\n",
       "    <tr>\n",
       "      <th>6</th>\n",
       "      <td>Rebecca</td>\n",
       "      <td>18</td>\n",
       "      <td>8</td>\n",
       "      <td>Teenager</td>\n",
       "    </tr>\n",
       "  </tbody>\n",
       "</table>\n",
       "</div>"
      ],
      "text/plain": [
       "     names ages  tenure age_group\n",
       "4   Barney   33       4     Adult\n",
       "0     Jess   25       6     Adult\n",
       "2     John   22       2     Adult\n",
       "1   Jordan   35       5     Adult\n",
       "6  Rebecca   18       8  Teenager"
      ]
     },
     "execution_count": 59,
     "metadata": {},
     "output_type": "execute_result"
    }
   ],
   "source": [
    "#drop duplicates\n",
    "#removing duplicates based on some names\n",
    "\n",
    "df = df.drop_duplicates(subset = \"names\")\n",
    "df.head()"
   ]
  },
  {
   "cell_type": "code",
   "execution_count": null,
   "id": "cfd0fab9",
   "metadata": {},
   "outputs": [],
   "source": [
    "#Pandas Joins"
   ]
  },
  {
   "cell_type": "code",
   "execution_count": 65,
   "id": "eabafe2c",
   "metadata": {},
   "outputs": [
    {
     "data": {
      "text/html": [
       "<div>\n",
       "<style scoped>\n",
       "    .dataframe tbody tr th:only-of-type {\n",
       "        vertical-align: middle;\n",
       "    }\n",
       "\n",
       "    .dataframe tbody tr th {\n",
       "        vertical-align: top;\n",
       "    }\n",
       "\n",
       "    .dataframe thead th {\n",
       "        text-align: right;\n",
       "    }\n",
       "</style>\n",
       "<table border=\"1\" class=\"dataframe\">\n",
       "  <thead>\n",
       "    <tr style=\"text-align: right;\">\n",
       "      <th></th>\n",
       "      <th>names</th>\n",
       "      <th>ratings</th>\n",
       "    </tr>\n",
       "  </thead>\n",
       "  <tbody>\n",
       "    <tr>\n",
       "      <th>0</th>\n",
       "      <td>Jess</td>\n",
       "      <td>10</td>\n",
       "    </tr>\n",
       "    <tr>\n",
       "      <th>1</th>\n",
       "      <td>Tyler</td>\n",
       "      <td>9</td>\n",
       "    </tr>\n",
       "    <tr>\n",
       "      <th>2</th>\n",
       "      <td>Ted</td>\n",
       "      <td>6</td>\n",
       "    </tr>\n",
       "  </tbody>\n",
       "</table>\n",
       "</div>"
      ],
      "text/plain": [
       "   names  ratings\n",
       "0   Jess       10\n",
       "1  Tyler        9\n",
       "2    Ted        6"
      ]
     },
     "execution_count": 65,
     "metadata": {},
     "output_type": "execute_result"
    }
   ],
   "source": [
    "#creating another data frame\n",
    "\n",
    "ratings = {\"names\" : [\"Jess\", \"Tyler\", \"Ted\"], \"ratings\" : [10, 9, 6]}\n",
    "ratings = df.from_dict(ratings)\n",
    "ratings.head()"
   ]
  },
  {
   "cell_type": "code",
   "execution_count": 67,
   "id": "b4f18b7d",
   "metadata": {},
   "outputs": [
    {
     "data": {
      "text/html": [
       "<div>\n",
       "<style scoped>\n",
       "    .dataframe tbody tr th:only-of-type {\n",
       "        vertical-align: middle;\n",
       "    }\n",
       "\n",
       "    .dataframe tbody tr th {\n",
       "        vertical-align: top;\n",
       "    }\n",
       "\n",
       "    .dataframe thead th {\n",
       "        text-align: right;\n",
       "    }\n",
       "</style>\n",
       "<table border=\"1\" class=\"dataframe\">\n",
       "  <thead>\n",
       "    <tr style=\"text-align: right;\">\n",
       "      <th></th>\n",
       "      <th>names</th>\n",
       "      <th>ages</th>\n",
       "      <th>tenure</th>\n",
       "      <th>age_group</th>\n",
       "      <th>ratings</th>\n",
       "    </tr>\n",
       "  </thead>\n",
       "  <tbody>\n",
       "    <tr>\n",
       "      <th>0</th>\n",
       "      <td>Jess</td>\n",
       "      <td>25</td>\n",
       "      <td>6</td>\n",
       "      <td>Adult</td>\n",
       "      <td>10</td>\n",
       "    </tr>\n",
       "    <tr>\n",
       "      <th>1</th>\n",
       "      <td>Ted</td>\n",
       "      <td>29</td>\n",
       "      <td>7</td>\n",
       "      <td>Adult</td>\n",
       "      <td>6</td>\n",
       "    </tr>\n",
       "    <tr>\n",
       "      <th>2</th>\n",
       "      <td>Tyler</td>\n",
       "      <td>20</td>\n",
       "      <td>5</td>\n",
       "      <td>Teenager</td>\n",
       "      <td>9</td>\n",
       "    </tr>\n",
       "  </tbody>\n",
       "</table>\n",
       "</div>"
      ],
      "text/plain": [
       "   names ages  tenure age_group  ratings\n",
       "0   Jess   25       6     Adult       10\n",
       "1    Ted   29       7     Adult        6\n",
       "2  Tyler   20       5  Teenager        9"
      ]
     },
     "execution_count": 67,
     "metadata": {},
     "output_type": "execute_result"
    }
   ],
   "source": [
    "#inner join\n",
    "#performing inner join on our data frame\n",
    "matched_ratings = df.merge(ratings, on= \"names\", how = \"inner\")\n",
    "matched_ratings.head()"
   ]
  },
  {
   "cell_type": "code",
   "execution_count": 68,
   "id": "5644135f",
   "metadata": {},
   "outputs": [
    {
     "data": {
      "text/html": [
       "<div>\n",
       "<style scoped>\n",
       "    .dataframe tbody tr th:only-of-type {\n",
       "        vertical-align: middle;\n",
       "    }\n",
       "\n",
       "    .dataframe tbody tr th {\n",
       "        vertical-align: top;\n",
       "    }\n",
       "\n",
       "    .dataframe thead th {\n",
       "        text-align: right;\n",
       "    }\n",
       "</style>\n",
       "<table border=\"1\" class=\"dataframe\">\n",
       "  <thead>\n",
       "    <tr style=\"text-align: right;\">\n",
       "      <th></th>\n",
       "      <th>names</th>\n",
       "      <th>ages</th>\n",
       "      <th>tenure</th>\n",
       "      <th>age_group</th>\n",
       "      <th>ratings</th>\n",
       "    </tr>\n",
       "  </thead>\n",
       "  <tbody>\n",
       "    <tr>\n",
       "      <th>0</th>\n",
       "      <td>Barney</td>\n",
       "      <td>33</td>\n",
       "      <td>4</td>\n",
       "      <td>Adult</td>\n",
       "      <td>NaN</td>\n",
       "    </tr>\n",
       "    <tr>\n",
       "      <th>1</th>\n",
       "      <td>Jess</td>\n",
       "      <td>25</td>\n",
       "      <td>6</td>\n",
       "      <td>Adult</td>\n",
       "      <td>10.0</td>\n",
       "    </tr>\n",
       "    <tr>\n",
       "      <th>2</th>\n",
       "      <td>John</td>\n",
       "      <td>22</td>\n",
       "      <td>2</td>\n",
       "      <td>Adult</td>\n",
       "      <td>NaN</td>\n",
       "    </tr>\n",
       "    <tr>\n",
       "      <th>3</th>\n",
       "      <td>Jordan</td>\n",
       "      <td>35</td>\n",
       "      <td>5</td>\n",
       "      <td>Adult</td>\n",
       "      <td>NaN</td>\n",
       "    </tr>\n",
       "    <tr>\n",
       "      <th>4</th>\n",
       "      <td>Rebecca</td>\n",
       "      <td>18</td>\n",
       "      <td>8</td>\n",
       "      <td>Teenager</td>\n",
       "      <td>NaN</td>\n",
       "    </tr>\n",
       "  </tbody>\n",
       "</table>\n",
       "</div>"
      ],
      "text/plain": [
       "     names ages  tenure age_group  ratings\n",
       "0   Barney   33       4     Adult      NaN\n",
       "1     Jess   25       6     Adult     10.0\n",
       "2     John   22       2     Adult      NaN\n",
       "3   Jordan   35       5     Adult      NaN\n",
       "4  Rebecca   18       8  Teenager      NaN"
      ]
     },
     "execution_count": 68,
     "metadata": {},
     "output_type": "execute_result"
    }
   ],
   "source": [
    "#outer join\n",
    "#performing outer join on data frames\n",
    "\n",
    "all_ratings = df.merge(ratings, on = \"names\", how=\"outer\")\n",
    "all_ratings.head()"
   ]
  },
  {
   "cell_type": "markdown",
   "id": "95558c34",
   "metadata": {},
   "source": [
    "TUESDAY EXERCISE"
   ]
  },
  {
   "cell_type": "code",
   "execution_count": 4,
   "id": "958385b0",
   "metadata": {},
   "outputs": [
    {
     "data": {
      "text/html": [
       "<div>\n",
       "<style scoped>\n",
       "    .dataframe tbody tr th:only-of-type {\n",
       "        vertical-align: middle;\n",
       "    }\n",
       "\n",
       "    .dataframe tbody tr th {\n",
       "        vertical-align: top;\n",
       "    }\n",
       "\n",
       "    .dataframe thead th {\n",
       "        text-align: right;\n",
       "    }\n",
       "</style>\n",
       "<table border=\"1\" class=\"dataframe\">\n",
       "  <thead>\n",
       "    <tr style=\"text-align: right;\">\n",
       "      <th></th>\n",
       "      <th>PLAYER</th>\n",
       "      <th>NATIONALITY</th>\n",
       "      <th>TYPE</th>\n",
       "      <th>PRICE</th>\n",
       "      <th>SOLD/UNSOLD</th>\n",
       "      <th>TEAM</th>\n",
       "      <th>YEAR</th>\n",
       "    </tr>\n",
       "  </thead>\n",
       "  <tbody>\n",
       "    <tr>\n",
       "      <th>0</th>\n",
       "      <td>Robin Uthappa</td>\n",
       "      <td>Indian</td>\n",
       "      <td>Batsman</td>\n",
       "      <td>20000000</td>\n",
       "      <td>SOLD</td>\n",
       "      <td>Chennai Super Kings</td>\n",
       "      <td>2022</td>\n",
       "    </tr>\n",
       "    <tr>\n",
       "      <th>1</th>\n",
       "      <td>Dwayne Bravo</td>\n",
       "      <td>Overseas</td>\n",
       "      <td>All-Rounder</td>\n",
       "      <td>44000000</td>\n",
       "      <td>SOLD</td>\n",
       "      <td>Chennai Super Kings</td>\n",
       "      <td>2022</td>\n",
       "    </tr>\n",
       "    <tr>\n",
       "      <th>2</th>\n",
       "      <td>Ambati Rayudu</td>\n",
       "      <td>Indian</td>\n",
       "      <td>Wicket Keeper</td>\n",
       "      <td>67500000</td>\n",
       "      <td>SOLD</td>\n",
       "      <td>Chennai Super Kings</td>\n",
       "      <td>2022</td>\n",
       "    </tr>\n",
       "    <tr>\n",
       "      <th>3</th>\n",
       "      <td>Deepak Chahar</td>\n",
       "      <td>Indian</td>\n",
       "      <td>Bowler</td>\n",
       "      <td>140000000</td>\n",
       "      <td>SOLD</td>\n",
       "      <td>Chennai Super Kings</td>\n",
       "      <td>2022</td>\n",
       "    </tr>\n",
       "    <tr>\n",
       "      <th>4</th>\n",
       "      <td>C.Hari Nishaanth</td>\n",
       "      <td>Indian</td>\n",
       "      <td>Batsman</td>\n",
       "      <td>2000000</td>\n",
       "      <td>SOLD</td>\n",
       "      <td>Chennai Super Kings</td>\n",
       "      <td>2022</td>\n",
       "    </tr>\n",
       "    <tr>\n",
       "      <th>5</th>\n",
       "      <td>N. Jagadeesan</td>\n",
       "      <td>Indian</td>\n",
       "      <td>Wicket Keeper</td>\n",
       "      <td>2000000</td>\n",
       "      <td>SOLD</td>\n",
       "      <td>Chennai Super Kings</td>\n",
       "      <td>2022</td>\n",
       "    </tr>\n",
       "    <tr>\n",
       "      <th>6</th>\n",
       "      <td>K.M. Asif</td>\n",
       "      <td>Indian</td>\n",
       "      <td>Bowler</td>\n",
       "      <td>2000000</td>\n",
       "      <td>SOLD</td>\n",
       "      <td>Chennai Super Kings</td>\n",
       "      <td>2022</td>\n",
       "    </tr>\n",
       "    <tr>\n",
       "      <th>7</th>\n",
       "      <td>Tushar Deshpande</td>\n",
       "      <td>Indian</td>\n",
       "      <td>Bowler</td>\n",
       "      <td>2000000</td>\n",
       "      <td>SOLD</td>\n",
       "      <td>Chennai Super Kings</td>\n",
       "      <td>2022</td>\n",
       "    </tr>\n",
       "    <tr>\n",
       "      <th>8</th>\n",
       "      <td>Shivam Dube</td>\n",
       "      <td>Indian</td>\n",
       "      <td>All-Rounder</td>\n",
       "      <td>40000000</td>\n",
       "      <td>SOLD</td>\n",
       "      <td>Chennai Super Kings</td>\n",
       "      <td>2022</td>\n",
       "    </tr>\n",
       "    <tr>\n",
       "      <th>9</th>\n",
       "      <td>Chris Jordan</td>\n",
       "      <td>Overseas</td>\n",
       "      <td>All-Rounder</td>\n",
       "      <td>36000000</td>\n",
       "      <td>SOLD</td>\n",
       "      <td>Chennai Super Kings</td>\n",
       "      <td>2022</td>\n",
       "    </tr>\n",
       "  </tbody>\n",
       "</table>\n",
       "</div>"
      ],
      "text/plain": [
       "             PLAYER NATIONALITY           TYPE      PRICE SOLD/UNSOLD  \\\n",
       "0     Robin Uthappa      Indian        Batsman   20000000        SOLD   \n",
       "1      Dwayne Bravo    Overseas    All-Rounder   44000000        SOLD   \n",
       "2     Ambati Rayudu      Indian  Wicket Keeper   67500000        SOLD   \n",
       "3     Deepak Chahar      Indian         Bowler  140000000        SOLD   \n",
       "4  C.Hari Nishaanth      Indian        Batsman    2000000        SOLD   \n",
       "5     N. Jagadeesan      Indian  Wicket Keeper    2000000        SOLD   \n",
       "6         K.M. Asif      Indian         Bowler    2000000        SOLD   \n",
       "7  Tushar Deshpande      Indian         Bowler    2000000        SOLD   \n",
       "8       Shivam Dube      Indian    All-Rounder   40000000        SOLD   \n",
       "9      Chris Jordan    Overseas    All-Rounder   36000000        SOLD   \n",
       "\n",
       "                  TEAM  YEAR  \n",
       "0  Chennai Super Kings  2022  \n",
       "1  Chennai Super Kings  2022  \n",
       "2  Chennai Super Kings  2022  \n",
       "3  Chennai Super Kings  2022  \n",
       "4  Chennai Super Kings  2022  \n",
       "5  Chennai Super Kings  2022  \n",
       "6  Chennai Super Kings  2022  \n",
       "7  Chennai Super Kings  2022  \n",
       "8  Chennai Super Kings  2022  \n",
       "9  Chennai Super Kings  2022  "
      ]
     },
     "execution_count": 4,
     "metadata": {},
     "output_type": "execute_result"
    }
   ],
   "source": [
    "# Loading a Dataset: Go to www.Kaggle.com, click “Datasets” in the top\n",
    "# bar menu. Choose a dataset that you like, and download it into the “python_\n",
    "# bootcamp” folder. Then, load the dataset into a Pandas DataFrame using the\n",
    "# read_csv method, and display the top five records.\n",
    "\n",
    "import pandas as pd\n",
    "\n",
    "dataset = pd.read_csv(\"IPL_AUCTION_2013-2022.csv\")\n",
    "dataset.head(10)"
   ]
  },
  {
   "cell_type": "code",
   "execution_count": 5,
   "id": "21bda889",
   "metadata": {},
   "outputs": [
    {
     "name": "stdout",
     "output_type": "stream",
     "text": [
      "3862\n"
     ]
    }
   ],
   "source": [
    "# Dataset Analysis: This is an open-ended exercise. Run some analysis on the\n",
    "# dataset you chose from exercise #1. Try to answer questions like these:\n",
    "# a. How many records are there?\n",
    "# b. What are the data types of each column?\n",
    "# c. Are there duplicate records or columns?\n",
    "# d. Is there missing data?\n",
    "# e. Is there a correlation between two or more columns?\n",
    "\n",
    "#a. How many records are there?\n",
    "\n",
    "index = dataset.index\n",
    "print(len(index))\n",
    "\n"
   ]
  },
  {
   "cell_type": "markdown",
   "id": "d1c42ddc",
   "metadata": {},
   "source": [
    "Matplotlib"
   ]
  },
  {
   "cell_type": "code",
   "execution_count": 9,
   "id": "dcd9a743",
   "metadata": {},
   "outputs": [],
   "source": [
    "#importing matplotlib\n",
    "\n",
    "from matplotlib import pyplot as plt\n"
   ]
  },
  {
   "cell_type": "markdown",
   "id": "eafe103d",
   "metadata": {},
   "source": [
    "Line Plot"
   ]
  },
  {
   "cell_type": "code",
   "execution_count": 12,
   "id": "5ac7b5f5",
   "metadata": {},
   "outputs": [
    {
     "data": {
      "image/png": "[encoded data removed]",
      "text/plain": [
       "<Figure size 432x288 with 1 Axes>"
      ]
     },
     "metadata": {
      "needs_background": "light"
     },
     "output_type": "display_data"
    }
   ],
   "source": [
    "#creating a lineplot using x and y co-ordinates\n",
    "\n",
    "x,y = [1600, 1700, 1800, 1900, 2000], [0.2, 0.5, 1.1, 2.2, 7.7]\n",
    "plt.plot(x, y)\n",
    "plt.title(\"World population over time\")\n",
    "plt.xlabel(\"Year\")\n",
    "plt.ylabel(\"Population(billions)\")\n",
    "plt.show()"
   ]
  },
  {
   "cell_type": "code",
   "execution_count": 15,
   "id": "30133a92",
   "metadata": {},
   "outputs": [
    {
     "data": {
      "image/png": "[encoded data removed]",
      "text/plain": [
       "<Figure size 432x288 with 1 Axes>"
      ]
     },
     "metadata": {
      "needs_background": "light"
     },
     "output_type": "display_data"
    }
   ],
   "source": [
    "#creating a line plot with multiple lines\n",
    "\n",
    "x1, y1 = [1600, 1700, 1800, 1900, 2000], [0.2, 0.5, 1.1, 2.2, 7.7]\n",
    "x2, y2 = [1600, 1700, 1800, 1900, 2000], [1, 1, 2, 3, 4]\n",
    "\n",
    "plt.plot(x1, y1 , \"rx-\", label = \"Actual\")\n",
    "plt.plot(x2, y2 , \"bo-\", label = \"Fake\")\n",
    "plt.xlabel(\"Year\")\n",
    "plt.ylabel(\"Population(billions)\")\n",
    "plt.legend() #shows label in the corner\n",
    "plt.show()"
   ]
  },
  {
   "cell_type": "code",
   "execution_count": 16,
   "id": "7a3b48a0",
   "metadata": {},
   "outputs": [
    {
     "data": {
      "image/png": "[encoded data removed]",
      "text/plain": [
       "<Figure size 432x288 with 1 Axes>"
      ]
     },
     "metadata": {
      "needs_background": "light"
     },
     "output_type": "display_data"
    }
   ],
   "source": [
    "num_people, categories = [ 4, 8, 3, 6, 2 ] , [ \"Comedy\", \"Action\",\"Thriller\", \"Romance\", \"Horror\" ]\n",
    "\n",
    "plt.bar(categories, num_people)\n",
    "plt.title(\"Favorite Movie Category\", fontsize=24)\n",
    "plt.xlabel(\"Category\", fontsize=16)\n",
    "plt.ylabel(\"# of People\", fontsize=16)\n",
    "plt.xticks(fontname=\"Fantasy\")\n",
    "plt.yticks(fontname=\"Fantasy\")\n",
    "plt.show( )"
   ]
  },
  {
   "cell_type": "code",
   "execution_count": 21,
   "id": "cf45d3d6",
   "metadata": {},
   "outputs": [
    {
     "data": {
      "image/png": "[encoded data removed]",
      "text/plain": [
       "<Figure size 1080x576 with 1 Axes>"
      ]
     },
     "metadata": {
      "needs_background": "light"
     },
     "output_type": "display_data"
    }
   ],
   "source": [
    "#creating a box plot for shoeing height data for male and female\n",
    "\n",
    "males, females = [72, 68, 65, 77, 73, 71, 69], [60, 65, 68, 61, 63, 64]\n",
    "heights = [males, females]\n",
    "plt.figure(figsize=(15, 8))#makes chart bigger\n",
    "plt.boxplot(heights)#takes data from lists\n",
    "\n",
    "plt.xticks([1, 2], [\"Male\", \"Female\"])\n",
    "plt.title(\"Height by Gender\", fontsize = 22)\n",
    "plt.ylabel(\"Height (inches)\", fontsize = 14)\n",
    "plt.xlabel(\"Gender\", fontsize = 14)\n",
    "plt.show()\n",
    "\n"
   ]
  },
  {
   "cell_type": "code",
   "execution_count": 23,
   "id": "4e979134",
   "metadata": {},
   "outputs": [
    {
     "data": {
      "image/png": "[encoded data removed]",
      "text/plain": [
       "<Figure size 432x288 with 1 Axes>"
      ]
     },
     "metadata": {
      "needs_background": "light"
     },
     "output_type": "display_data"
    }
   ],
   "source": [
    "#creating a scatter plot to represent height-weight distribution\n",
    "\n",
    "import random\n",
    "from random import randint\n",
    "\n",
    "random.seed(2)\n",
    "\n",
    "height = [randint(57, 78) for x in range(20)]\n",
    "weight = [randint(90, 250) for x in range(20)]\n",
    "\n",
    "plt.scatter(weight, height)\n",
    "plt.title(\"Height Weight Distribution\")\n",
    "plt.xlabel(\"Weight (lbs)\")\n",
    "plt.ylabel(\"Height (inches)\")\n",
    "\n",
    "plt.show()\n"
   ]
  },
  {
   "cell_type": "code",
   "execution_count": 26,
   "id": "6234020a",
   "metadata": {},
   "outputs": [
    {
     "data": {
      "image/png": "[encoded data removed]",
      "text/plain": [
       "<Figure size 432x288 with 1 Axes>"
      ]
     },
     "metadata": {
      "needs_background": "light"
     },
     "output_type": "display_data"
    }
   ],
   "source": [
    "#creating a histogram to show age data for fake population\n",
    "import numpy as np\n",
    "np.random.seed(5)\n",
    "\n",
    "ages = [np.random.normal(loc = 40, scale=10) for x in range(1000)] #ages distributed around 40\n",
    "\n",
    "plt.hist(ages, bins=45)\n",
    "plt.title(\"Ages per Population\")\n",
    "plt.xlabel(\"Age\")\n",
    "plt.ylabel(\"# of People\")\n",
    "\n",
    "plt.show()"
   ]
  },
  {
   "cell_type": "code",
   "execution_count": 27,
   "id": "22a71466",
   "metadata": {},
   "outputs": [
    {
     "data": {
      "image/png": "[encoded data removed]",
      "text/plain": [
       "<Figure size 432x288 with 1 Axes>"
      ]
     },
     "metadata": {
      "needs_background": "light"
     },
     "output_type": "display_data"
    }
   ],
   "source": [
    "#showing the importance of hostogram's display central distribution\n",
    "\n",
    "florida = [np.random.normal(loc=60, scale=15) for x in range(1000)]\n",
    "california = [ np.random.normal(loc=35, scale=5) for x in range(1000) ]\n",
    "\n",
    "plt.hist(florida, bins=45, color=\"r\", alpha=0.4)\n",
    "\n",
    "plt.hist(california, bins=45, color=\"b\", alpha=0.4)\n",
    "\n",
    "plt.hist(florida, bins=45, color=\"r\", alpha=0.4)\n",
    "\n",
    "plt.hist(california, bins=45, color=\"b\", alpha=0.4)\n",
    "\n",
    "plt.show()\n",
    "\n",
    "# When rendering several charts, matplotlib understands how to separate\n",
    "# each plot by resetting the chart to empty after the show method is run, until then\n",
    "# all information being plotted will be included in one chart."
   ]
  },
  {
   "cell_type": "code",
   "execution_count": 29,
   "id": "bdc74cb6",
   "metadata": {},
   "outputs": [
    {
     "data": {
      "image/png": "[encoded data removed]",
      "text/plain": [
       "<Figure size 432x288 with 1 Axes>"
      ]
     },
     "metadata": {
      "needs_background": "light"
     },
     "output_type": "display_data"
    }
   ],
   "source": [
    "#using savefig method to save the chart as jpg to the local folder\n",
    "x, y = [ 1600, 1700, 1800, 1900, 2000 ] , [ 0.2, 0.5, 1.1, 2.2, 7.7 ]\n",
    "\n",
    "plt.plot(x, y, \"bo-\")\n",
    "plt.title(\"World Population Over Time\")\n",
    "plt.xlabel(\"Year\")\n",
    "plt.ylabel(\"Population (billions)\")\n",
    "plt.savefig(\"population.jpg\")"
   ]
  },
  {
   "cell_type": "markdown",
   "id": "b283c158",
   "metadata": {},
   "source": [
    "Flattening Multi-Dimentional Data"
   ]
  },
  {
   "cell_type": "code",
   "execution_count": 30,
   "id": "f36d68b3",
   "metadata": {},
   "outputs": [
    {
     "data": {
      "image/png": "[encoded data removed]",
      "text/plain": [
       "<Figure size 432x288 with 2 Axes>"
      ]
     },
     "metadata": {
      "needs_background": "light"
     },
     "output_type": "display_data"
    }
   ],
   "source": [
    "#create s scatter plot to represent height and weight distribution\n",
    "\n",
    "from random import randint\n",
    "random.seed(2)\n",
    "height = [randint(58, 78) for x in range(20)]\n",
    "weight = [randint(90, 250) for x in range(20)]\n",
    "age = [ randint(18, 65) for x in range(20) ]\n",
    "\n",
    "plt.scatter(weight, height, c=age)\n",
    "plt.title(\"Height-Weight Distribution\")\n",
    "plt.xlabel(\"Weight (lbs)\")\n",
    "plt.ylabel(\"Height (inches)\")\n",
    "plt.colorbar(label=\"Age\")\n",
    "\n",
    "plt.show()"
   ]
  },
  {
   "cell_type": "markdown",
   "id": "ea3e1509",
   "metadata": {},
   "source": [
    "WEDNESDAY EXERCISES"
   ]
  },
  {
   "cell_type": "code",
   "execution_count": 46,
   "id": "e3aeae84",
   "metadata": {},
   "outputs": [
    {
     "data": {
      "image/png": "[encoded data removed]",
      "text/plain": [
       "<Figure size 432x288 with 1 Axes>"
      ]
     },
     "metadata": {
      "needs_background": "light"
     },
     "output_type": "display_data"
    }
   ],
   "source": [
    "# Three Line Plot: Create three random lists of data that have 20 numbers\n",
    "# between 1 and 10. Then create a line plot with three lines, one for each list.\n",
    "# Give each line their own color, dot symbol, and line style.\n",
    "\n",
    "from random import randint\n",
    "random.seed(2)\n",
    "\n",
    "list1 = sorted([randint(1, 11) for x in range(20)])\n",
    "list2 = sorted([randint(1, 11) for x in range(20)])\n",
    "list3 = sorted([randint(1, 11) for x in range(20)])\n",
    "\n",
    "points = [x for x in range(1, 21)]\n",
    "\n",
    "plt.plot(list1, points, \"rx-\", label = \"fake3\")\n",
    "plt.plot(list2, points, \"bo-\", label = \"fake1\")\n",
    "plt.plot(list3, points, \"c--\", label = \"fake2\")\n",
    "\n",
    "plt.show()"
   ]
  },
  {
   "cell_type": "code",
   "execution_count": 50,
   "id": "0a664470",
   "metadata": {},
   "outputs": [
    {
     "name": "stdout",
     "output_type": "stream",
     "text": [
      "Which movie would you like to rate?Dune\n",
      "Is there another user that would like to review (y/n)y\n",
      "What would you rate this movie (1-5)?2\n",
      "Is there another user that would like to review (y/n)y\n",
      "What would you rate this movie (1-5)?4\n",
      "Is there another user that would like to review (y/n)3\n"
     ]
    },
    {
     "data": {
      "image/png": "[encoded data removed]",
      "text/plain": [
       "<Figure size 432x288 with 1 Axes>"
      ]
     },
     "metadata": {
      "needs_background": "light"
     },
     "output_type": "display_data"
    }
   ],
   "source": [
    "# User Information: Create a program that asks any number of users to give a\n",
    "# rating between 1 and 5 stars and plots a bar chart of the data when no more\n",
    "# users would like to answer. Use the following text as an example of what to ask:\n",
    "# >>> What would you rate this movie (1-5)? 4\n",
    "# >>> Is there another user that would like to review (y/n)? y\n",
    "# >>> What would you rate this movie (1-5)? 5\n",
    "# >>> Is there another user that would like to review (y/n)? n\n",
    "# *** bar plot renders with two categories and two ratings ***\n",
    "from IPython.display import clear_output\n",
    "\n",
    "def createGraph(data, movie):\n",
    "    \n",
    "    categories = [k for k in data.keys()]\n",
    "    ratings_per_category = [v for v in data.values()]\n",
    "    \n",
    "    plt.bar(categories, ratings_per_category)\n",
    "\n",
    "    plt.title(\"{}\".format(movie.title()), fontsize=24)\n",
    "    plt.xlabel(\"Rating\", fontsize=16)\n",
    "    plt.ylabel(\"# of People\", fontsize=16)\n",
    "    plt.xticks(fontname=\"Fantasy\")\n",
    "    plt.yticks(fontname=\"Fantasy\")\n",
    "\n",
    "    plt.show()\n",
    "\n",
    "def main():\n",
    "   \n",
    "    data = {}\n",
    "    \n",
    "    movie = input(\"Which movie would you like to rate?\")\n",
    "    \n",
    "    while(input(\"Is there another user that would like to review (y/n)\") == 'y'):\n",
    "        try:\n",
    "            ans = int(input(\"What would you rate this movie (1-5)?\"))\n",
    "            \n",
    "            if(ans in data):\n",
    "                data[ans]+=1\n",
    "            else:\n",
    "                data[ans] = 1\n",
    "        except:\n",
    "            clear_output()\n",
    "            print(\"Something went wrong, please try again later.\")\n",
    "    \n",
    "    createGraph(data, movie)\n",
    "main()"
   ]
  },
  {
   "cell_type": "markdown",
   "id": "3c2ee180",
   "metadata": {},
   "source": [
    "Web Scraping"
   ]
  },
  {
   "cell_type": "code",
   "execution_count": 3,
   "id": "0d5326d9",
   "metadata": {},
   "outputs": [
    {
     "name": "stdout",
     "output_type": "stream",
     "text": [
      "<Response [200]>\n",
      "<!DOCTYPE HTML PUBLIC \"-//W3C//DTD HTML 3.2 Final//EN\">\n",
      "<html>\n",
      " <head>\n",
      "  <title>\n",
      "   Essay on Love by Arthur Lee Jacobson\n",
      "  </title>\n",
      "  <meta content=\"Trees,gardening, wild and domestic plant life are the specialty of author Arthur Lee Jacobson.\" name=\"description\"/>\n",
      "  <meta content=\"trees, gardening, wild plants, domestic plants, gardening author, gardening books, Arthur Lee Jacobson, A L J, A L Jacobson, Arthur Jacobson, arthur lee, plants, flowers, seattle, washington\" name=\"keywords\"/>\n",
      "  <meta content=\"document\" name=\"resource-type\"/>\n",
      "  <meta content=\"BBEdit 4.5\" name=\"generator\"/>\n",
      "  <meta content=\"all\" name=\"robots\"/>\n",
      "  <meta content=\"Gardening\" name=\"classification\"/>\n",
      "  <meta content=\"global\" name=\"distribution\"/>\n",
      "  <meta content=\"general\" name=\"rating\"/>\n",
      "  <meta content=\"2001 Arthur Lee Jacobson\" name=\"copyright\"/>\n",
      "  <meta content=\"eriktyme@eriktyme.com\" name=\"author\"/>\n",
      "  <meta content=\"en-us\" name=\"language\"/>\n",
      " </head>\n",
      " <body alink=\"#33CC33\" background=\"images/background1a.jpg\" bgcolor=\"#FFFFCC\" link=\"#0000FF\" text=\"#000000\" vlink=\"#FF00FF\">\n",
      "  <!-- -- #include virtual=\"/includes/header.html\" -- -->\n",
      "  <br/>\n",
      "  <center>\n",
      "   <table border=\"0\" cellpadding=\"1\" cellspacing=\"2\">\n",
      "    <tr>\n",
      "     <td align=\"center\" valign=\"top\" width=\"480\">\n",
      "      <table border=\"0\" cellpadding=\"1\" cellspacing=\"2\">\n",
      "       <tr>\n",
      "        <td align=\"center\" valign=\"top\" width=\"480\">\n",
      "         <font size=\"5\">\n",
      "          <b>\n",
      "           Love\n",
      "          </b>\n",
      "         </font>\n",
      "        </td>\n",
      "       </tr>\n",
      "       <tr>\n",
      "        <td align=\"left\" valign=\"top\" width=\"480\">\n",
      "         <font size=\"3\">\n",
      "          <b>\n",
      "           Of the fourteen essays I'm writing, only this one treats an emotion. That love is the most important emotion is the deduction. I think other emotions may be as important, but are not so powerfully moving or interesting to most of us. Love is exciting. There is no need to justify choosing to write about it. Are not most songs love songs? Are not most novels stories featuring love?\n",
      "          </b>\n",
      "         </font>\n",
      "        </td>\n",
      "       </tr>\n",
      "       <tr>\n",
      "        <td align=\"left\" valign=\"top\" width=\"480\">\n",
      "         <font size=\"3\">\n",
      "          <b>\n",
      "           Love in its broad sense is the feeling of strong attraction, and often attachment and protection. It is felt towards other people, towards pets, towards inanimate objects, towards abstractions such as patriotism, religious matters, hobbies, and I suppose nearly everything. It is multifaceted, and includes ordinary self-love, chivalrous love, carnal or sexual love, friendly love, family love. It is an emotion that is closely related to certain others, such as hope. At its simplest level it is what we strongly like.\n",
      "          </b>\n",
      "         </font>\n",
      "        </td>\n",
      "       </tr>\n",
      "       <tr>\n",
      "        <td align=\"left\" valign=\"top\" width=\"480\">\n",
      "         <font size=\"3\">\n",
      "          <b>\n",
      "           I have a hunch that love, like the rose, owes much of its appeal to our mainstream Western culture -- and that in some other societies it is by no means such a big deal. Somehow, especially in recent centuries, the notion of romantic love has become elevated far more than it used to be. Why this has happened is for social historians to explain; I don't know. I will merely say that if one reads the ancient Greeks and Romans, then it is obvious that today love is relatively more significant in our culture. A plethora of differences exist between us and people 2,000 years ago. That doesn't invalidate my observation that we moderns rate love more importantly now than our ancestors used to.\n",
      "          </b>\n",
      "         </font>\n",
      "        </td>\n",
      "       </tr>\n",
      "       <tr>\n",
      "        <td align=\"left\" valign=\"top\" width=\"480\">\n",
      "         <font size=\"3\">\n",
      "          <b>\n",
      "           It is presumed that sexual attraction, being instinctive, is comparatively constant over the centuries and across cultures. But let's be clear: sexual attraction is only one manifestation of love. One can be sexually aroused and still feel no love, just as a couple can be married and possess no mutual sexual appetite or love. Some people find they can fulfill sexual needs one way, and they love something else, such as a hobby or their work.\n",
      "          </b>\n",
      "         </font>\n",
      "        </td>\n",
      "       </tr>\n",
      "       <tr>\n",
      "        <td align=\"left\" valign=\"top\" width=\"480\">\n",
      "         <font size=\"3\">\n",
      "          <b>\n",
      "           When sexual desire, or go ahead and call it sexual need, is very strong, it certainly gets called love. To be precise it may be best termed carnal love. Similarly, a glutton loves food, and an addict perversely loves whatever drug or activity he's hooked on. Sexual love, then, is not necessarily anything more than an equivalent of an animal being in heat. On the other hand, if two people share a wholehearted, broad-based love for each other, then their sexual relations may be more an expression of their affection than of their instinctive drive.\n",
      "          </b>\n",
      "         </font>\n",
      "        </td>\n",
      "       </tr>\n",
      "       <tr>\n",
      "        <td align=\"left\" valign=\"top\" width=\"480\">\n",
      "         <font size=\"3\">\n",
      "          <b>\n",
      "           Yes, love and sex are too much confused. It is frightful how many beastly rapes and molestations take place, which are sexual but devoid of love completely. Love can be found thriving far from sex, as in a mother's love for her child, or a religious order's mystical love of doing glory to God, or of the knight's chivalrous love towards his country and rulers. The soldier's courage to defend his family is a kind of love in action. The artist who starves in an attic, living a celibate existence to produce masterpieces, is illuminated by love. Childhood friends who go through life together know love, though not sex, as regards each other. Have I made my point obvious?\n",
      "          </b>\n",
      "         </font>\n",
      "        </td>\n",
      "       </tr>\n",
      "       <tr>\n",
      "        <td align=\"left\" valign=\"top\" width=\"480\">\n",
      "         <font size=\"3\">\n",
      "          <b>\n",
      "           It is, I'm sure. But I'm on a roll and don't want to stop yet. Love's antithesis is hate. Hate is often associated with harm or destruction, even death. But again, it is not\n",
      "           <i>\n",
      "            equal\n",
      "           </i>\n",
      "           to those. It is strongly held negative emotions, even as love is strongly held positive ones.\n",
      "          </b>\n",
      "          <br/>\n",
      "          <br/>\n",
      "         </font>\n",
      "        </td>\n",
      "       </tr>\n",
      "       <tr>\n",
      "        <td align=\"left\" valign=\"top\" width=\"480\">\n",
      "         <font size=\"3\">\n",
      "          <b>\n",
      "           The golden rule, \"Love thy neighbor as thyself,\" or \"do unto others as you would have them do unto you,\" helps us see that if we want people to enjoy peaceful, content existence, we must work together cooperatively, and not let our passions, of either love or hate, get us out of line.\n",
      "          </b>\n",
      "         </font>\n",
      "        </td>\n",
      "       </tr>\n",
      "       <tr>\n",
      "        <td align=\"left\" valign=\"top\" width=\"480\">\n",
      "         <font size=\"3\">\n",
      "          <b>\n",
      "           One thing I'm sure of, is the world would be a better place if all of us individuals had someone or something we loved. I feel sorry for people who are neutral about this, indifferent regarding that, and don't know what really turns them on. I almost wish there was a law against having no love in one's life. Well, that kind of thinking is too extreme. Is it possible, without love, to be healthy in a mental sense? To be balanced? Can an individual's self-esteem be proper without love? It is certainly possible for a person to be\n",
      "           <i>\n",
      "            temporarily\n",
      "           </i>\n",
      "           devoid of love. For example, pick up a random individual, transport him across the planet, and set him into a strange culture, where he knows no one, he knows not a word of the language. He will be in shock, and will love no one, and probably his only love then would be of longing for his familiar life. Temporarily, his shock, his sadness, and his bewilderment will be more powerful feelings than any love he feels.\n",
      "          </b>\n",
      "         </font>\n",
      "        </td>\n",
      "       </tr>\n",
      "       <tr>\n",
      "        <td align=\"left\" valign=\"top\" width=\"480\">\n",
      "         <font size=\"3\">\n",
      "          <b>\n",
      "           Since love can be felt in so many different ways, it is a good thing our culture allows people freedom to choose. All the more wondrous that some of us seem to love nothing! What explains this? Are children who were in dysfunctional, abusive situations forced to retreat as it were into a shell, to be calloused against freely opening themselves to the flow of their emotions? Are certain people born with chemical imbalances in their brains which make it impossible for them to feel love? Are some people so prone to liking numerous things that they tend to not strongly like (\n",
      "           <i>\n",
      "            i.e.,\n",
      "           </i>\n",
      "           love) any one thing in particular?\n",
      "          </b>\n",
      "         </font>\n",
      "        </td>\n",
      "       </tr>\n",
      "       <tr>\n",
      "        <td align=\"left\" valign=\"top\" width=\"480\">\n",
      "         <font size=\"3\">\n",
      "          <b>\n",
      "           To love is to express oneself. Usually one's love is obviously manifested. It may be that even as some of us are generally shy and inhibited, some of us are poorer at loving. Doubtless there are complex, peculiar combinations of factors operating in every individual case. And most of our general rules or commonplace assumptions are based on behavior prevalent in our\n",
      "           <i>\n",
      "            culture.\n",
      "           </i>\n",
      "          </b>\n",
      "         </font>\n",
      "        </td>\n",
      "       </tr>\n",
      "       <tr>\n",
      "        <td align=\"left\" valign=\"top\" width=\"480\">\n",
      "         <font size=\"3\">\n",
      "          <b>\n",
      "           The chief motivating factor in many of our lives is love. People go to extraordinary lengths and costs to find love, or to give it, to keep it, to hope for it. In some cultures, such as primitive stone-age ones, I'm sure that basic food gathering and survival work is more dominating than any interpretation of love other than love of continuing to\n",
      "           <i>\n",
      "            live.\n",
      "           </i>\n",
      "          </b>\n",
      "         </font>\n",
      "        </td>\n",
      "       </tr>\n",
      "       <tr>\n",
      "        <td align=\"left\" valign=\"top\" width=\"480\">\n",
      "         <font size=\"3\">\n",
      "          <b>\n",
      "           In my life, I prefer to give my time to being with people I love, rather than being paid to spend time working for people whom I don't love. Similarly, I would rather remain single and wait until I can marry a woman with whom I can share profound love, than cohabit with a woman about who I am indifferent. It is often said \"what really counts is that a person does what he or she loves.\" Yet how many of us\n",
      "           <i>\n",
      "            really\n",
      "           </i>\n",
      "           do? How many of us\n",
      "           <i>\n",
      "            would\n",
      "           </i>\n",
      "           keep doing our jobs if we didn't need the money? Few of us. Even if I was suddenly rich financially, I'd still do most of what I do now; I'd not fundamentally change.\n",
      "          </b>\n",
      "         </font>\n",
      "        </td>\n",
      "       </tr>\n",
      "       <tr>\n",
      "        <td align=\"left\" valign=\"top\" width=\"480\">\n",
      "         <font size=\"3\">\n",
      "          <b>\n",
      "           No, money won't alter me much. Love may. If I decide to marry a woman, and she is eager also, I would stop merely doing whatever I please, and start giving my attention equally to pleasing her. Ideally we'd work very well together. But times would occur when we'd disagree, so I'd yield whenever I possibly could, out of my love and respect, and concern for our marriage.\n",
      "          </b>\n",
      "         </font>\n",
      "        </td>\n",
      "       </tr>\n",
      "       <tr>\n",
      "        <td align=\"left\" valign=\"top\" width=\"480\">\n",
      "         <font size=\"3\">\n",
      "          <b>\n",
      "           The love that motivates people to give freely their very lives is greatly inspiring. If martyrs didn't have love propelling them, then they at any rate had\n",
      "           <i>\n",
      "            strong\n",
      "           </i>\n",
      "           emotions. Sometimes I dream about hypothetical situations that test my love. For example, if the woman I think the very world of, asked me to give up my Seattle existence, to live with her 1,000 miles away -- would I do it? Maybe. If I figured there was good odds of living happily ever after, I might. But such questions are answered not just by deliberation, they're affected by emotion. Love can blind us to logic, reason and common sense. I love so many things about my life in Seattle, and there are so many eligible women here  -- that the chance of me heading out of town, loveblind, is remote. But that I\n",
      "           <i>\n",
      "            think\n",
      "           </i>\n",
      "           about such things, shows I am moved mightily by love.\n",
      "          </b>\n",
      "         </font>\n",
      "        </td>\n",
      "       </tr>\n",
      "       <tr>\n",
      "        <td align=\"left\" valign=\"top\" width=\"480\">\n",
      "         <font size=\"3\">\n",
      "          <b>\n",
      "           I am so glad to love my work, to love my family and friends, to love my city, and to love nature. Yes, I want to also love a woman who loves me. That will come. So far it has alway been one-way rather than mutual. I'm particular, patient, and confident. It's sort of a \"patting oneself on the back\" to say it, but I wish more people would show restraint about forming intimate relationships of the sort that are called marriages. Too many young folks hurry into such arrangements, and all too soon failure comes about. People think it's easier than it really is. Loving is often easy, but the long-term nurturing and sustaining of the love is work. I develop this theme more in my essay FAMILY.\n",
      "          </b>\n",
      "         </font>\n",
      "        </td>\n",
      "       </tr>\n",
      "       <tr>\n",
      "       </tr>\n",
      "      </table>\n",
      "     </td>\n",
      "     <td align=\"center\" valign=\"top\" width=\"125\">\n",
      "      <br/>\n",
      "      <br/>\n",
      "      <br/>\n",
      "      <!-- -- #include virtual=\"/includes/panel1.html\" -- -->\n",
      "     </td>\n",
      "    </tr>\n",
      "   </table>\n",
      "  </center>\n",
      "  <!-- -- #include virtual=\"/includes/footer.html\" -- -->\n",
      " </body>\n",
      "</html>\n",
      "\n"
     ]
    }
   ],
   "source": [
    "#importing beautiful soup and requests library\n",
    "\n",
    "from bs4 import BeautifulSoup\n",
    "import requests\n",
    "\n",
    "#performing a request and outputting the status\n",
    "\n",
    "page = requests.get(\"http://www.arthurleej.com/e-love.html\")\n",
    "print(page)\n",
    "\n",
    "#content of the request\n",
    "#print(page.content)\n",
    "\n",
    "#Parsing the response with beautiful soup\n",
    "\n",
    "soup = BeautifulSoup(page.content, \"html.parser\")\n",
    "print(soup.prettify())"
   ]
  },
  {
   "cell_type": "code",
   "execution_count": 4,
   "id": "abc73ce0",
   "metadata": {},
   "outputs": [
    {
     "name": "stdout",
     "output_type": "stream",
     "text": [
      "<b>Love</b>\n",
      "Love\n"
     ]
    }
   ],
   "source": [
    "#scraping Data\n",
    "\n",
    "# using the find method to scrape the text within the first bold tag\n",
    "\n",
    "title = soup.find(\"b\")\n",
    "print(title)\n",
    "print(title.get_text())"
   ]
  },
  {
   "cell_type": "code",
   "execution_count": 12,
   "id": "789ebaa4",
   "metadata": {},
   "outputs": [
    {
     "ename": "IndentationError",
     "evalue": "expected an indented block (3919382124.py, line 5)",
     "output_type": "error",
     "traceback": [
      "\u001b[0;36m  File \u001b[0;32m\"/var/folders/1v/wx6x1txd7l3c9b7xf79449hm0000gn/T/ipykernel_48297/3919382124.py\"\u001b[0;36m, line \u001b[0;32m5\u001b[0m\n\u001b[0;31m    #print(text.get_text())\u001b[0m\n\u001b[0m                           ^\u001b[0m\n\u001b[0;31mIndentationError\u001b[0m\u001b[0;31m:\u001b[0m expected an indented block\n"
     ]
    }
   ],
   "source": [
    "# get all text within the bold element tag then output each\n",
    "poem_text = soup.find_all(\"b\")\n",
    "\n",
    "for text in poem_text:\n",
    "    print(text.get_text())"
   ]
  },
  {
   "cell_type": "code",
   "execution_count": 13,
   "id": "b88f21ba",
   "metadata": {},
   "outputs": [
    {
     "name": "stdout",
     "output_type": "stream",
     "text": [
      "<span class=\"p-nickname vcard-username d-block\" itemprop=\"additionalName\">\n",
      "          agarwalkirti27\n",
      "\n",
      "        </span>\n",
      "\n",
      "          agarwalkirti27\n",
      "\n",
      "        \n"
     ]
    }
   ],
   "source": [
    "# finding an element by specific attribute key-values\n",
    "page = requests.get(\"https://github.com/agarwalkirti27\")\n",
    "soup = BeautifulSoup(page.content, \"html.parser\")\n",
    "username = soup.find( \"span\", attrs={ \"class\" : \"vcard-username\" }) # find first span with this class\n",
    "print(username) # will show that element has class of vcard-username among others\n",
    "print( username.get_text( ) )"
   ]
  },
  {
   "cell_type": "code",
   "execution_count": 16,
   "id": "054dab5c",
   "metadata": {},
   "outputs": [
    {
     "name": "stdout",
     "output_type": "stream",
     "text": [
      "<list_iterator object at 0x7f8ae8051df0>\n",
      "<class 'bs4.element.Doctype'>\n",
      "<class 'bs4.element.NavigableString'>\n",
      "<class 'bs4.element.Tag'>\n",
      "<class 'bs4.element.NavigableString'>\n"
     ]
    }
   ],
   "source": [
    "#DOM \n",
    "# traversing through the DOM using Beautiful Soup – using the children attribute\n",
    "page = requests.get(\"http://www.arthurleej.com/e-love.html\")\n",
    "soup = BeautifulSoup(page.content, \"html.parser\")\n",
    "print(soup.children)\n",
    "\n",
    "# understanding the children within the soup object\n",
    "for child in list( soup.children ):\n",
    "    print( type( child ) )"
   ]
  },
  {
   "cell_type": "code",
   "execution_count": 19,
   "id": "1b762824",
   "metadata": {},
   "outputs": [
    {
     "name": "stdout",
     "output_type": "stream",
     "text": [
      "\n",
      "\n",
      " Start of new section\n",
      " \n",
      "\n",
      "\n",
      " Start of new section\n",
      "<head> <title>Essay on Love by Arthur Lee Jacobson</title> <meta content=\"Trees,gardening, wild and domestic plant life are the specialty of author Arthur Lee Jacobson.\" name=\"description\"/> <meta content=\"trees, gardening, wild plants, domestic plants, gardening author, gardening books, Arthur Lee Jacobson, A L J, A L Jacobson, Arthur Jacobson, arthur lee, plants, flowers, seattle, washington\" name=\"keywords\"/> <meta content=\"document\" name=\"resource-type\"/> <meta content=\"BBEdit 4.5\" name=\"generator\"/> <meta content=\"all\" name=\"robots\"/> <meta content=\"Gardening\" name=\"classification\"/> <meta content=\"global\" name=\"distribution\"/> <meta content=\"general\" name=\"rating\"/> <meta content=\"2001 Arthur Lee Jacobson\" name=\"copyright\"/> <meta content=\"eriktyme@eriktyme.com\" name=\"author\"/> <meta content=\"en-us\" name=\"language\"/> </head>\n",
      "\n",
      "\n",
      " Start of new section\n",
      " \n",
      "\n",
      "\n",
      " Start of new section\n",
      "<body alink=\"#33CC33\" background=\"images/background1a.jpg\" bgcolor=\"#FFFFCC\" link=\"#0000FF\" text=\"#000000\" vlink=\"#FF00FF\"> <!-- -- #include virtual=\"/includes/header.html\" -- --> <br/><center><table border=\"0\" cellpadding=\"1\" cellspacing=\"2\"> <tr> <td align=\"center\" valign=\"top\" width=\"480\"> <table border=\"0\" cellpadding=\"1\" cellspacing=\"2\"> <tr> <td align=\"center\" valign=\"top\" width=\"480\"><font size=\"5\"><b>Love</b></font></td> </tr> <tr> <td align=\"left\" valign=\"top\" width=\"480\"><font size=\"3\"><b>    Of the fourteen essays I'm writing, only this one treats an emotion. That love is the most important emotion is the deduction. I think other emotions may be as important, but are not so powerfully moving or interesting to most of us. Love is exciting. There is no need to justify choosing to write about it. Are not most songs love songs? Are not most novels stories featuring love?</b></font></td> </tr> <tr> <td align=\"left\" valign=\"top\" width=\"480\"><font size=\"3\"><b>    Love in its broad sense is the feeling of strong attraction, and often attachment and protection. It is felt towards other people, towards pets, towards inanimate objects, towards abstractions such as patriotism, religious matters, hobbies, and I suppose nearly everything. It is multifaceted, and includes ordinary self-love, chivalrous love, carnal or sexual love, friendly love, family love. It is an emotion that is closely related to certain others, such as hope. At its simplest level it is what we strongly like.</b></font></td> </tr> <tr> <td align=\"left\" valign=\"top\" width=\"480\"><font size=\"3\"><b>    I have a hunch that love, like the rose, owes much of its appeal to our mainstream Western culture -- and that in some other societies it is by no means such a big deal. Somehow, especially in recent centuries, the notion of romantic love has become elevated far more than it used to be. Why this has happened is for social historians to explain; I don't know. I will merely say that if one reads the ancient Greeks and Romans, then it is obvious that today love is relatively more significant in our culture. A plethora of differences exist between us and people 2,000 years ago. That doesn't invalidate my observation that we moderns rate love more importantly now than our ancestors used to.</b></font></td> </tr> <tr> <td align=\"left\" valign=\"top\" width=\"480\"><font size=\"3\"><b>    It is presumed that sexual attraction, being instinctive, is comparatively constant over the centuries and across cultures. But let's be clear: sexual attraction is only one manifestation of love. One can be sexually aroused and still feel no love, just as a couple can be married and possess no mutual sexual appetite or love. Some people find they can fulfill sexual needs one way, and they love something else, such as a hobby or their work.</b></font></td> </tr> <tr> <td align=\"left\" valign=\"top\" width=\"480\"><font size=\"3\"><b>    When sexual desire, or go ahead and call it sexual need, is very strong, it certainly gets called love. To be precise it may be best termed carnal love. Similarly, a glutton loves food, and an addict perversely loves whatever drug or activity he's hooked on. Sexual love, then, is not necessarily anything more than an equivalent of an animal being in heat. On the other hand, if two people share a wholehearted, broad-based love for each other, then their sexual relations may be more an expression of their affection than of their instinctive drive.</b></font></td> </tr> <tr> <td align=\"left\" valign=\"top\" width=\"480\"><font size=\"3\"><b>    Yes, love and sex are too much confused. It is frightful how many beastly rapes and molestations take place, which are sexual but devoid of love completely. Love can be found thriving far from sex, as in a mother's love for her child, or a religious order's mystical love of doing glory to God, or of the knight's chivalrous love towards his country and rulers. The soldier's courage to defend his family is a kind of love in action. The artist who starves in an attic, living a celibate existence to produce masterpieces, is illuminated by love. Childhood friends who go through life together know love, though not sex, as regards each other. Have I made my point obvious?</b></font></td> </tr> <tr> <td align=\"left\" valign=\"top\" width=\"480\"><font size=\"3\"><b>    It is, I'm sure. But I'm on a roll and don't want to stop yet. Love's antithesis is hate. Hate is often associated with harm or destruction, even death. But again, it is not <i>equal</i> to those. It is strongly held negative emotions, even as love is strongly held positive ones.</b><br/><br/></font></td> </tr> <tr> <td align=\"left\" valign=\"top\" width=\"480\"><font size=\"3\"><b>    The golden rule, \"Love thy neighbor as thyself,\" or \"do unto others as you would have them do unto you,\" helps us see that if we want people to enjoy peaceful, content existence, we must work together cooperatively, and not let our passions, of either love or hate, get us out of line.</b></font></td> </tr> <tr> <td align=\"left\" valign=\"top\" width=\"480\"><font size=\"3\"><b>    One thing I'm sure of, is the world would be a better place if all of us individuals had someone or something we loved. I feel sorry for people who are neutral about this, indifferent regarding that, and don't know what really turns them on. I almost wish there was a law against having no love in one's life. Well, that kind of thinking is too extreme. Is it possible, without love, to be healthy in a mental sense? To be balanced? Can an individual's self-esteem be proper without love? It is certainly possible for a person to be <i>temporarily</i> devoid of love. For example, pick up a random individual, transport him across the planet, and set him into a strange culture, where he knows no one, he knows not a word of the language. He will be in shock, and will love no one, and probably his only love then would be of longing for his familiar life. Temporarily, his shock, his sadness, and his bewilderment will be more powerful feelings than any love he feels.</b></font></td> </tr> <tr> <td align=\"left\" valign=\"top\" width=\"480\"><font size=\"3\"><b>    Since love can be felt in so many different ways, it is a good thing our culture allows people freedom to choose. All the more wondrous that some of us seem to love nothing! What explains this? Are children who were in dysfunctional, abusive situations forced to retreat as it were into a shell, to be calloused against freely opening themselves to the flow of their emotions? Are certain people born with chemical imbalances in their brains which make it impossible for them to feel love? Are some people so prone to liking numerous things that they tend to not strongly like (<i>i.e.,</i> love) any one thing in particular?</b></font></td> </tr> <tr> <td align=\"left\" valign=\"top\" width=\"480\"><font size=\"3\"><b>    To love is to express oneself. Usually one's love is obviously manifested. It may be that even as some of us are generally shy and inhibited, some of us are poorer at loving. Doubtless there are complex, peculiar combinations of factors operating in every individual case. And most of our general rules or commonplace assumptions are based on behavior prevalent in our <i>culture.</i></b></font></td> </tr> <tr> <td align=\"left\" valign=\"top\" width=\"480\"><font size=\"3\"><b>    The chief motivating factor in many of our lives is love. People go to extraordinary lengths and costs to find love, or to give it, to keep it, to hope for it. In some cultures, such as primitive stone-age ones, I'm sure that basic food gathering and survival work is more dominating than any interpretation of love other than love of continuing to <i>live.</i></b></font></td> </tr> <tr> <td align=\"left\" valign=\"top\" width=\"480\"><font size=\"3\"><b>    In my life, I prefer to give my time to being with people I love, rather than being paid to spend time working for people whom I don't love. Similarly, I would rather remain single and wait until I can marry a woman with whom I can share profound love, than cohabit with a woman about who I am indifferent. It is often said \"what really counts is that a person does what he or she loves.\" Yet how many of us <i>really</i> do? How many of us <i>would</i> keep doing our jobs if we didn't need the money? Few of us. Even if I was suddenly rich financially, I'd still do most of what I do now; I'd not fundamentally change.</b></font></td> </tr> <tr> <td align=\"left\" valign=\"top\" width=\"480\"><font size=\"3\"><b>    No, money won't alter me much. Love may. If I decide to marry a woman, and she is eager also, I would stop merely doing whatever I please, and start giving my attention equally to pleasing her. Ideally we'd work very well together. But times would occur when we'd disagree, so I'd yield whenever I possibly could, out of my love and respect, and concern for our marriage.</b></font></td> </tr> <tr> <td align=\"left\" valign=\"top\" width=\"480\"><font size=\"3\"><b>    The love that motivates people to give freely their very lives is greatly inspiring. If martyrs didn't have love propelling them, then they at any rate had <i>strong</i> emotions. Sometimes I dream about hypothetical situations that test my love. For example, if the woman I think the very world of, asked me to give up my Seattle existence, to live with her 1,000 miles away -- would I do it? Maybe. If I figured there was good odds of living happily ever after, I might. But such questions are answered not just by deliberation, they're affected by emotion. Love can blind us to logic, reason and common sense. I love so many things about my life in Seattle, and there are so many eligible women here  -- that the chance of me heading out of town, loveblind, is remote. But that I <i>think</i> about such things, shows I am moved mightily by love.</b></font></td> </tr> <tr> <td align=\"left\" valign=\"top\" width=\"480\"><font size=\"3\"><b>    I am so glad to love my work, to love my family and friends, to love my city, and to love nature. Yes, I want to also love a woman who loves me. That will come. So far it has alway been one-way rather than mutual. I'm particular, patient, and confident. It's sort of a \"patting oneself on the back\" to say it, but I wish more people would show restraint about forming intimate relationships of the sort that are called marriages. Too many young folks hurry into such arrangements, and all too soon failure comes about. People think it's easier than it really is. Loving is often easy, but the long-term nurturing and sustaining of the love is work. I develop this theme more in my essay FAMILY.</b></font></td> </tr> <tr> </tr></table> </td> <td align=\"center\" valign=\"top\" width=\"125\"><br/><br/><br/><!-- -- #include virtual=\"/includes/panel1.html\" -- --> </td> </tr> </table></center> <!-- -- #include virtual=\"/includes/footer.html\" -- --> </body>\n",
      "\n",
      "\n",
      " Start of new section\n",
      " \n",
      "\n",
      "\n",
      " New Tag\n",
      " \n",
      "\n",
      "\n",
      " New Tag\n",
      "<title>Essay on Love by Arthur Lee Jacobson</title>\n",
      "\n",
      "\n",
      " New Tag\n",
      " \n",
      "\n",
      "\n",
      " New Tag\n",
      "<meta content=\"Trees,gardening, wild and domestic plant life are the specialty of author Arthur Lee Jacobson.\" name=\"description\"/>\n",
      "\n",
      "\n",
      " New Tag\n",
      " \n",
      "\n",
      "\n",
      " New Tag\n",
      "<meta content=\"trees, gardening, wild plants, domestic plants, gardening author, gardening books, Arthur Lee Jacobson, A L J, A L Jacobson, Arthur Jacobson, arthur lee, plants, flowers, seattle, washington\" name=\"keywords\"/>\n",
      "\n",
      "\n",
      " New Tag\n",
      " \n",
      "\n",
      "\n",
      " New Tag\n",
      "<meta content=\"document\" name=\"resource-type\"/>\n",
      "\n",
      "\n",
      " New Tag\n",
      " \n",
      "\n",
      "\n",
      " New Tag\n",
      "<meta content=\"BBEdit 4.5\" name=\"generator\"/>\n",
      "\n",
      "\n",
      " New Tag\n",
      " \n",
      "\n",
      "\n",
      " New Tag\n",
      "<meta content=\"all\" name=\"robots\"/>\n",
      "\n",
      "\n",
      " New Tag\n",
      " \n",
      "\n",
      "\n",
      " New Tag\n",
      "<meta content=\"Gardening\" name=\"classification\"/>\n",
      "\n",
      "\n",
      " New Tag\n",
      " \n",
      "\n",
      "\n",
      " New Tag\n",
      "<meta content=\"global\" name=\"distribution\"/>\n",
      "\n",
      "\n",
      " New Tag\n",
      " \n",
      "\n",
      "\n",
      " New Tag\n",
      "<meta content=\"general\" name=\"rating\"/>\n",
      "\n",
      "\n",
      " New Tag\n",
      " \n",
      "\n",
      "\n",
      " New Tag\n",
      "<meta content=\"2001 Arthur Lee Jacobson\" name=\"copyright\"/>\n",
      "\n",
      "\n",
      " New Tag\n",
      " \n",
      "\n",
      "\n",
      " New Tag\n",
      "<meta content=\"eriktyme@eriktyme.com\" name=\"author\"/>\n",
      "\n",
      "\n",
      " New Tag\n",
      " \n",
      "\n",
      "\n",
      " New Tag\n",
      "<meta content=\"en-us\" name=\"language\"/>\n",
      "\n",
      "\n",
      " New Tag\n",
      " \n"
     ]
    }
   ],
   "source": [
    "# accessing the .Tag object which holds the html – trying to access them title tag\n",
    "html = list( soup.children )[2]\n",
    "for section in html:\n",
    "    print(\"\\n\\n Start of new section\")\n",
    "    print(section)\n",
    "    \n",
    "    \n",
    "    \n",
    "# accessing the head element using the children attribute\n",
    "head = list( html.children )[1]\n",
    "for item in head:\n",
    "    print(\"\\n\\n New Tag\")\n",
    "    print(item)\n",
    "    "
   ]
  },
  {
   "cell_type": "code",
   "execution_count": 20,
   "id": "c739343c",
   "metadata": {},
   "outputs": [
    {
     "name": "stdout",
     "output_type": "stream",
     "text": [
      "Essay on Love by Arthur Lee Jacobson\n",
      "<class 'bs4.element.NavigableString'>\n",
      "Essay on Love by Arthur Lee Jacobson\n"
     ]
    }
   ],
   "source": [
    "# scraping the title text\n",
    "title = list( head )[1]\n",
    "print(title.string) # .string is used to extract text as well\n",
    "print( type(title.string) ) # results in NavigableString\n",
    "print( title.get_text( ) )"
   ]
  },
  {
   "cell_type": "markdown",
   "id": "c82b873c",
   "metadata": {},
   "source": [
    "THURSDAY EXERCISE"
   ]
  },
  {
   "cell_type": "code",
   "execution_count": 35,
   "id": "066f9652",
   "metadata": {},
   "outputs": [
    {
     "name": "stdout",
     "output_type": "stream",
     "text": [
      "634\n"
     ]
    }
   ],
   "source": [
    "# Word Count: Write a program that counts how many words are in the following\n",
    "# link: www.york.ac.uk/teaching/cws/wws/webpage1.html. Use the\n",
    "# requests module and Beautiful Soup library to extract all text.\n",
    "\n",
    "from bs4 import BeautifulSoup\n",
    "import requests\n",
    "from bs4.element import Comment\n",
    "\n",
    "page = requests.get('https://www.york.ac.uk/teaching/cws/wws/webpage1.html')\n",
    "\n",
    "soup = BeautifulSoup(page.content, 'html.parser')\n",
    "\n",
    "texts = soup.findAll(text=True)\n",
    "\n",
    "count = 0\n",
    "\n",
    "for text in texts:\n",
    "    words = text.replace('\\n', '').replace('\\t', '').split(' ')\n",
    "            \n",
    "    for word in words:\n",
    "        if word not in ['', '.', '-']:\n",
    "            count += 1\n",
    "            \n",
    "print(count)\n"
   ]
  },
  {
   "cell_type": "code",
   "execution_count": 37,
   "id": "ea0fcaf7",
   "metadata": {},
   "outputs": [
    {
     "name": "stdout",
     "output_type": "stream",
     "text": [
      "Estadio Azteca\n",
      "\n",
      "Tom Benson Hall of Fame Stadium\n",
      "\n",
      "Wembley Stadium\n",
      "\n",
      "Tottenham Hotspur Stadium\n",
      "\n",
      "4\n"
     ]
    }
   ],
   "source": [
    "# Question #2: Using the following link, extract every stadium name out of\n",
    "# the table: https://en.wikipedia.org/wiki/List_of_current_\n",
    "# National_Football_League_stadiums. There should be 32 total names.\n",
    "\n",
    "from bs4 import BeautifulSoup\n",
    "import requests\n",
    "from bs4.element import Comment\n",
    "\n",
    "stadium_wiki_page = requests.get('https://en.wikipedia.org/wiki/List_of_current_National_Football_League_stadiums')\n",
    "\n",
    "soup = BeautifulSoup(stadium_wiki_page.content, 'html.parser')\n",
    "\n",
    "nfl_stadiums_table = soup.findAll('table')[1]\n",
    "tbody = list(nfl_stadiums_table.children)[1]\n",
    "\n",
    "stadiums = [] \n",
    "\n",
    "for i in range(1, len(list(tbody.children))):\n",
    "    row = list(tbody.children)[i]\n",
    "    \n",
    "    th = row.find('th')\n",
    "    \n",
    "    try:\n",
    "        stadium_name = th.get_text()\n",
    "        stadiums.append(stadium_name)\n",
    "    except:\n",
    "        pass\n",
    "    \n",
    "for stadium in stadiums:\n",
    "    print(stadium)\n",
    "    \n",
    "print(len(stadiums))  # should be 31, two teams share a field\n",
    "    "
   ]
  },
  {
   "cell_type": "markdown",
   "id": "0a976825",
   "metadata": {},
   "source": [
    "Friday Project : Website Analysis"
   ]
  },
  {
   "cell_type": "code",
   "execution_count": null,
   "id": "ddeabf8e",
   "metadata": {},
   "outputs": [
    {
     "name": "stdout",
     "output_type": "stream",
     "text": [
      "Enter a website to analyze: https://www.microsoft.com/en-in\n",
      "The top word is: Microsoft\n"
     ]
    },
    {
     "data": {
      "image/png": "[encoded data removed]",
      "text/plain": [
       "<Figure size 1440x720 with 1 Axes>"
      ]
     },
     "metadata": {
      "needs_background": "light"
     },
     "output_type": "display_data"
    }
   ],
   "source": [
    "# import all necessary libraries\n",
    "import requests\n",
    "import matplotlib.pyplot as plt\n",
    "from bs4 import BeautifulSoup\n",
    "from bs4.element import Comment\n",
    "from IPython.display import clear_output\n",
    "\n",
    "# graph results of top 7 words\n",
    "def displayResults(words, site):\n",
    "    count = [item[1] for item in words][::-1]     # reverses order\n",
    "    word = [item[0] for item in words][::-1]      # reverses order\n",
    "    \n",
    "    plt.figure(figsize=(20, 10))   # define how large the figure appears\n",
    "\n",
    "    plt.bar(word, count)\n",
    "\n",
    "    plt.title(\"Analyzing Top Words from: {}...\".format(site[:50]), fontname=\"Sans Serif\", fontsize=24)\n",
    "    plt.xlabel(\"Words\", fontsize=24)\n",
    "    plt.ylabel(\"# of Appearances\", fontsize=24)\n",
    "    plt.xticks(fontname=\"Sans Serif\", fontsize=20)\n",
    "    plt.yticks(fontname=\"Sans Serif\", fontsize=20)\n",
    "\n",
    "    plt.savefig('microsoft.png')\n",
    "    plt.show()\n",
    "\n",
    "# request site and return top 7 most used words\n",
    "def scrape(site):\n",
    "    page = requests.get(site)\n",
    "    soup = BeautifulSoup(page.content, \"html.parser\")\n",
    "    text = soup.find_all(text=True)\n",
    "    visible_text = filter(filterTags, text)\n",
    "    \n",
    "    word_count = {}\n",
    "\n",
    "    for text in visible_text:\n",
    "        words = text.replace('\\n', '').replace('\\t', '').split(' ')   # replace all hidden chars\n",
    "\n",
    "        words = list(filter(filterWaste, words))\n",
    "        \n",
    "        for word in words:\n",
    "            if word != '':\n",
    "                if word in word_count:\n",
    "                    word_count[word] += 1\n",
    "                else:\n",
    "                    word_count[word] = 1\n",
    "                     \n",
    "    word_count = sorted(word_count.items(), key=lambda kv: kv[1], reverse=True)        \n",
    "    \n",
    "    return word_count[:7]\n",
    "\n",
    "# filter out all elements that do not contain text that appears on site\n",
    "def filterTags(element):\n",
    "    if element.parent.name in [ \"style\", \"script\", \"head\", \"title\",\"meta\", \"[document]\" ]:\n",
    "        return False\n",
    "    if isinstance(element, Comment):\n",
    "        return False\n",
    "    return True\n",
    "    \n",
    "# filter article words and hidden characters\n",
    "def filterWaste(word):\n",
    "    bad_words = ('the', 'a', 'in', 'of', 'to', 'you', '\\xa0', 'and', 'at', 'on', 'for', 'from', 'is', 'that', 'are', 'be', '-', 'as', '&', 'they', 'with',\n",
    "                 'how', 'was', 'her', 'him', 'i', 'has', '|', 'his')\n",
    "    \n",
    "    if word.lower() in bad_words:\n",
    "        return False\n",
    "    else:\n",
    "        return True\n",
    "    \n",
    "while input(\"Would you like to scrape a website (y/n)? \") == \"y\":\n",
    "    try:\n",
    "        clear_output()\n",
    "        site = input(\"Enter a website to analyze: \")\n",
    "        top_words = scrape(site)\n",
    "        \n",
    "        top_word = top_words[0]   # tuple of (word, count)\n",
    "        \n",
    "        print(\"The top word is: {}\".format(top_word[0]))\n",
    "        \n",
    "        displayResults(top_words, site)\n",
    "    except:\n",
    "        print(\"Something went wrong, please try again.\")\n",
    "print(\"Thanks for analyzing! Come back again!\")\n",
    "        \n"
   ]
  },
  {
   "cell_type": "markdown",
   "id": "341af885",
   "metadata": {},
   "source": [
    "Weekly Exercise"
   ]
  },
  {
   "cell_type": "code",
   "execution_count": 1,
   "id": "5d521582",
   "metadata": {},
   "outputs": [
    {
     "name": "stdout",
     "output_type": "stream",
     "text": [
      "Enter a website to analyze: https://www.amazon.in/\n",
      "\n",
      "This is a list of words currently being filtered:\n",
      "{'how', 'was', 'has', '\\xa0', 'in', 'a', 'and', 'for', 'with', '|', 'him', 'that', 'the', 'be', 'is', '-', 'her', 'to', 'i', 'as', 'of', 'at', 'on', 'they', '&', 'his', 'from', 'are', 'you'}\n",
      "\n",
      "Would you like to filter any others? no\n",
      "The top word is: Amazon\n"
     ]
    },
    {
     "data": {
      "image/png": "[encoded data removed]",
      "text/plain": [
       "<Figure size 1440x720 with 1 Axes>"
      ]
     },
     "metadata": {
      "needs_background": "light"
     },
     "output_type": "display_data"
    },
    {
     "name": "stdout",
     "output_type": "stream",
     "text": [
      "Would you like to scrape a website (y/n)? n\n",
      "Thanks for analyzing! Come back again!\n"
     ]
    }
   ],
   "source": [
    "#User input \n",
    "\n",
    "import requests\n",
    "import matplotlib.pyplot as plt\n",
    "from bs4 import BeautifulSoup\n",
    "from bs4.element import Comment\n",
    "from IPython.display import clear_output\n",
    "\n",
    "# graph results of top 7 words\n",
    "def displayResults(words, site):\n",
    "    count = [item[1] for item in words][::-1]     # reverses order\n",
    "    word = [item[0] for item in words][::-1]      # reverses order\n",
    "    \n",
    "    plt.figure(figsize=(20, 10))   # define how large the figure appears\n",
    "\n",
    "    plt.bar(word, count)\n",
    "\n",
    "    plt.title(\"Analyzing Top Words from: {}...\".format(site[:50]), fontname=\"Sans Serif\", fontsize=24)\n",
    "    plt.xlabel(\"Words\", fontsize=24)\n",
    "    plt.ylabel(\"# of Appearances\", fontsize=24)\n",
    "    plt.xticks(fontname=\"Sans Serif\", fontsize=20)\n",
    "    plt.yticks(fontname=\"Sans Serif\", fontsize=20)\n",
    "\n",
    "    plt.savefig('microsoft.png')\n",
    "    plt.show()    \n",
    "    \n",
    "# filter out all elements that do not contain text that appears on site\n",
    "def filterTags(element):\n",
    "    if element.parent.name in ['style', 'script', 'head', 'title', 'meta', '[document]']:\n",
    "        return False\n",
    "    \n",
    "    if isinstance(element, Comment):\n",
    "        return False\n",
    "    \n",
    "    return True\n",
    "\n",
    "# request site and top 7 most used words\n",
    "def scrape(site):    \n",
    "    page = requests.get(site)\n",
    "    \n",
    "    soup = BeautifulSoup(page.content, 'html.parser')\n",
    "    \n",
    "    text = soup.find_all(text=True)     # will get all text within the document\n",
    "    \n",
    "    visible_text = filter(filterTags, text)\n",
    "    \n",
    "    word_count = {}\n",
    "    \n",
    "    bad_words = set(['the', 'a', 'in', 'of', 'to', 'you', '\\xa0', 'and', 'at', 'on', 'for', 'from', 'is', 'that', 'are', 'be', '-', 'as', '&', 'they', 'with',\n",
    "                 'how', 'was', 'her', 'him', 'i', 'has', '|', 'his'])\n",
    "    \n",
    "    print('\\nThis is a list of words currently being filtered:')\n",
    "    print(bad_words)\n",
    "    \n",
    "    while input('\\nWould you like to filter any others? ').lower() != 'no':\n",
    "        print('\\nThis is a list of words currently being filtered:')\n",
    "        print(bad_words)\n",
    "        \n",
    "        word = input('What word would you like to filter? ')\n",
    "\n",
    "        bad_words.add(word)\n",
    "\n",
    "        clear_output()\n",
    "\n",
    "    for text in visible_text:\n",
    "        words = text.replace('\\n', '').replace('\\t', '').split(' ')   # replace all hidden chars\n",
    "    \n",
    "        words = list(filter(lambda word: True if word.lower() not in bad_words else False, words))\n",
    "        \n",
    "        for word in words:\n",
    "            if word != '':\n",
    "                if word in word_count:\n",
    "                    word_count[word] += 1\n",
    "                else:\n",
    "                    word_count[word] = 1\n",
    "                     \n",
    "    word_count = sorted(word_count.items(), key=lambda kv: kv[1], reverse=True)        \n",
    "    \n",
    "    return word_count[:7]\n",
    "\n",
    "\n",
    "while input('Would you like to scrape a website (y/n)? ') == 'y':\n",
    "    try:\n",
    "        clear_output()\n",
    "    \n",
    "        site = input('Enter a website to analyze: ')\n",
    "    \n",
    "        top_words = scrape(site)\n",
    "        \n",
    "        top_word = top_words[0]   # tuple of (word, count)\n",
    "        \n",
    "       \n",
    "        print(\"The top word is: {}\".format(top_word[0]))\n",
    "        \n",
    "        displayResults(top_words, site)\n",
    "    except:\n",
    "        print('Something went wrong, please try again.')\n",
    "    \n",
    "print('Thanks for analyzing! Come back again!')"
   ]
  },
  {
   "cell_type": "code",
   "execution_count": null,
   "id": "d9489b18",
   "metadata": {},
   "outputs": [],
   "source": []
  }
 ],
 "metadata": {
  "kernelspec": {
   "display_name": "Python 3 (ipykernel)",
   "language": "python",
   "name": "python3"
  },
  "language_info": {
   "codemirror_mode": {
    "name": "ipython",
    "version": 3
   },
   "file_extension": ".py",
   "mimetype": "text/x-python",
   "name": "python",
   "nbconvert_exporter": "python",
   "pygments_lexer": "ipython3",
   "version": "3.9.7"
  }
 },
 "nbformat": 4,
 "nbformat_minor": 5
}
