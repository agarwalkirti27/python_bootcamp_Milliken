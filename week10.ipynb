{
 "cells": [
  {
   "cell_type": "markdown",
   "id": "7e010f39",
   "metadata": {},
   "source": [
    "Virtual Environments and Requests Module"
   ]
  },
  {
   "cell_type": "code",
   "execution_count": 3,
   "id": "717e78af",
   "metadata": {
    "scrolled": false
   },
   "outputs": [
    {
     "name": "stdout",
     "output_type": "stream",
     "text": [
      "<Response [200]>\n",
      "<class 'requests.models.Response'>\n"
     ]
    }
   ],
   "source": [
    "#sending a request and logging the response code\n",
    "import requests\n",
    "r = requests.get(\"https://api.github.com/users/agarwalkirti27\")\n",
    "print(r)\n",
    "print(type(r))"
   ]
  },
  {
   "cell_type": "code",
   "execution_count": 4,
   "id": "6a3650a4",
   "metadata": {
    "scrolled": false
   },
   "outputs": [
    {
     "name": "stdout",
     "output_type": "stream",
     "text": [
      "b'{\"login\":\"agarwalkirti27\",\"id\":27546532,\"node_id\":\"MDQ6VXNlcjI3NTQ2NTMy\",\"avatar_url\":\"https://avatars.githubusercontent.com/u/27546532?v=4\",\"gravatar_id\":\"\",\"url\":\"https://api.github.com/users/agarwalkirti27\",\"html_url\":\"https://github.com/agarwalkirti27\",\"followers_url\":\"https://api.github.com/users/agarwalkirti27/followers\",\"following_url\":\"https://api.github.com/users/agarwalkirti27/following{/other_user}\",\"gists_url\":\"https://api.github.com/users/agarwalkirti27/gists{/gist_id}\",\"starred_url\":\"https://api.github.com/users/agarwalkirti27/starred{/owner}{/repo}\",\"subscriptions_url\":\"https://api.github.com/users/agarwalkirti27/subscriptions\",\"organizations_url\":\"https://api.github.com/users/agarwalkirti27/orgs\",\"repos_url\":\"https://api.github.com/users/agarwalkirti27/repos\",\"events_url\":\"https://api.github.com/users/agarwalkirti27/events{/privacy}\",\"received_events_url\":\"https://api.github.com/users/agarwalkirti27/received_events\",\"type\":\"User\",\"site_admin\":false,\"name\":\"writekirti\",\"company\":\"JPMC\",\"blog\":\"\",\"location\":\"India\",\"email\":null,\"hireable\":null,\"bio\":null,\"twitter_username\":\"agarwalkirti27\",\"public_repos\":8,\"public_gists\":0,\"followers\":0,\"following\":1,\"created_at\":\"2017-04-15T08:00:55Z\",\"updated_at\":\"2022-02-07T16:08:43Z\"}'\n"
     ]
    }
   ],
   "source": [
    "#accessing the content that we requested from the URL\n",
    "\n",
    "data = r.content\n",
    "print(data)"
   ]
  },
  {
   "cell_type": "code",
   "execution_count": 5,
   "id": "7586ac15",
   "metadata": {
    "scrolled": true
   },
   "outputs": [
    {
     "name": "stdout",
     "output_type": "stream",
     "text": [
      "key: login\t values: agarwalkirti27\n",
      "key: id\t values: 27546532\n",
      "key: node_id\t values: MDQ6VXNlcjI3NTQ2NTMy\n",
      "key: avatar_url\t values: https://avatars.githubusercontent.com/u/27546532?v=4\n",
      "key: gravatar_id\t values: \n",
      "key: url\t values: https://api.github.com/users/agarwalkirti27\n",
      "key: html_url\t values: https://github.com/agarwalkirti27\n",
      "key: followers_url\t values: https://api.github.com/users/agarwalkirti27/followers\n",
      "key: following_url\t values: https://api.github.com/users/agarwalkirti27/following{/other_user}\n",
      "key: gists_url\t values: https://api.github.com/users/agarwalkirti27/gists{/gist_id}\n",
      "key: starred_url\t values: https://api.github.com/users/agarwalkirti27/starred{/owner}{/repo}\n",
      "key: subscriptions_url\t values: https://api.github.com/users/agarwalkirti27/subscriptions\n",
      "key: organizations_url\t values: https://api.github.com/users/agarwalkirti27/orgs\n",
      "key: repos_url\t values: https://api.github.com/users/agarwalkirti27/repos\n",
      "key: events_url\t values: https://api.github.com/users/agarwalkirti27/events{/privacy}\n",
      "key: received_events_url\t values: https://api.github.com/users/agarwalkirti27/received_events\n",
      "key: type\t values: User\n",
      "key: site_admin\t values: False\n",
      "key: name\t values: writekirti\n",
      "key: company\t values: JPMC\n",
      "key: blog\t values: \n",
      "key: location\t values: India\n",
      "key: email\t values: None\n",
      "key: hireable\t values: None\n",
      "key: bio\t values: None\n",
      "key: twitter_username\t values: agarwalkirti27\n",
      "key: public_repos\t values: 8\n",
      "key: public_gists\t values: 0\n",
      "key: followers\t values: 0\n",
      "key: following\t values: 1\n",
      "key: created_at\t values: 2017-04-15T08:00:55Z\n",
      "key: updated_at\t values: 2022-02-07T16:08:43Z\n",
      "writekirti\n"
     ]
    }
   ],
   "source": [
    "#converting data into json \n",
    "\n",
    "data = r.json()\n",
    "for k,v in data.items():\n",
    "    print(\"key: {}\\t values: {}\".format(k, v))\n",
    "print(data[\"name\"])"
   ]
  },
  {
   "cell_type": "code",
   "execution_count": 6,
   "id": "1c8cb7ff",
   "metadata": {},
   "outputs": [
    {
     "name": "stdout",
     "output_type": "stream",
     "text": [
      "8021342\n"
     ]
    }
   ],
   "source": [
    "# outputting specific key-value pairs from data\n",
    "r = requests. get(\"https://api.github.com/search/repositories?q=language:python\")\n",
    "data = r.json( )\n",
    "print(data[\"total_count\"])"
   ]
  },
  {
   "cell_type": "markdown",
   "id": "98df73ea",
   "metadata": {},
   "source": [
    "Monday Exercise"
   ]
  },
  {
   "cell_type": "code",
   "execution_count": null,
   "id": "8497bcbb",
   "metadata": {},
   "outputs": [],
   "source": [
    "# Test Environment: Create a new virtual environment called “test.” When\n",
    "# creating it, install Python version 2.7 instead of the current version. After\n",
    "# it’s completed, make sure it installed the proper version of Python by\n",
    "# checking the list.\n",
    "\n",
    "# conda create --name test pyhton=2.7"
   ]
  },
  {
   "cell_type": "code",
   "execution_count": 7,
   "id": "e03364f5",
   "metadata": {
    "scrolled": true
   },
   "outputs": [
    {
     "name": "stdout",
     "output_type": "stream",
     "text": [
      "13531308\n"
     ]
    }
   ],
   "source": [
    "# JavaScript Repositories: Using the requests module and the Github API link in\n",
    "# our last lesson, figure out how many repositories on Github use JavaScript.\n",
    "\n",
    "r = requests. get(\"https://api.github.com/search/repositories?q=language:JavaScript\")\n",
    "data = r.json( )\n",
    "print(data[\"total_count\"])"
   ]
  },
  {
   "cell_type": "code",
   "execution_count": 8,
   "id": "ae6401c9",
   "metadata": {},
   "outputs": [],
   "source": [
    "#Pandas\n",
    "#High performance, highly efficient, high level data analysis library\n",
    "#written in C\n",
    "#allows us to work with large datasets called data frames\n",
    "# NumPy is a fundamental package for scientific computing in Python. Built\n",
    "# from the C language, it uses multidimensional arrays and can perform calculations\n",
    "# at high-rate speeds.\n"
   ]
  },
  {
   "cell_type": "code",
   "execution_count": null,
   "id": "46943448",
   "metadata": {},
   "outputs": [],
   "source": [
    "# • Series ➤ One-dimensional labeled array capable of holding data of\n",
    "# any type\n",
    "# • DataFrame ➤ Spreadsheet\n",
    "# • Axis ➤ Column or row, axis = 0 by row; axis = 1 by column\n",
    "# • Record ➤ A single row\n",
    "# • dtype ➤ Data type for DataFrame or series object\n",
    "# • Time Series ➤ Series object that uses time intervals, like tracking\n",
    "# weather by the hour"
   ]
  },
  {
   "cell_type": "code",
   "execution_count": 31,
   "id": "fcae5555",
   "metadata": {},
   "outputs": [
    {
     "name": "stdout",
     "output_type": "stream",
     "text": [
      "     names  ages\n",
      "0     Jess    25\n",
      "1   Jordan    35\n",
      "2     John    22\n",
      "3      Ted    29\n",
      "4   Barney    33\n",
      "5    Tyler    20\n",
      "6  Rebecca    18\n",
      "29\n",
      "names    Jess\n",
      "ages       25\n",
      "Name: 0, dtype: object\n",
      "Jess\n"
     ]
    }
   ],
   "source": [
    "#Pandas\n",
    "\n",
    "import pandas as pd\n",
    "\n",
    "#using the from_dict method to convert a dictionary into Pandas Data Frame\n",
    "import random\n",
    "\n",
    "random.seed(3)\n",
    "names = [\"Jess\", \"Jordan\", \"John\", \"Ted\", \"Barney\", \"Tyler\", \"Rebecca\"]\n",
    "ages = [random.randint(18, 35) for x in range(len(names))]\n",
    "\n",
    "people = {\"names\" : names, \"ages\":ages}\n",
    "df = pd.DataFrame.from_dict(people)\n",
    "\n",
    "print(df)\n",
    "\n",
    "#indexing by column\n",
    "print(df[\"ages\"][3])\n",
    "\n",
    "#indexing by record\n",
    "#directly selecting a record in pandas using loc\n",
    "\n",
    "print(df.loc[0])\n",
    "print(df.loc[0][\"names\"])\n"
   ]
  },
  {
   "cell_type": "code",
   "execution_count": 32,
   "id": "01aa1a23",
   "metadata": {
    "scrolled": true
   },
   "outputs": [
    {
     "name": "stdout",
     "output_type": "stream",
     "text": [
      "  names  ages\n",
      "2  John    22\n",
      "3   Ted    29\n"
     ]
    }
   ],
   "source": [
    "#slicing dataframe to grab a specific number of records\n",
    "\n",
    "print(df[2:4])"
   ]
  },
  {
   "cell_type": "code",
   "execution_count": 33,
   "id": "bc250c62",
   "metadata": {},
   "outputs": [
    {
     "name": "stdout",
     "output_type": "stream",
     "text": [
      "    names  ages\n",
      "0    Jess    25\n",
      "1  Jordan    35\n",
      "2    John    22\n",
      "3     Ted    29\n",
      "4  Barney    33\n"
     ]
    }
   ],
   "source": [
    "#head()\n",
    "\n",
    "#accessing top5 records using head method\n",
    "\n",
    "print(df.head(5))"
   ]
  },
  {
   "cell_type": "code",
   "execution_count": 34,
   "id": "f3452a75",
   "metadata": {},
   "outputs": [
    {
     "name": "stdout",
     "output_type": "stream",
     "text": [
      "     names  ages\n",
      "4   Barney    33\n",
      "5    Tyler    20\n",
      "6  Rebecca    18\n"
     ]
    }
   ],
   "source": [
    "#tail()\n",
    "#accessing bottom 3 records using tail()\n",
    "\n",
    "print(df.tail(3))"
   ]
  },
  {
   "cell_type": "code",
   "execution_count": 35,
   "id": "b1ffb206",
   "metadata": {},
   "outputs": [
    {
     "name": "stdout",
     "output_type": "stream",
     "text": [
      "Index(['names', 'ages'], dtype='object')\n"
     ]
    }
   ],
   "source": [
    "#keys()\n",
    "\n",
    "#accessing the coulumn header using keys method\n",
    "\n",
    "headers = df.keys()\n",
    "print(headers)"
   ]
  },
  {
   "cell_type": "code",
   "execution_count": 37,
   "id": "d9f27745",
   "metadata": {
    "scrolled": true
   },
   "outputs": [
    {
     "name": "stdout",
     "output_type": "stream",
     "text": [
      "(7, 2)\n"
     ]
    }
   ],
   "source": [
    "#checking the shape which is the number of records and colums\n",
    "print(df.shape) # 7 rows and 2 columns"
   ]
  },
  {
   "cell_type": "code",
   "execution_count": 38,
   "id": "f0055697",
   "metadata": {},
   "outputs": [
    {
     "data": {
      "text/html": [
       "<div>\n",
       "<style scoped>\n",
       "    .dataframe tbody tr th:only-of-type {\n",
       "        vertical-align: middle;\n",
       "    }\n",
       "\n",
       "    .dataframe tbody tr th {\n",
       "        vertical-align: top;\n",
       "    }\n",
       "\n",
       "    .dataframe thead th {\n",
       "        text-align: right;\n",
       "    }\n",
       "</style>\n",
       "<table border=\"1\" class=\"dataframe\">\n",
       "  <thead>\n",
       "    <tr style=\"text-align: right;\">\n",
       "      <th></th>\n",
       "      <th>ages</th>\n",
       "    </tr>\n",
       "  </thead>\n",
       "  <tbody>\n",
       "    <tr>\n",
       "      <th>count</th>\n",
       "      <td>7.000000</td>\n",
       "    </tr>\n",
       "    <tr>\n",
       "      <th>mean</th>\n",
       "      <td>26.000000</td>\n",
       "    </tr>\n",
       "    <tr>\n",
       "      <th>std</th>\n",
       "      <td>6.531973</td>\n",
       "    </tr>\n",
       "    <tr>\n",
       "      <th>min</th>\n",
       "      <td>18.000000</td>\n",
       "    </tr>\n",
       "    <tr>\n",
       "      <th>25%</th>\n",
       "      <td>21.000000</td>\n",
       "    </tr>\n",
       "    <tr>\n",
       "      <th>50%</th>\n",
       "      <td>25.000000</td>\n",
       "    </tr>\n",
       "    <tr>\n",
       "      <th>75%</th>\n",
       "      <td>31.000000</td>\n",
       "    </tr>\n",
       "    <tr>\n",
       "      <th>max</th>\n",
       "      <td>35.000000</td>\n",
       "    </tr>\n",
       "  </tbody>\n",
       "</table>\n",
       "</div>"
      ],
      "text/plain": [
       "            ages\n",
       "count   7.000000\n",
       "mean   26.000000\n",
       "std     6.531973\n",
       "min    18.000000\n",
       "25%    21.000000\n",
       "50%    25.000000\n",
       "75%    31.000000\n",
       "max    35.000000"
      ]
     },
     "execution_count": 38,
     "metadata": {},
     "output_type": "execute_result"
    }
   ],
   "source": [
    "#checking the general statistics of DataFrame by describe method, only works on numeric columns\n",
    "\n",
    "df.describe()"
   ]
  },
  {
   "cell_type": "code",
   "execution_count": 45,
   "id": "84352fa3",
   "metadata": {
    "scrolled": true
   },
   "outputs": [
    {
     "name": "stdout",
     "output_type": "stream",
     "text": [
      "     names  ages\n",
      "6  Rebecca    18\n",
      "5    Tyler    20\n",
      "2     John    22\n",
      "0     Jess    25\n",
      "3      Ted    29\n"
     ]
    }
   ],
   "source": [
    "#sort based on given column name but keep the data frame intact using sort_values()\n",
    "df = df.sort_values(\"ages\")\n",
    "print(df.head(5));\n"
   ]
  },
  {
   "cell_type": "code",
   "execution_count": 47,
   "id": "91f42ef5",
   "metadata": {},
   "outputs": [
    {
     "name": "stdout",
     "output_type": "stream",
     "text": [
      "     names  ages\n",
      "4   Barney    33\n",
      "0     Jess    25\n",
      "2     John    22\n",
      "1   Jordan    35\n",
      "6  Rebecca    18\n"
     ]
    }
   ],
   "source": [
    "df = df.sort_values([\"names\"])\n",
    "print(df.head(5));"
   ]
  },
  {
   "cell_type": "markdown",
   "id": "392437f8",
   "metadata": {},
   "source": [
    "#Filteration"
   ]
  },
  {
   "cell_type": "code",
   "execution_count": 49,
   "id": "b86c2e9b",
   "metadata": {},
   "outputs": [
    {
     "name": "stdout",
     "output_type": "stream",
     "text": [
      "4     True\n",
      "0     True\n",
      "2     True\n",
      "1     True\n",
      "6    False\n",
      "3     True\n",
      "5    False\n",
      "Name: ages, dtype: bool\n"
     ]
    }
   ],
   "source": [
    "#using a conditional to create true/false column to work with \n",
    "\n",
    "can_drink = df[\"ages\"] > 21\n",
    "\n",
    "print(can_drink)"
   ]
  },
  {
   "cell_type": "code",
   "execution_count": 50,
   "id": "b6f2007f",
   "metadata": {},
   "outputs": [
    {
     "data": {
      "text/html": [
       "<div>\n",
       "<style scoped>\n",
       "    .dataframe tbody tr th:only-of-type {\n",
       "        vertical-align: middle;\n",
       "    }\n",
       "\n",
       "    .dataframe tbody tr th {\n",
       "        vertical-align: top;\n",
       "    }\n",
       "\n",
       "    .dataframe thead th {\n",
       "        text-align: right;\n",
       "    }\n",
       "</style>\n",
       "<table border=\"1\" class=\"dataframe\">\n",
       "  <thead>\n",
       "    <tr style=\"text-align: right;\">\n",
       "      <th></th>\n",
       "      <th>names</th>\n",
       "      <th>ages</th>\n",
       "    </tr>\n",
       "  </thead>\n",
       "  <tbody>\n",
       "    <tr>\n",
       "      <th>4</th>\n",
       "      <td>Barney</td>\n",
       "      <td>33</td>\n",
       "    </tr>\n",
       "    <tr>\n",
       "      <th>0</th>\n",
       "      <td>Jess</td>\n",
       "      <td>25</td>\n",
       "    </tr>\n",
       "    <tr>\n",
       "      <th>2</th>\n",
       "      <td>John</td>\n",
       "      <td>22</td>\n",
       "    </tr>\n",
       "    <tr>\n",
       "      <th>1</th>\n",
       "      <td>Jordan</td>\n",
       "      <td>35</td>\n",
       "    </tr>\n",
       "    <tr>\n",
       "      <th>3</th>\n",
       "      <td>Ted</td>\n",
       "      <td>29</td>\n",
       "    </tr>\n",
       "  </tbody>\n",
       "</table>\n",
       "</div>"
      ],
      "text/plain": [
       "    names  ages\n",
       "4  Barney    33\n",
       "0    Jess    25\n",
       "2    John    22\n",
       "1  Jordan    35\n",
       "3     Ted    29"
      ]
     },
     "execution_count": 50,
     "metadata": {},
     "output_type": "execute_result"
    }
   ],
   "source": [
    "#using subsetting to filter out records and keeping the data frame intact\n",
    "df[df[\"ages\"] > 21]"
   ]
  },
  {
   "cell_type": "code",
   "execution_count": null,
   "id": "58c34e64",
   "metadata": {},
   "outputs": [],
   "source": [
    "#>>> dataframe_variable [ conditional statement to filter records with ]\n",
    "#>>> df[ can_drink ]"
   ]
  },
  {
   "cell_type": "markdown",
   "id": "ad950abc",
   "metadata": {},
   "source": [
    "column Transformations"
   ]
  },
  {
   "cell_type": "code",
   "execution_count": 51,
   "id": "8ba42206",
   "metadata": {},
   "outputs": [
    {
     "data": {
      "text/html": [
       "<div>\n",
       "<style scoped>\n",
       "    .dataframe tbody tr th:only-of-type {\n",
       "        vertical-align: middle;\n",
       "    }\n",
       "\n",
       "    .dataframe tbody tr th {\n",
       "        vertical-align: top;\n",
       "    }\n",
       "\n",
       "    .dataframe thead th {\n",
       "        text-align: right;\n",
       "    }\n",
       "</style>\n",
       "<table border=\"1\" class=\"dataframe\">\n",
       "  <thead>\n",
       "    <tr style=\"text-align: right;\">\n",
       "      <th></th>\n",
       "      <th>names</th>\n",
       "      <th>ages</th>\n",
       "      <th>tenure</th>\n",
       "    </tr>\n",
       "  </thead>\n",
       "  <tbody>\n",
       "    <tr>\n",
       "      <th>4</th>\n",
       "      <td>Barney</td>\n",
       "      <td>33</td>\n",
       "      <td>4</td>\n",
       "    </tr>\n",
       "    <tr>\n",
       "      <th>0</th>\n",
       "      <td>Jess</td>\n",
       "      <td>25</td>\n",
       "      <td>6</td>\n",
       "    </tr>\n",
       "    <tr>\n",
       "      <th>2</th>\n",
       "      <td>John</td>\n",
       "      <td>22</td>\n",
       "      <td>2</td>\n",
       "    </tr>\n",
       "    <tr>\n",
       "      <th>1</th>\n",
       "      <td>Jordan</td>\n",
       "      <td>35</td>\n",
       "      <td>5</td>\n",
       "    </tr>\n",
       "    <tr>\n",
       "      <th>6</th>\n",
       "      <td>Rebecca</td>\n",
       "      <td>18</td>\n",
       "      <td>8</td>\n",
       "    </tr>\n",
       "  </tbody>\n",
       "</table>\n",
       "</div>"
      ],
      "text/plain": [
       "     names  ages  tenure\n",
       "4   Barney    33       4\n",
       "0     Jess    25       6\n",
       "2     John    22       2\n",
       "1   Jordan    35       5\n",
       "6  Rebecca    18       8"
      ]
     },
     "execution_count": 51,
     "metadata": {},
     "output_type": "execute_result"
    }
   ],
   "source": [
    "#generating a new column of fake data for each record in the dataframe\n",
    "random.seed(321)\n",
    "\n",
    "tenure = [random.randint(0, 10) for x in range(len(df))]\n",
    "df[\"tenure\"] = tenure\n",
    "\n",
    "df.head()"
   ]
  },
  {
   "cell_type": "code",
   "execution_count": 52,
   "id": "9623d18e",
   "metadata": {},
   "outputs": [
    {
     "data": {
      "text/html": [
       "<div>\n",
       "<style scoped>\n",
       "    .dataframe tbody tr th:only-of-type {\n",
       "        vertical-align: middle;\n",
       "    }\n",
       "\n",
       "    .dataframe tbody tr th {\n",
       "        vertical-align: top;\n",
       "    }\n",
       "\n",
       "    .dataframe thead th {\n",
       "        text-align: right;\n",
       "    }\n",
       "</style>\n",
       "<table border=\"1\" class=\"dataframe\">\n",
       "  <thead>\n",
       "    <tr style=\"text-align: right;\">\n",
       "      <th></th>\n",
       "      <th>names</th>\n",
       "      <th>ages</th>\n",
       "      <th>tenure</th>\n",
       "      <th>age_group</th>\n",
       "    </tr>\n",
       "  </thead>\n",
       "  <tbody>\n",
       "    <tr>\n",
       "      <th>4</th>\n",
       "      <td>Barney</td>\n",
       "      <td>33</td>\n",
       "      <td>4</td>\n",
       "      <td>Adult</td>\n",
       "    </tr>\n",
       "    <tr>\n",
       "      <th>0</th>\n",
       "      <td>Jess</td>\n",
       "      <td>25</td>\n",
       "      <td>6</td>\n",
       "      <td>Adult</td>\n",
       "    </tr>\n",
       "    <tr>\n",
       "      <th>2</th>\n",
       "      <td>John</td>\n",
       "      <td>22</td>\n",
       "      <td>2</td>\n",
       "      <td>Adult</td>\n",
       "    </tr>\n",
       "    <tr>\n",
       "      <th>1</th>\n",
       "      <td>Jordan</td>\n",
       "      <td>35</td>\n",
       "      <td>5</td>\n",
       "      <td>Adult</td>\n",
       "    </tr>\n",
       "    <tr>\n",
       "      <th>6</th>\n",
       "      <td>Rebecca</td>\n",
       "      <td>18</td>\n",
       "      <td>8</td>\n",
       "      <td>Teenager</td>\n",
       "    </tr>\n",
       "    <tr>\n",
       "      <th>3</th>\n",
       "      <td>Ted</td>\n",
       "      <td>29</td>\n",
       "      <td>7</td>\n",
       "      <td>Adult</td>\n",
       "    </tr>\n",
       "    <tr>\n",
       "      <th>5</th>\n",
       "      <td>Tyler</td>\n",
       "      <td>20</td>\n",
       "      <td>5</td>\n",
       "      <td>Teenager</td>\n",
       "    </tr>\n",
       "  </tbody>\n",
       "</table>\n",
       "</div>"
      ],
      "text/plain": [
       "     names  ages  tenure age_group\n",
       "4   Barney    33       4     Adult\n",
       "0     Jess    25       6     Adult\n",
       "2     John    22       2     Adult\n",
       "1   Jordan    35       5     Adult\n",
       "6  Rebecca    18       8  Teenager\n",
       "3      Ted    29       7     Adult\n",
       "5    Tyler    20       5  Teenager"
      ]
     },
     "execution_count": 52,
     "metadata": {},
     "output_type": "execute_result"
    }
   ],
   "source": [
    "#apply() Feature engineering\n",
    "\n",
    "#feature engineering a column from known data using a UDF(user defined function)\n",
    "\n",
    "def ageGroup(age):\n",
    "    return \"Teenager\" if age < 21 else \"Adult\"\n",
    "\n",
    "df[\"age_group\"] = df[\"ages\"].apply(ageGroup)\n",
    "df.head(10)\n",
    "\n",
    "# Note When you need to apply a value based on multiple columns, you must set\n",
    "# the axis = 1."
   ]
  },
  {
   "cell_type": "markdown",
   "id": "21b3117b",
   "metadata": {},
   "source": [
    "Aggregations"
   ]
  },
  {
   "cell_type": "code",
   "execution_count": 53,
   "id": "28b635a4",
   "metadata": {},
   "outputs": [
    {
     "data": {
      "text/html": [
       "<div>\n",
       "<style scoped>\n",
       "    .dataframe tbody tr th:only-of-type {\n",
       "        vertical-align: middle;\n",
       "    }\n",
       "\n",
       "    .dataframe tbody tr th {\n",
       "        vertical-align: top;\n",
       "    }\n",
       "\n",
       "    .dataframe thead th {\n",
       "        text-align: right;\n",
       "    }\n",
       "</style>\n",
       "<table border=\"1\" class=\"dataframe\">\n",
       "  <thead>\n",
       "    <tr style=\"text-align: right;\">\n",
       "      <th></th>\n",
       "      <th>age_group</th>\n",
       "      <th>names</th>\n",
       "      <th>ages</th>\n",
       "      <th>tenure</th>\n",
       "    </tr>\n",
       "  </thead>\n",
       "  <tbody>\n",
       "    <tr>\n",
       "      <th>0</th>\n",
       "      <td>Adult</td>\n",
       "      <td>5</td>\n",
       "      <td>5</td>\n",
       "      <td>5</td>\n",
       "    </tr>\n",
       "    <tr>\n",
       "      <th>1</th>\n",
       "      <td>Teenager</td>\n",
       "      <td>2</td>\n",
       "      <td>2</td>\n",
       "      <td>2</td>\n",
       "    </tr>\n",
       "  </tbody>\n",
       "</table>\n",
       "</div>"
      ],
      "text/plain": [
       "  age_group  names  ages  tenure\n",
       "0     Adult      5     5       5\n",
       "1  Teenager      2     2       2"
      ]
     },
     "execution_count": 53,
     "metadata": {},
     "output_type": "execute_result"
    }
   ],
   "source": [
    "#groupby()\n",
    "\n",
    "#grouping the records together into a count to check records in each age group\n",
    "df.groupby(\"age_group\", as_index = False).count().head()\n"
   ]
  },
  {
   "cell_type": "code",
   "execution_count": 55,
   "id": "1f956ce1",
   "metadata": {},
   "outputs": [
    {
     "data": {
      "text/html": [
       "<div>\n",
       "<style scoped>\n",
       "    .dataframe tbody tr th:only-of-type {\n",
       "        vertical-align: middle;\n",
       "    }\n",
       "\n",
       "    .dataframe tbody tr th {\n",
       "        vertical-align: top;\n",
       "    }\n",
       "\n",
       "    .dataframe thead th {\n",
       "        text-align: right;\n",
       "    }\n",
       "</style>\n",
       "<table border=\"1\" class=\"dataframe\">\n",
       "  <thead>\n",
       "    <tr style=\"text-align: right;\">\n",
       "      <th></th>\n",
       "      <th>age_group</th>\n",
       "      <th>ages</th>\n",
       "      <th>tenure</th>\n",
       "    </tr>\n",
       "  </thead>\n",
       "  <tbody>\n",
       "    <tr>\n",
       "      <th>0</th>\n",
       "      <td>Adult</td>\n",
       "      <td>28.8</td>\n",
       "      <td>4.8</td>\n",
       "    </tr>\n",
       "    <tr>\n",
       "      <th>1</th>\n",
       "      <td>Teenager</td>\n",
       "      <td>19.0</td>\n",
       "      <td>6.5</td>\n",
       "    </tr>\n",
       "  </tbody>\n",
       "</table>\n",
       "</div>"
      ],
      "text/plain": [
       "  age_group  ages  tenure\n",
       "0     Adult  28.8     4.8\n",
       "1  Teenager  19.0     6.5"
      ]
     },
     "execution_count": 55,
     "metadata": {},
     "output_type": "execute_result"
    }
   ],
   "source": [
    "#mean()\n",
    "#grouping the data to see average of columns\n",
    "\n",
    "df.groupby(\"age_group\", as_index = False).mean().head()"
   ]
  },
  {
   "cell_type": "code",
   "execution_count": 58,
   "id": "854f07a1",
   "metadata": {},
   "outputs": [
    {
     "data": {
      "text/html": [
       "<div>\n",
       "<style scoped>\n",
       "    .dataframe tbody tr th:only-of-type {\n",
       "        vertical-align: middle;\n",
       "    }\n",
       "\n",
       "    .dataframe tbody tr th {\n",
       "        vertical-align: top;\n",
       "    }\n",
       "\n",
       "    .dataframe thead th {\n",
       "        text-align: right;\n",
       "    }\n",
       "</style>\n",
       "<table border=\"1\" class=\"dataframe\">\n",
       "  <thead>\n",
       "    <tr style=\"text-align: right;\">\n",
       "      <th></th>\n",
       "      <th>age_group</th>\n",
       "      <th>tenure</th>\n",
       "      <th>names</th>\n",
       "      <th>ages</th>\n",
       "    </tr>\n",
       "  </thead>\n",
       "  <tbody>\n",
       "    <tr>\n",
       "      <th>0</th>\n",
       "      <td>Adult</td>\n",
       "      <td>2</td>\n",
       "      <td>2</td>\n",
       "      <td>2</td>\n",
       "    </tr>\n",
       "    <tr>\n",
       "      <th>1</th>\n",
       "      <td>Adult</td>\n",
       "      <td>4</td>\n",
       "      <td>1</td>\n",
       "      <td>1</td>\n",
       "    </tr>\n",
       "    <tr>\n",
       "      <th>2</th>\n",
       "      <td>Adult</td>\n",
       "      <td>5</td>\n",
       "      <td>1</td>\n",
       "      <td>1</td>\n",
       "    </tr>\n",
       "    <tr>\n",
       "      <th>3</th>\n",
       "      <td>Adult</td>\n",
       "      <td>6</td>\n",
       "      <td>1</td>\n",
       "      <td>1</td>\n",
       "    </tr>\n",
       "    <tr>\n",
       "      <th>4</th>\n",
       "      <td>Adult</td>\n",
       "      <td>7</td>\n",
       "      <td>1</td>\n",
       "      <td>1</td>\n",
       "    </tr>\n",
       "  </tbody>\n",
       "</table>\n",
       "</div>"
      ],
      "text/plain": [
       "  age_group  tenure  names  ages\n",
       "0     Adult       2      2     2\n",
       "1     Adult       4      1     1\n",
       "2     Adult       5      1     1\n",
       "3     Adult       6      1     1\n",
       "4     Adult       7      1     1"
      ]
     },
     "execution_count": 58,
     "metadata": {},
     "output_type": "execute_result"
    }
   ],
   "source": [
    "#grouping the information by their age group and then by tenure\n",
    "\n",
    "df.groupby([\"age_group\", \"tenure\"], as_index = False).count().head()"
   ]
  },
  {
   "cell_type": "code",
   "execution_count": 57,
   "id": "83a05215",
   "metadata": {},
   "outputs": [
    {
     "data": {
      "text/html": [
       "<div>\n",
       "<style scoped>\n",
       "    .dataframe tbody tr th:only-of-type {\n",
       "        vertical-align: middle;\n",
       "    }\n",
       "\n",
       "    .dataframe tbody tr th {\n",
       "        vertical-align: top;\n",
       "    }\n",
       "\n",
       "    .dataframe thead th {\n",
       "        text-align: right;\n",
       "    }\n",
       "</style>\n",
       "<table border=\"1\" class=\"dataframe\">\n",
       "  <thead>\n",
       "    <tr style=\"text-align: right;\">\n",
       "      <th></th>\n",
       "      <th>names</th>\n",
       "      <th>ages</th>\n",
       "      <th>tenure</th>\n",
       "      <th>age_group</th>\n",
       "    </tr>\n",
       "  </thead>\n",
       "  <tbody>\n",
       "    <tr>\n",
       "      <th>4</th>\n",
       "      <td>Barney</td>\n",
       "      <td>33</td>\n",
       "      <td>4</td>\n",
       "      <td>Adult</td>\n",
       "    </tr>\n",
       "    <tr>\n",
       "      <th>0</th>\n",
       "      <td>Jess</td>\n",
       "      <td>25</td>\n",
       "      <td>6</td>\n",
       "      <td>Adult</td>\n",
       "    </tr>\n",
       "    <tr>\n",
       "      <th>2</th>\n",
       "      <td>John</td>\n",
       "      <td>22</td>\n",
       "      <td>2</td>\n",
       "      <td>Adult</td>\n",
       "    </tr>\n",
       "    <tr>\n",
       "      <th>1</th>\n",
       "      <td>Jordan</td>\n",
       "      <td>35</td>\n",
       "      <td>5</td>\n",
       "      <td>Adult</td>\n",
       "    </tr>\n",
       "    <tr>\n",
       "      <th>6</th>\n",
       "      <td>Rebecca</td>\n",
       "      <td>18</td>\n",
       "      <td>8</td>\n",
       "      <td>Teenager</td>\n",
       "    </tr>\n",
       "    <tr>\n",
       "      <th>3</th>\n",
       "      <td>Ted</td>\n",
       "      <td>29</td>\n",
       "      <td>7</td>\n",
       "      <td>Adult</td>\n",
       "    </tr>\n",
       "    <tr>\n",
       "      <th>5</th>\n",
       "      <td>Tyler</td>\n",
       "      <td>20</td>\n",
       "      <td>5</td>\n",
       "      <td>Teenager</td>\n",
       "    </tr>\n",
       "    <tr>\n",
       "      <th>7</th>\n",
       "      <td>25</td>\n",
       "      <td>Jess</td>\n",
       "      <td>2</td>\n",
       "      <td>Adult</td>\n",
       "    </tr>\n",
       "  </tbody>\n",
       "</table>\n",
       "</div>"
      ],
      "text/plain": [
       "     names  ages  tenure age_group\n",
       "4   Barney    33       4     Adult\n",
       "0     Jess    25       6     Adult\n",
       "2     John    22       2     Adult\n",
       "1   Jordan    35       5     Adult\n",
       "6  Rebecca    18       8  Teenager\n",
       "3      Ted    29       7     Adult\n",
       "5    Tyler    20       5  Teenager\n",
       "7       25  Jess       2     Adult"
      ]
     },
     "execution_count": 57,
     "metadata": {},
     "output_type": "execute_result"
    }
   ],
   "source": [
    "#adding a record to the bottom of the data frame\n",
    "df.loc[7] = [25, \"Jess\", 2, \"Adult\"]\n",
    "df.head(10)"
   ]
  },
  {
   "cell_type": "code",
   "execution_count": 59,
   "id": "431bd89e",
   "metadata": {},
   "outputs": [
    {
     "data": {
      "text/html": [
       "<div>\n",
       "<style scoped>\n",
       "    .dataframe tbody tr th:only-of-type {\n",
       "        vertical-align: middle;\n",
       "    }\n",
       "\n",
       "    .dataframe tbody tr th {\n",
       "        vertical-align: top;\n",
       "    }\n",
       "\n",
       "    .dataframe thead th {\n",
       "        text-align: right;\n",
       "    }\n",
       "</style>\n",
       "<table border=\"1\" class=\"dataframe\">\n",
       "  <thead>\n",
       "    <tr style=\"text-align: right;\">\n",
       "      <th></th>\n",
       "      <th>names</th>\n",
       "      <th>ages</th>\n",
       "      <th>tenure</th>\n",
       "      <th>age_group</th>\n",
       "    </tr>\n",
       "  </thead>\n",
       "  <tbody>\n",
       "    <tr>\n",
       "      <th>4</th>\n",
       "      <td>Barney</td>\n",
       "      <td>33</td>\n",
       "      <td>4</td>\n",
       "      <td>Adult</td>\n",
       "    </tr>\n",
       "    <tr>\n",
       "      <th>0</th>\n",
       "      <td>Jess</td>\n",
       "      <td>25</td>\n",
       "      <td>6</td>\n",
       "      <td>Adult</td>\n",
       "    </tr>\n",
       "    <tr>\n",
       "      <th>2</th>\n",
       "      <td>John</td>\n",
       "      <td>22</td>\n",
       "      <td>2</td>\n",
       "      <td>Adult</td>\n",
       "    </tr>\n",
       "    <tr>\n",
       "      <th>1</th>\n",
       "      <td>Jordan</td>\n",
       "      <td>35</td>\n",
       "      <td>5</td>\n",
       "      <td>Adult</td>\n",
       "    </tr>\n",
       "    <tr>\n",
       "      <th>6</th>\n",
       "      <td>Rebecca</td>\n",
       "      <td>18</td>\n",
       "      <td>8</td>\n",
       "      <td>Teenager</td>\n",
       "    </tr>\n",
       "  </tbody>\n",
       "</table>\n",
       "</div>"
      ],
      "text/plain": [
       "     names ages  tenure age_group\n",
       "4   Barney   33       4     Adult\n",
       "0     Jess   25       6     Adult\n",
       "2     John   22       2     Adult\n",
       "1   Jordan   35       5     Adult\n",
       "6  Rebecca   18       8  Teenager"
      ]
     },
     "execution_count": 59,
     "metadata": {},
     "output_type": "execute_result"
    }
   ],
   "source": [
    "#drop duplicates\n",
    "#removing duplicates based on some names\n",
    "\n",
    "df = df.drop_duplicates(subset = \"names\")\n",
    "df.head()"
   ]
  },
  {
   "cell_type": "code",
   "execution_count": null,
   "id": "cfd0fab9",
   "metadata": {},
   "outputs": [],
   "source": [
    "#Pandas Joins"
   ]
  },
  {
   "cell_type": "code",
   "execution_count": 65,
   "id": "eabafe2c",
   "metadata": {},
   "outputs": [
    {
     "data": {
      "text/html": [
       "<div>\n",
       "<style scoped>\n",
       "    .dataframe tbody tr th:only-of-type {\n",
       "        vertical-align: middle;\n",
       "    }\n",
       "\n",
       "    .dataframe tbody tr th {\n",
       "        vertical-align: top;\n",
       "    }\n",
       "\n",
       "    .dataframe thead th {\n",
       "        text-align: right;\n",
       "    }\n",
       "</style>\n",
       "<table border=\"1\" class=\"dataframe\">\n",
       "  <thead>\n",
       "    <tr style=\"text-align: right;\">\n",
       "      <th></th>\n",
       "      <th>names</th>\n",
       "      <th>ratings</th>\n",
       "    </tr>\n",
       "  </thead>\n",
       "  <tbody>\n",
       "    <tr>\n",
       "      <th>0</th>\n",
       "      <td>Jess</td>\n",
       "      <td>10</td>\n",
       "    </tr>\n",
       "    <tr>\n",
       "      <th>1</th>\n",
       "      <td>Tyler</td>\n",
       "      <td>9</td>\n",
       "    </tr>\n",
       "    <tr>\n",
       "      <th>2</th>\n",
       "      <td>Ted</td>\n",
       "      <td>6</td>\n",
       "    </tr>\n",
       "  </tbody>\n",
       "</table>\n",
       "</div>"
      ],
      "text/plain": [
       "   names  ratings\n",
       "0   Jess       10\n",
       "1  Tyler        9\n",
       "2    Ted        6"
      ]
     },
     "execution_count": 65,
     "metadata": {},
     "output_type": "execute_result"
    }
   ],
   "source": [
    "#creating another data frame\n",
    "\n",
    "ratings = {\"names\" : [\"Jess\", \"Tyler\", \"Ted\"], \"ratings\" : [10, 9, 6]}\n",
    "ratings = df.from_dict(ratings)\n",
    "ratings.head()"
   ]
  },
  {
   "cell_type": "code",
   "execution_count": 67,
   "id": "b4f18b7d",
   "metadata": {},
   "outputs": [
    {
     "data": {
      "text/html": [
       "<div>\n",
       "<style scoped>\n",
       "    .dataframe tbody tr th:only-of-type {\n",
       "        vertical-align: middle;\n",
       "    }\n",
       "\n",
       "    .dataframe tbody tr th {\n",
       "        vertical-align: top;\n",
       "    }\n",
       "\n",
       "    .dataframe thead th {\n",
       "        text-align: right;\n",
       "    }\n",
       "</style>\n",
       "<table border=\"1\" class=\"dataframe\">\n",
       "  <thead>\n",
       "    <tr style=\"text-align: right;\">\n",
       "      <th></th>\n",
       "      <th>names</th>\n",
       "      <th>ages</th>\n",
       "      <th>tenure</th>\n",
       "      <th>age_group</th>\n",
       "      <th>ratings</th>\n",
       "    </tr>\n",
       "  </thead>\n",
       "  <tbody>\n",
       "    <tr>\n",
       "      <th>0</th>\n",
       "      <td>Jess</td>\n",
       "      <td>25</td>\n",
       "      <td>6</td>\n",
       "      <td>Adult</td>\n",
       "      <td>10</td>\n",
       "    </tr>\n",
       "    <tr>\n",
       "      <th>1</th>\n",
       "      <td>Ted</td>\n",
       "      <td>29</td>\n",
       "      <td>7</td>\n",
       "      <td>Adult</td>\n",
       "      <td>6</td>\n",
       "    </tr>\n",
       "    <tr>\n",
       "      <th>2</th>\n",
       "      <td>Tyler</td>\n",
       "      <td>20</td>\n",
       "      <td>5</td>\n",
       "      <td>Teenager</td>\n",
       "      <td>9</td>\n",
       "    </tr>\n",
       "  </tbody>\n",
       "</table>\n",
       "</div>"
      ],
      "text/plain": [
       "   names ages  tenure age_group  ratings\n",
       "0   Jess   25       6     Adult       10\n",
       "1    Ted   29       7     Adult        6\n",
       "2  Tyler   20       5  Teenager        9"
      ]
     },
     "execution_count": 67,
     "metadata": {},
     "output_type": "execute_result"
    }
   ],
   "source": [
    "#inner join\n",
    "#performing inner join on our data frame\n",
    "matched_ratings = df.merge(ratings, on= \"names\", how = \"inner\")\n",
    "matched_ratings.head()"
   ]
  },
  {
   "cell_type": "code",
   "execution_count": 68,
   "id": "5644135f",
   "metadata": {},
   "outputs": [
    {
     "data": {
      "text/html": [
       "<div>\n",
       "<style scoped>\n",
       "    .dataframe tbody tr th:only-of-type {\n",
       "        vertical-align: middle;\n",
       "    }\n",
       "\n",
       "    .dataframe tbody tr th {\n",
       "        vertical-align: top;\n",
       "    }\n",
       "\n",
       "    .dataframe thead th {\n",
       "        text-align: right;\n",
       "    }\n",
       "</style>\n",
       "<table border=\"1\" class=\"dataframe\">\n",
       "  <thead>\n",
       "    <tr style=\"text-align: right;\">\n",
       "      <th></th>\n",
       "      <th>names</th>\n",
       "      <th>ages</th>\n",
       "      <th>tenure</th>\n",
       "      <th>age_group</th>\n",
       "      <th>ratings</th>\n",
       "    </tr>\n",
       "  </thead>\n",
       "  <tbody>\n",
       "    <tr>\n",
       "      <th>0</th>\n",
       "      <td>Barney</td>\n",
       "      <td>33</td>\n",
       "      <td>4</td>\n",
       "      <td>Adult</td>\n",
       "      <td>NaN</td>\n",
       "    </tr>\n",
       "    <tr>\n",
       "      <th>1</th>\n",
       "      <td>Jess</td>\n",
       "      <td>25</td>\n",
       "      <td>6</td>\n",
       "      <td>Adult</td>\n",
       "      <td>10.0</td>\n",
       "    </tr>\n",
       "    <tr>\n",
       "      <th>2</th>\n",
       "      <td>John</td>\n",
       "      <td>22</td>\n",
       "      <td>2</td>\n",
       "      <td>Adult</td>\n",
       "      <td>NaN</td>\n",
       "    </tr>\n",
       "    <tr>\n",
       "      <th>3</th>\n",
       "      <td>Jordan</td>\n",
       "      <td>35</td>\n",
       "      <td>5</td>\n",
       "      <td>Adult</td>\n",
       "      <td>NaN</td>\n",
       "    </tr>\n",
       "    <tr>\n",
       "      <th>4</th>\n",
       "      <td>Rebecca</td>\n",
       "      <td>18</td>\n",
       "      <td>8</td>\n",
       "      <td>Teenager</td>\n",
       "      <td>NaN</td>\n",
       "    </tr>\n",
       "  </tbody>\n",
       "</table>\n",
       "</div>"
      ],
      "text/plain": [
       "     names ages  tenure age_group  ratings\n",
       "0   Barney   33       4     Adult      NaN\n",
       "1     Jess   25       6     Adult     10.0\n",
       "2     John   22       2     Adult      NaN\n",
       "3   Jordan   35       5     Adult      NaN\n",
       "4  Rebecca   18       8  Teenager      NaN"
      ]
     },
     "execution_count": 68,
     "metadata": {},
     "output_type": "execute_result"
    }
   ],
   "source": [
    "#outer join\n",
    "#performing outer join on data frames\n",
    "\n",
    "all_ratings = df.merge(ratings, on = \"names\", how=\"outer\")\n",
    "all_ratings.head()"
   ]
  },
  {
   "cell_type": "markdown",
   "id": "95558c34",
   "metadata": {},
   "source": [
    "TUESDAY EXERCISE"
   ]
  },
  {
   "cell_type": "code",
   "execution_count": 4,
   "id": "958385b0",
   "metadata": {},
   "outputs": [
    {
     "data": {
      "text/html": [
       "<div>\n",
       "<style scoped>\n",
       "    .dataframe tbody tr th:only-of-type {\n",
       "        vertical-align: middle;\n",
       "    }\n",
       "\n",
       "    .dataframe tbody tr th {\n",
       "        vertical-align: top;\n",
       "    }\n",
       "\n",
       "    .dataframe thead th {\n",
       "        text-align: right;\n",
       "    }\n",
       "</style>\n",
       "<table border=\"1\" class=\"dataframe\">\n",
       "  <thead>\n",
       "    <tr style=\"text-align: right;\">\n",
       "      <th></th>\n",
       "      <th>PLAYER</th>\n",
       "      <th>NATIONALITY</th>\n",
       "      <th>TYPE</th>\n",
       "      <th>PRICE</th>\n",
       "      <th>SOLD/UNSOLD</th>\n",
       "      <th>TEAM</th>\n",
       "      <th>YEAR</th>\n",
       "    </tr>\n",
       "  </thead>\n",
       "  <tbody>\n",
       "    <tr>\n",
       "      <th>0</th>\n",
       "      <td>Robin Uthappa</td>\n",
       "      <td>Indian</td>\n",
       "      <td>Batsman</td>\n",
       "      <td>20000000</td>\n",
       "      <td>SOLD</td>\n",
       "      <td>Chennai Super Kings</td>\n",
       "      <td>2022</td>\n",
       "    </tr>\n",
       "    <tr>\n",
       "      <th>1</th>\n",
       "      <td>Dwayne Bravo</td>\n",
       "      <td>Overseas</td>\n",
       "      <td>All-Rounder</td>\n",
       "      <td>44000000</td>\n",
       "      <td>SOLD</td>\n",
       "      <td>Chennai Super Kings</td>\n",
       "      <td>2022</td>\n",
       "    </tr>\n",
       "    <tr>\n",
       "      <th>2</th>\n",
       "      <td>Ambati Rayudu</td>\n",
       "      <td>Indian</td>\n",
       "      <td>Wicket Keeper</td>\n",
       "      <td>67500000</td>\n",
       "      <td>SOLD</td>\n",
       "      <td>Chennai Super Kings</td>\n",
       "      <td>2022</td>\n",
       "    </tr>\n",
       "    <tr>\n",
       "      <th>3</th>\n",
       "      <td>Deepak Chahar</td>\n",
       "      <td>Indian</td>\n",
       "      <td>Bowler</td>\n",
       "      <td>140000000</td>\n",
       "      <td>SOLD</td>\n",
       "      <td>Chennai Super Kings</td>\n",
       "      <td>2022</td>\n",
       "    </tr>\n",
       "    <tr>\n",
       "      <th>4</th>\n",
       "      <td>C.Hari Nishaanth</td>\n",
       "      <td>Indian</td>\n",
       "      <td>Batsman</td>\n",
       "      <td>2000000</td>\n",
       "      <td>SOLD</td>\n",
       "      <td>Chennai Super Kings</td>\n",
       "      <td>2022</td>\n",
       "    </tr>\n",
       "    <tr>\n",
       "      <th>5</th>\n",
       "      <td>N. Jagadeesan</td>\n",
       "      <td>Indian</td>\n",
       "      <td>Wicket Keeper</td>\n",
       "      <td>2000000</td>\n",
       "      <td>SOLD</td>\n",
       "      <td>Chennai Super Kings</td>\n",
       "      <td>2022</td>\n",
       "    </tr>\n",
       "    <tr>\n",
       "      <th>6</th>\n",
       "      <td>K.M. Asif</td>\n",
       "      <td>Indian</td>\n",
       "      <td>Bowler</td>\n",
       "      <td>2000000</td>\n",
       "      <td>SOLD</td>\n",
       "      <td>Chennai Super Kings</td>\n",
       "      <td>2022</td>\n",
       "    </tr>\n",
       "    <tr>\n",
       "      <th>7</th>\n",
       "      <td>Tushar Deshpande</td>\n",
       "      <td>Indian</td>\n",
       "      <td>Bowler</td>\n",
       "      <td>2000000</td>\n",
       "      <td>SOLD</td>\n",
       "      <td>Chennai Super Kings</td>\n",
       "      <td>2022</td>\n",
       "    </tr>\n",
       "    <tr>\n",
       "      <th>8</th>\n",
       "      <td>Shivam Dube</td>\n",
       "      <td>Indian</td>\n",
       "      <td>All-Rounder</td>\n",
       "      <td>40000000</td>\n",
       "      <td>SOLD</td>\n",
       "      <td>Chennai Super Kings</td>\n",
       "      <td>2022</td>\n",
       "    </tr>\n",
       "    <tr>\n",
       "      <th>9</th>\n",
       "      <td>Chris Jordan</td>\n",
       "      <td>Overseas</td>\n",
       "      <td>All-Rounder</td>\n",
       "      <td>36000000</td>\n",
       "      <td>SOLD</td>\n",
       "      <td>Chennai Super Kings</td>\n",
       "      <td>2022</td>\n",
       "    </tr>\n",
       "  </tbody>\n",
       "</table>\n",
       "</div>"
      ],
      "text/plain": [
       "             PLAYER NATIONALITY           TYPE      PRICE SOLD/UNSOLD  \\\n",
       "0     Robin Uthappa      Indian        Batsman   20000000        SOLD   \n",
       "1      Dwayne Bravo    Overseas    All-Rounder   44000000        SOLD   \n",
       "2     Ambati Rayudu      Indian  Wicket Keeper   67500000        SOLD   \n",
       "3     Deepak Chahar      Indian         Bowler  140000000        SOLD   \n",
       "4  C.Hari Nishaanth      Indian        Batsman    2000000        SOLD   \n",
       "5     N. Jagadeesan      Indian  Wicket Keeper    2000000        SOLD   \n",
       "6         K.M. Asif      Indian         Bowler    2000000        SOLD   \n",
       "7  Tushar Deshpande      Indian         Bowler    2000000        SOLD   \n",
       "8       Shivam Dube      Indian    All-Rounder   40000000        SOLD   \n",
       "9      Chris Jordan    Overseas    All-Rounder   36000000        SOLD   \n",
       "\n",
       "                  TEAM  YEAR  \n",
       "0  Chennai Super Kings  2022  \n",
       "1  Chennai Super Kings  2022  \n",
       "2  Chennai Super Kings  2022  \n",
       "3  Chennai Super Kings  2022  \n",
       "4  Chennai Super Kings  2022  \n",
       "5  Chennai Super Kings  2022  \n",
       "6  Chennai Super Kings  2022  \n",
       "7  Chennai Super Kings  2022  \n",
       "8  Chennai Super Kings  2022  \n",
       "9  Chennai Super Kings  2022  "
      ]
     },
     "execution_count": 4,
     "metadata": {},
     "output_type": "execute_result"
    }
   ],
   "source": [
    "# Loading a Dataset: Go to www.Kaggle.com, click “Datasets” in the top\n",
    "# bar menu. Choose a dataset that you like, and download it into the “python_\n",
    "# bootcamp” folder. Then, load the dataset into a Pandas DataFrame using the\n",
    "# read_csv method, and display the top five records.\n",
    "\n",
    "import pandas as pd\n",
    "\n",
    "dataset = pd.read_csv(\"IPL_AUCTION_2013-2022.csv\")\n",
    "dataset.head(10)"
   ]
  },
  {
   "cell_type": "code",
   "execution_count": 5,
   "id": "21bda889",
   "metadata": {},
   "outputs": [
    {
     "name": "stdout",
     "output_type": "stream",
     "text": [
      "3862\n"
     ]
    }
   ],
   "source": [
    "# Dataset Analysis: This is an open-ended exercise. Run some analysis on the\n",
    "# dataset you chose from exercise #1. Try to answer questions like these:\n",
    "# a. How many records are there?\n",
    "# b. What are the data types of each column?\n",
    "# c. Are there duplicate records or columns?\n",
    "# d. Is there missing data?\n",
    "# e. Is there a correlation between two or more columns?\n",
    "\n",
    "#a. How many records are there?\n",
    "\n",
    "index = dataset.index\n",
    "print(len(index))\n",
    "\n"
   ]
  },
  {
   "cell_type": "markdown",
   "id": "d1c42ddc",
   "metadata": {},
   "source": [
    "Matplotlib"
   ]
  },
  {
   "cell_type": "code",
   "execution_count": 9,
   "id": "dcd9a743",
   "metadata": {},
   "outputs": [],
   "source": [
    "#importing matplotlib\n",
    "\n",
    "from matplotlib import pyplot as plt\n"
   ]
  },
  {
   "cell_type": "markdown",
   "id": "eafe103d",
   "metadata": {},
   "source": [
    "Line Plot"
   ]
  },
  {
   "cell_type": "code",
   "execution_count": 12,
   "id": "5ac7b5f5",
   "metadata": {},
   "outputs": [
    {
     "data": {
      "image/png": "[encoded data removed]",
      "text/plain": [
       "<Figure size 432x288 with 1 Axes>"
      ]
     },
     "metadata": {
      "needs_background": "light"
     },
     "output_type": "display_data"
    }
   ],
   "source": [
    "#creating a lineplot using x and y co-ordinates\n",
    "\n",
    "x,y = [1600, 1700, 1800, 1900, 2000], [0.2, 0.5, 1.1, 2.2, 7.7]\n",
    "plt.plot(x, y)\n",
    "plt.title(\"World population over time\")\n",
    "plt.xlabel(\"Year\")\n",
    "plt.ylabel(\"Population(billions)\")\n",
    "plt.show()"
   ]
  },
  {
   "cell_type": "code",
   "execution_count": 15,
   "id": "30133a92",
   "metadata": {},
   "outputs": [
    {
     "data": {
      "image/png": "[encoded data removed]",
      "text/plain": [
       "<Figure size 432x288 with 1 Axes>"
      ]
     },
     "metadata": {
      "needs_background": "light"
     },
     "output_type": "display_data"
    }
   ],
   "source": [
    "#creating a line plot with multiple lines\n",
    "\n",
    "x1, y1 = [1600, 1700, 1800, 1900, 2000], [0.2, 0.5, 1.1, 2.2, 7.7]\n",
    "x2, y2 = [1600, 1700, 1800, 1900, 2000], [1, 1, 2, 3, 4]\n",
    "\n",
    "plt.plot(x1, y1 , \"rx-\", label = \"Actual\")\n",
    "plt.plot(x2, y2 , \"bo-\", label = \"Fake\")\n",
    "plt.xlabel(\"Year\")\n",
    "plt.ylabel(\"Population(billions)\")\n",
    "plt.legend() #shows label in the corner\n",
    "plt.show()"
   ]
  },
  {
   "cell_type": "code",
   "execution_count": 16,
   "id": "7a3b48a0",
   "metadata": {},
   "outputs": [
    {
     "data": {
      "image/png": "[encoded data removed]",
      "text/plain": [
       "<Figure size 432x288 with 1 Axes>"
      ]
     },
     "metadata": {
      "needs_background": "light"
     },
     "output_type": "display_data"
    }
   ],
   "source": [
    "num_people, categories = [ 4, 8, 3, 6, 2 ] , [ \"Comedy\", \"Action\",\"Thriller\", \"Romance\", \"Horror\" ]\n",
    "\n",
    "plt.bar(categories, num_people)\n",
    "plt.title(\"Favorite Movie Category\", fontsize=24)\n",
    "plt.xlabel(\"Category\", fontsize=16)\n",
    "plt.ylabel(\"# of People\", fontsize=16)\n",
    "plt.xticks(fontname=\"Fantasy\")\n",
    "plt.yticks(fontname=\"Fantasy\")\n",
    "plt.show( )"
   ]
  },
  {
   "cell_type": "code",
   "execution_count": 21,
   "id": "cf45d3d6",
   "metadata": {},
   "outputs": [
    {
     "data": {
      "image/png": "[encoded data removed]",
      "text/plain": [
       "<Figure size 1080x576 with 1 Axes>"
      ]
     },
     "metadata": {
      "needs_background": "light"
     },
     "output_type": "display_data"
    }
   ],
   "source": [
    "#creating a box plot for shoeing height data for male and female\n",
    "\n",
    "males, females = [72, 68, 65, 77, 73, 71, 69], [60, 65, 68, 61, 63, 64]\n",
    "heights = [males, females]\n",
    "plt.figure(figsize=(15, 8))#makes chart bigger\n",
    "plt.boxplot(heights)#takes data from lists\n",
    "\n",
    "plt.xticks([1, 2], [\"Male\", \"Female\"])\n",
    "plt.title(\"Height by Gender\", fontsize = 22)\n",
    "plt.ylabel(\"Height (inches)\", fontsize = 14)\n",
    "plt.xlabel(\"Gender\", fontsize = 14)\n",
    "plt.show()\n",
    "\n"
   ]
  },
  {
   "cell_type": "code",
   "execution_count": 23,
   "id": "70ee4705",
   "metadata": {},
   "outputs": [
    {
     "data": {
      "image/png": "[encoded data removed]",
      "text/plain": [
       "<Figure size 432x288 with 1 Axes>"
      ]
     },
     "metadata": {
      "needs_background": "light"
     },
     "output_type": "display_data"
    }
   ],
   "source": [
    "#creating a scatter plot to represent height-weight distribution\n",
    "\n",
    "import random\n",
    "from random import randint\n",
    "\n",
    "random.seed(2)\n",
    "\n",
    "height = [randint(57, 78) for x in range(20)]\n",
    "weight = [randint(90, 250) for x in range(20)]\n",
    "\n",
    "plt.scatter(weight, height)\n",
    "plt.title(\"Height Weight Distribution\")\n",
    "plt.xlabel(\"Weight (lbs)\")\n",
    "plt.ylabel(\"Height (inches)\")\n",
    "\n",
    "plt.show()\n"
   ]
  },
  {
   "cell_type": "code",
   "execution_count": 26,
   "id": "d097088c",
   "metadata": {},
   "outputs": [
    {
     "data": {
      "image/png": "[encoded data removed]",
      "text/plain": [
       "<Figure size 432x288 with 1 Axes>"
      ]
     },
     "metadata": {
      "needs_background": "light"
     },
     "output_type": "display_data"
    }
   ],
   "source": [
    "#creating a histogram to show age data for fake population\n",
    "import numpy as np\n",
    "np.random.seed(5)\n",
    "\n",
    "ages = [np.random.normal(loc = 40, scale=10) for x in range(1000)] #ages distributed around 40\n",
    "\n",
    "plt.hist(ages, bins=45)\n",
    "plt.title(\"Ages per Population\")\n",
    "plt.xlabel(\"Age\")\n",
    "plt.ylabel(\"# of People\")\n",
    "\n",
    "plt.show()"
   ]
  },
  {
   "cell_type": "code",
   "execution_count": 27,
   "id": "780058e9",
   "metadata": {},
   "outputs": [
    {
     "data": {
      "image/png": "[encoded data removed]",
      "text/plain": [
       "<Figure size 432x288 with 1 Axes>"
      ]
     },
     "metadata": {
      "needs_background": "light"
     },
     "output_type": "display_data"
    }
   ],
   "source": [
    "#showing the importance of hostogram's display central distribution\n",
    "\n",
    "florida = [np.random.normal(loc=60, scale=15) for x in range(1000)]\n",
    "california = [ np.random.normal(loc=35, scale=5) for x in range(1000) ]\n",
    "\n",
    "plt.hist(florida, bins=45, color=\"r\", alpha=0.4)\n",
    "\n",
    "plt.hist(california, bins=45, color=\"b\", alpha=0.4)\n",
    "\n",
    "plt.hist(florida, bins=45, color=\"r\", alpha=0.4)\n",
    "\n",
    "plt.hist(california, bins=45, color=\"b\", alpha=0.4)\n",
    "\n",
    "plt.show()\n",
    "\n",
    "# When rendering several charts, matplotlib understands how to separate\n",
    "# each plot by resetting the chart to empty after the show method is run, until then\n",
    "# all information being plotted will be included in one chart."
   ]
  },
  {
   "cell_type": "code",
   "execution_count": 29,
   "id": "cf216866",
   "metadata": {},
   "outputs": [
    {
     "data": {
      "image/png": "[encoded data removed]",
      "text/plain": [
       "<Figure size 432x288 with 1 Axes>"
      ]
     },
     "metadata": {
      "needs_background": "light"
     },
     "output_type": "display_data"
    }
   ],
   "source": [
    "#using savefig method to save the chart as jpg to the local folder\n",
    "x, y = [ 1600, 1700, 1800, 1900, 2000 ] , [ 0.2, 0.5, 1.1, 2.2, 7.7 ]\n",
    "\n",
    "plt.plot(x, y, \"bo-\")\n",
    "plt.title(\"World Population Over Time\")\n",
    "plt.xlabel(\"Year\")\n",
    "plt.ylabel(\"Population (billions)\")\n",
    "plt.savefig(\"population.jpg\")"
   ]
  },
  {
   "cell_type": "markdown",
   "id": "c8c424e8",
   "metadata": {},
   "source": [
    "Flattening Multi-Dimentional Data"
   ]
  },
  {
   "cell_type": "code",
   "execution_count": 30,
   "id": "314801d5",
   "metadata": {},
   "outputs": [
    {
     "data": {
      "image/png": "[encoded data removed]",
      "text/plain": [
       "<Figure size 432x288 with 2 Axes>"
      ]
     },
     "metadata": {
      "needs_background": "light"
     },
     "output_type": "display_data"
    }
   ],
   "source": [
    "#create s scatter plot to represent height and weight distribution\n",
    "\n",
    "from random import randint\n",
    "random.seed(2)\n",
    "height = [randint(58, 78) for x in range(20)]\n",
    "weight = [randint(90, 250) for x in range(20)]\n",
    "age = [ randint(18, 65) for x in range(20) ]\n",
    "\n",
    "plt.scatter(weight, height, c=age)\n",
    "plt.title(\"Height-Weight Distribution\")\n",
    "plt.xlabel(\"Weight (lbs)\")\n",
    "plt.ylabel(\"Height (inches)\")\n",
    "plt.colorbar(label=\"Age\")\n",
    "\n",
    "plt.show()"
   ]
  },
  {
   "cell_type": "markdown",
   "id": "9595fb72",
   "metadata": {},
   "source": [
    "WEDNESDAY EXERCISES"
   ]
  },
  {
   "cell_type": "code",
   "execution_count": 46,
   "id": "8e9fdfb8",
   "metadata": {},
   "outputs": [
    {
     "data": {
      "image/png": "[encoded data removed]",
      "text/plain": [
       "<Figure size 432x288 with 1 Axes>"
      ]
     },
     "metadata": {
      "needs_background": "light"
     },
     "output_type": "display_data"
    }
   ],
   "source": [
    "# Three Line Plot: Create three random lists of data that have 20 numbers\n",
    "# between 1 and 10. Then create a line plot with three lines, one for each list.\n",
    "# Give each line their own color, dot symbol, and line style.\n",
    "\n",
    "from random import randint\n",
    "random.seed(2)\n",
    "\n",
    "list1 = sorted([randint(1, 11) for x in range(20)])\n",
    "list2 = sorted([randint(1, 11) for x in range(20)])\n",
    "list3 = sorted([randint(1, 11) for x in range(20)])\n",
    "\n",
    "points = [x for x in range(1, 21)]\n",
    "\n",
    "plt.plot(list1, points, \"rx-\", label = \"fake3\")\n",
    "plt.plot(list2, points, \"bo-\", label = \"fake1\")\n",
    "plt.plot(list3, points, \"c--\", label = \"fake2\")\n",
    "\n",
    "plt.show()"
   ]
  },
  {
   "cell_type": "code",
   "execution_count": null,
   "id": "a1a7e468",
   "metadata": {},
   "outputs": [],
   "source": [
    "# User Information: Create a program that asks any number of users to give a\n",
    "# rating between 1 and 5 stars and plots a bar chart of the data when no more\n",
    "# users would like to answer. Use the following text as an example of what to ask:\n",
    "# >>> What would you rate this movie (1-5)? 4\n",
    "# >>> Is there another user that would like to review (y/n)? y\n",
    "# >>> What would you rate this movie (1-5)? 5\n",
    "# >>> Is there another user that would like to review (y/n)? n\n",
    "# *** bar plot renders with two categories and two ratings ***\n",
    "\n",
    "\n",
    "rating = input(What would you rate this movie (1-5)?)"
   ]
  }
 ],
 "metadata": {
  "kernelspec": {
   "display_name": "Python 3 (ipykernel)",
   "language": "python",
   "name": "python3"
  },
  "language_info": {
   "codemirror_mode": {
    "name": "ipython",
    "version": 3
   },
   "file_extension": ".py",
   "mimetype": "text/x-python",
   "name": "python",
   "nbconvert_exporter": "python",
   "pygments_lexer": "ipython3",
   "version": "3.9.7"
  }
 },
 "nbformat": 4,
 "nbformat_minor": 5
}
