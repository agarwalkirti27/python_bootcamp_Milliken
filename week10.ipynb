{
 "cells": [
  {
   "cell_type": "markdown",
   "id": "45b12abb",
   "metadata": {},
   "source": [
    "Virtual Environments and Requests Module"
   ]
  },
  {
   "cell_type": "code",
   "execution_count": 3,
   "id": "e361f975",
   "metadata": {
    "scrolled": false
   },
   "outputs": [
    {
     "name": "stdout",
     "output_type": "stream",
     "text": [
      "<Response [200]>\n",
      "<class 'requests.models.Response'>\n"
     ]
    }
   ],
   "source": [
    "#sending a request and logging the response code\n",
    "import requests\n",
    "r = requests.get(\"https://api.github.com/users/agarwalkirti27\")\n",
    "print(r)\n",
    "print(type(r))"
   ]
  },
  {
   "cell_type": "code",
   "execution_count": 4,
   "id": "af589594",
   "metadata": {
    "scrolled": false
   },
   "outputs": [
    {
     "name": "stdout",
     "output_type": "stream",
     "text": [
      "b'{\"login\":\"agarwalkirti27\",\"id\":27546532,\"node_id\":\"MDQ6VXNlcjI3NTQ2NTMy\",\"avatar_url\":\"https://avatars.githubusercontent.com/u/27546532?v=4\",\"gravatar_id\":\"\",\"url\":\"https://api.github.com/users/agarwalkirti27\",\"html_url\":\"https://github.com/agarwalkirti27\",\"followers_url\":\"https://api.github.com/users/agarwalkirti27/followers\",\"following_url\":\"https://api.github.com/users/agarwalkirti27/following{/other_user}\",\"gists_url\":\"https://api.github.com/users/agarwalkirti27/gists{/gist_id}\",\"starred_url\":\"https://api.github.com/users/agarwalkirti27/starred{/owner}{/repo}\",\"subscriptions_url\":\"https://api.github.com/users/agarwalkirti27/subscriptions\",\"organizations_url\":\"https://api.github.com/users/agarwalkirti27/orgs\",\"repos_url\":\"https://api.github.com/users/agarwalkirti27/repos\",\"events_url\":\"https://api.github.com/users/agarwalkirti27/events{/privacy}\",\"received_events_url\":\"https://api.github.com/users/agarwalkirti27/received_events\",\"type\":\"User\",\"site_admin\":false,\"name\":\"writekirti\",\"company\":\"JPMC\",\"blog\":\"\",\"location\":\"India\",\"email\":null,\"hireable\":null,\"bio\":null,\"twitter_username\":\"agarwalkirti27\",\"public_repos\":8,\"public_gists\":0,\"followers\":0,\"following\":1,\"created_at\":\"2017-04-15T08:00:55Z\",\"updated_at\":\"2022-02-07T16:08:43Z\"}'\n"
     ]
    }
   ],
   "source": [
    "#accessing the content that we requested from the URL\n",
    "\n",
    "data = r.content\n",
    "print(data)"
   ]
  },
  {
   "cell_type": "code",
   "execution_count": 5,
   "id": "66b56908",
   "metadata": {
    "scrolled": true
   },
   "outputs": [
    {
     "name": "stdout",
     "output_type": "stream",
     "text": [
      "key: login\t values: agarwalkirti27\n",
      "key: id\t values: 27546532\n",
      "key: node_id\t values: MDQ6VXNlcjI3NTQ2NTMy\n",
      "key: avatar_url\t values: https://avatars.githubusercontent.com/u/27546532?v=4\n",
      "key: gravatar_id\t values: \n",
      "key: url\t values: https://api.github.com/users/agarwalkirti27\n",
      "key: html_url\t values: https://github.com/agarwalkirti27\n",
      "key: followers_url\t values: https://api.github.com/users/agarwalkirti27/followers\n",
      "key: following_url\t values: https://api.github.com/users/agarwalkirti27/following{/other_user}\n",
      "key: gists_url\t values: https://api.github.com/users/agarwalkirti27/gists{/gist_id}\n",
      "key: starred_url\t values: https://api.github.com/users/agarwalkirti27/starred{/owner}{/repo}\n",
      "key: subscriptions_url\t values: https://api.github.com/users/agarwalkirti27/subscriptions\n",
      "key: organizations_url\t values: https://api.github.com/users/agarwalkirti27/orgs\n",
      "key: repos_url\t values: https://api.github.com/users/agarwalkirti27/repos\n",
      "key: events_url\t values: https://api.github.com/users/agarwalkirti27/events{/privacy}\n",
      "key: received_events_url\t values: https://api.github.com/users/agarwalkirti27/received_events\n",
      "key: type\t values: User\n",
      "key: site_admin\t values: False\n",
      "key: name\t values: writekirti\n",
      "key: company\t values: JPMC\n",
      "key: blog\t values: \n",
      "key: location\t values: India\n",
      "key: email\t values: None\n",
      "key: hireable\t values: None\n",
      "key: bio\t values: None\n",
      "key: twitter_username\t values: agarwalkirti27\n",
      "key: public_repos\t values: 8\n",
      "key: public_gists\t values: 0\n",
      "key: followers\t values: 0\n",
      "key: following\t values: 1\n",
      "key: created_at\t values: 2017-04-15T08:00:55Z\n",
      "key: updated_at\t values: 2022-02-07T16:08:43Z\n",
      "writekirti\n"
     ]
    }
   ],
   "source": [
    "#converting data into json \n",
    "\n",
    "data = r.json()\n",
    "for k,v in data.items():\n",
    "    print(\"key: {}\\t values: {}\".format(k, v))\n",
    "print(data[\"name\"])"
   ]
  },
  {
   "cell_type": "code",
   "execution_count": 6,
   "id": "42fb0d6f",
   "metadata": {},
   "outputs": [
    {
     "name": "stdout",
     "output_type": "stream",
     "text": [
      "8021342\n"
     ]
    }
   ],
   "source": [
    "# outputting specific key-value pairs from data\n",
    "r = requests. get(\"https://api.github.com/search/repositories?q=language:python\")\n",
    "data = r.json( )\n",
    "print(data[\"total_count\"])"
   ]
  },
  {
   "cell_type": "markdown",
   "id": "1b72c9e1",
   "metadata": {},
   "source": [
    "Monday Exercise"
   ]
  },
  {
   "cell_type": "code",
   "execution_count": null,
   "id": "3561a5d6",
   "metadata": {},
   "outputs": [],
   "source": [
    "# Test Environment: Create a new virtual environment called “test.” When\n",
    "# creating it, install Python version 2.7 instead of the current version. After\n",
    "# it’s completed, make sure it installed the proper version of Python by\n",
    "# checking the list.\n",
    "\n",
    "# conda create --name test pyhton=2.7"
   ]
  },
  {
   "cell_type": "code",
   "execution_count": 7,
   "id": "91128ebb",
   "metadata": {
    "scrolled": true
   },
   "outputs": [
    {
     "name": "stdout",
     "output_type": "stream",
     "text": [
      "13531308\n"
     ]
    }
   ],
   "source": [
    "# JavaScript Repositories: Using the requests module and the Github API link in\n",
    "# our last lesson, figure out how many repositories on Github use JavaScript.\n",
    "\n",
    "r = requests. get(\"https://api.github.com/search/repositories?q=language:JavaScript\")\n",
    "data = r.json( )\n",
    "print(data[\"total_count\"])"
   ]
  },
  {
   "cell_type": "code",
   "execution_count": 8,
   "id": "baa2b136",
   "metadata": {},
   "outputs": [],
   "source": [
    "#Pandas\n",
    "#High performance, highly efficient, high level data analysis library\n",
    "#written in C\n",
    "#allows us to work with large datasets called data frames\n",
    "# NumPy is a fundamental package for scientific computing in Python. Built\n",
    "# from the C language, it uses multidimensional arrays and can perform calculations\n",
    "# at high-rate speeds.\n"
   ]
  },
  {
   "cell_type": "code",
   "execution_count": null,
   "id": "eaf36d33",
   "metadata": {},
   "outputs": [],
   "source": [
    "# • Series ➤ One-dimensional labeled array capable of holding data of\n",
    "# any type\n",
    "# • DataFrame ➤ Spreadsheet\n",
    "# • Axis ➤ Column or row, axis = 0 by row; axis = 1 by column\n",
    "# • Record ➤ A single row\n",
    "# • dtype ➤ Data type for DataFrame or series object\n",
    "# • Time Series ➤ Series object that uses time intervals, like tracking\n",
    "# weather by the hour"
   ]
  },
  {
   "cell_type": "code",
   "execution_count": 16,
   "id": "160037fa",
   "metadata": {},
   "outputs": [
    {
     "name": "stdout",
     "output_type": "stream",
     "text": [
      "     names  ages\n",
      "0     Jess    25\n",
      "1   Jordan    35\n",
      "2     John    22\n",
      "3      Ted    29\n",
      "4   Barney    33\n",
      "5    Tyler    20\n",
      "6  Rebecca    18\n",
      "29\n",
      "names    Jess\n",
      "ages       25\n",
      "Name: 0, dtype: object\n",
      "Jess\n"
     ]
    }
   ],
   "source": [
    "#Pandas\n",
    "\n",
    "import pandas as pd\n",
    "\n",
    "#using the from_dict method to convert a dictionary into Pandas Data Frame\n",
    "import random\n",
    "\n",
    "random.seed(3)\n",
    "names = [\"Jess\", \"Jordan\", \"John\", \"Ted\", \"Barney\", \"Tyler\", \"Rebecca\"]\n",
    "ages = [random.randint(18, 35) for x in range(len(names))]\n",
    "\n",
    "people = {\"names\" : names, \"ages\":ages}\n",
    "df = pd.DataFrame.from_dict(people)\n",
    "\n",
    "print(df)\n",
    "\n",
    "#indexing by column\n",
    "print(df[\"ages\"][3])\n",
    "\n",
    "#indexing by record\n",
    "#directly selecting a record in pandas using loc\n",
    "\n",
    "print(df.loc[0])\n",
    "print(df.loc[0][\"names\"])\n"
   ]
  },
  {
   "cell_type": "code",
   "execution_count": 22,
   "id": "329ad0b3",
   "metadata": {
    "scrolled": true
   },
   "outputs": [
    {
     "name": "stdout",
     "output_type": "stream",
     "text": [
      "  names  ages\n",
      "2  John    22\n",
      "3   Ted    29\n"
     ]
    }
   ],
   "source": [
    "#slicing dataframe to grab a specific number of records\n",
    "\n",
    "print(df[2:4])"
   ]
  },
  {
   "cell_type": "code",
   "execution_count": 23,
   "id": "d32af653",
   "metadata": {},
   "outputs": [
    {
     "name": "stdout",
     "output_type": "stream",
     "text": [
      "    names  ages\n",
      "0    Jess    25\n",
      "1  Jordan    35\n",
      "2    John    22\n",
      "3     Ted    29\n",
      "4  Barney    33\n"
     ]
    }
   ],
   "source": [
    "#head()\n",
    "\n",
    "#accessing top5 records using head method\n",
    "\n",
    "print(df.head(5))"
   ]
  },
  {
   "cell_type": "code",
   "execution_count": 25,
   "id": "024d1f52",
   "metadata": {},
   "outputs": [
    {
     "name": "stdout",
     "output_type": "stream",
     "text": [
      "     names  ages\n",
      "4   Barney    33\n",
      "5    Tyler    20\n",
      "6  Rebecca    18\n"
     ]
    }
   ],
   "source": [
    "#tail()\n",
    "#accessing bottom 3 records using tail()\n",
    "\n",
    "print(df.tail(3))"
   ]
  },
  {
   "cell_type": "code",
   "execution_count": 26,
   "id": "86b653a5",
   "metadata": {},
   "outputs": [
    {
     "name": "stdout",
     "output_type": "stream",
     "text": [
      "Index(['names', 'ages'], dtype='object')\n"
     ]
    }
   ],
   "source": [
    "#keys()\n",
    "\n",
    "#accessing the coulumn header using keys method\n",
    "\n",
    "headers = df.keys()\n",
    "print(headers)"
   ]
  },
  {
   "cell_type": "code",
   "execution_count": null,
   "id": "036dea61",
   "metadata": {},
   "outputs": [],
   "source": []
  }
 ],
 "metadata": {
  "kernelspec": {
   "display_name": "Python 3 (ipykernel)",
   "language": "python",
   "name": "python3"
  },
  "language_info": {
   "codemirror_mode": {
    "name": "ipython",
    "version": 3
   },
   "file_extension": ".py",
   "mimetype": "text/x-python",
   "name": "python",
   "nbconvert_exporter": "python",
   "pygments_lexer": "ipython3",
   "version": "3.9.7"
  }
 },
 "nbformat": 4,
 "nbformat_minor": 5
}
